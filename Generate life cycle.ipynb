{
 "cells": [
  {
   "cell_type": "code",
   "execution_count": 37,
   "metadata": {
    "collapsed": true
   },
   "outputs": [],
   "source": [
    "import pandas as pd\n",
    "import numpy as np\n",
    "import matplotlib.pyplot as plt  \n",
    "import pickle\n",
    "from collections import Counter\n",
    "from scipy import stats"
   ]
  },
  {
   "cell_type": "code",
   "execution_count": 2,
   "metadata": {
    "collapsed": true
   },
   "outputs": [],
   "source": [
    "trip = pd.read_csv('trim_bay_2min_6hours.csv', index_col=False)"
   ]
  },
  {
   "cell_type": "code",
   "execution_count": 3,
   "metadata": {
    "collapsed": false
   },
   "outputs": [
    {
     "data": {
      "text/html": [
       "<div>\n",
       "<style>\n",
       "    .dataframe thead tr:only-child th {\n",
       "        text-align: right;\n",
       "    }\n",
       "\n",
       "    .dataframe thead th {\n",
       "        text-align: left;\n",
       "    }\n",
       "\n",
       "    .dataframe tbody tr th {\n",
       "        vertical-align: top;\n",
       "    }\n",
       "</style>\n",
       "<table border=\"1\" class=\"dataframe\">\n",
       "  <thead>\n",
       "    <tr style=\"text-align: right;\">\n",
       "      <th></th>\n",
       "      <th>Unnamed: 0</th>\n",
       "      <th>Unnamed: 0.1</th>\n",
       "      <th>id</th>\n",
       "      <th>duration</th>\n",
       "      <th>start_date</th>\n",
       "      <th>start_station_name</th>\n",
       "      <th>start_station_id</th>\n",
       "      <th>end_date</th>\n",
       "      <th>end_station_name</th>\n",
       "      <th>end_station_id</th>\n",
       "      <th>bike_id</th>\n",
       "      <th>subscription_type</th>\n",
       "      <th>zip_code</th>\n",
       "      <th>city</th>\n",
       "    </tr>\n",
       "  </thead>\n",
       "  <tbody>\n",
       "    <tr>\n",
       "      <th>0</th>\n",
       "      <td>10</td>\n",
       "      <td>10</td>\n",
       "      <td>4549</td>\n",
       "      <td>125</td>\n",
       "      <td>2013-08-29 13:52:00</td>\n",
       "      <td>Spear at Folsom</td>\n",
       "      <td>49</td>\n",
       "      <td>2013-08-29 13:55:00</td>\n",
       "      <td>Embarcadero at Bryant</td>\n",
       "      <td>54</td>\n",
       "      <td>368</td>\n",
       "      <td>Subscriber</td>\n",
       "      <td>94109</td>\n",
       "      <td>San Francisco</td>\n",
       "    </tr>\n",
       "    <tr>\n",
       "      <th>1</th>\n",
       "      <td>11</td>\n",
       "      <td>11</td>\n",
       "      <td>4498</td>\n",
       "      <td>126</td>\n",
       "      <td>2013-08-29 13:23:00</td>\n",
       "      <td>San Pedro Square</td>\n",
       "      <td>6</td>\n",
       "      <td>2013-08-29 13:25:00</td>\n",
       "      <td>Santa Clara at Almaden</td>\n",
       "      <td>4</td>\n",
       "      <td>26</td>\n",
       "      <td>Subscriber</td>\n",
       "      <td>95112</td>\n",
       "      <td>San Jose</td>\n",
       "    </tr>\n",
       "    <tr>\n",
       "      <th>2</th>\n",
       "      <td>12</td>\n",
       "      <td>12</td>\n",
       "      <td>4965</td>\n",
       "      <td>129</td>\n",
       "      <td>2013-08-29 19:32:00</td>\n",
       "      <td>Mountain View Caltrain Station</td>\n",
       "      <td>28</td>\n",
       "      <td>2013-08-29 19:35:00</td>\n",
       "      <td>Mountain View Caltrain Station</td>\n",
       "      <td>28</td>\n",
       "      <td>140</td>\n",
       "      <td>Subscriber</td>\n",
       "      <td>94041</td>\n",
       "      <td>Mountain View</td>\n",
       "    </tr>\n",
       "    <tr>\n",
       "      <th>3</th>\n",
       "      <td>13</td>\n",
       "      <td>13</td>\n",
       "      <td>4557</td>\n",
       "      <td>130</td>\n",
       "      <td>2013-08-29 13:57:00</td>\n",
       "      <td>2nd at South Park</td>\n",
       "      <td>64</td>\n",
       "      <td>2013-08-29 13:59:00</td>\n",
       "      <td>2nd at South Park</td>\n",
       "      <td>64</td>\n",
       "      <td>371</td>\n",
       "      <td>Subscriber</td>\n",
       "      <td>94122</td>\n",
       "      <td>San Francisco</td>\n",
       "    </tr>\n",
       "    <tr>\n",
       "      <th>4</th>\n",
       "      <td>14</td>\n",
       "      <td>14</td>\n",
       "      <td>4386</td>\n",
       "      <td>134</td>\n",
       "      <td>2013-08-29 12:31:00</td>\n",
       "      <td>Clay at Battery</td>\n",
       "      <td>41</td>\n",
       "      <td>2013-08-29 12:33:00</td>\n",
       "      <td>Beale at Market</td>\n",
       "      <td>56</td>\n",
       "      <td>503</td>\n",
       "      <td>Subscriber</td>\n",
       "      <td>94109</td>\n",
       "      <td>San Francisco</td>\n",
       "    </tr>\n",
       "  </tbody>\n",
       "</table>\n",
       "</div>"
      ],
      "text/plain": [
       "   Unnamed: 0  Unnamed: 0.1    id  duration           start_date  \\\n",
       "0          10            10  4549       125  2013-08-29 13:52:00   \n",
       "1          11            11  4498       126  2013-08-29 13:23:00   \n",
       "2          12            12  4965       129  2013-08-29 19:32:00   \n",
       "3          13            13  4557       130  2013-08-29 13:57:00   \n",
       "4          14            14  4386       134  2013-08-29 12:31:00   \n",
       "\n",
       "               start_station_name  start_station_id             end_date  \\\n",
       "0                 Spear at Folsom                49  2013-08-29 13:55:00   \n",
       "1                San Pedro Square                 6  2013-08-29 13:25:00   \n",
       "2  Mountain View Caltrain Station                28  2013-08-29 19:35:00   \n",
       "3               2nd at South Park                64  2013-08-29 13:59:00   \n",
       "4                 Clay at Battery                41  2013-08-29 12:33:00   \n",
       "\n",
       "                 end_station_name  end_station_id  bike_id subscription_type  \\\n",
       "0           Embarcadero at Bryant              54      368        Subscriber   \n",
       "1          Santa Clara at Almaden               4       26        Subscriber   \n",
       "2  Mountain View Caltrain Station              28      140        Subscriber   \n",
       "3               2nd at South Park              64      371        Subscriber   \n",
       "4                 Beale at Market              56      503        Subscriber   \n",
       "\n",
       "  zip_code           city  \n",
       "0    94109  San Francisco  \n",
       "1    95112       San Jose  \n",
       "2    94041  Mountain View  \n",
       "3    94122  San Francisco  \n",
       "4    94109  San Francisco  "
      ]
     },
     "execution_count": 3,
     "metadata": {},
     "output_type": "execute_result"
    }
   ],
   "source": [
    "trip.head()"
   ]
  },
  {
   "cell_type": "code",
   "execution_count": 4,
   "metadata": {
    "collapsed": false
   },
   "outputs": [
    {
     "data": {
      "text/plain": [
       "(661556, 14)"
      ]
     },
     "execution_count": 4,
     "metadata": {},
     "output_type": "execute_result"
    }
   ],
   "source": [
    "trip.shape"
   ]
  },
  {
   "cell_type": "code",
   "execution_count": 5,
   "metadata": {
    "collapsed": true
   },
   "outputs": [],
   "source": [
    "trip = trip.drop(['Unnamed: 0', 'Unnamed: 0.1'], 1)"
   ]
  },
  {
   "cell_type": "markdown",
   "metadata": {},
   "source": [
    "### check interval "
   ]
  },
  {
   "cell_type": "code",
   "execution_count": 29,
   "metadata": {
    "collapsed": true
   },
   "outputs": [],
   "source": [
    "def collectinterval(dataset):\n",
    "    #final_id_list = []\n",
    "    interval_list = []\n",
    "    bikeid = set(dataset.bike_id.unique())\n",
    "    for bike_id in bikeid:\n",
    "        temp = dataset[dataset['bike_id'] == bike_id] \n",
    "        temp.loc[:,'start_date'] =pd.to_datetime(temp['start_date'].values)\n",
    "        temp.loc[:,'end_date'] =pd.to_datetime(temp['end_date'].values)\n",
    "        temp = temp.sort_values(by=['start_date'])\n",
    "        for i in range(1, len(temp)):\n",
    "            t = ((temp.iloc[i].start_date-temp.iloc[i-1].end_date)/np.timedelta64(1, 'm')).astype(int)\n",
    "            interval_list.append(t)\n",
    "        #print(bike_id)\n",
    "    return interval_list"
   ]
  },
  {
   "cell_type": "code",
   "execution_count": 149,
   "metadata": {
    "collapsed": false
   },
   "outputs": [
    {
     "name": "stderr",
     "output_type": "stream",
     "text": [
      "C:\\Users\\Xuancheng Fan\\AppData\\Local\\Programs\\Python\\Python35\\lib\\site-packages\\pandas\\core\\indexing.py:517: SettingWithCopyWarning: \n",
      "A value is trying to be set on a copy of a slice from a DataFrame.\n",
      "Try using .loc[row_indexer,col_indexer] = value instead\n",
      "\n",
      "See the caveats in the documentation: http://pandas.pydata.org/pandas-docs/stable/indexing.html#indexing-view-versus-copy\n",
      "  self.obj[item] = s\n"
     ]
    }
   ],
   "source": [
    "interval_list = collectinterval(trip)"
   ]
  },
  {
   "cell_type": "code",
   "execution_count": 150,
   "metadata": {
    "collapsed": false
   },
   "outputs": [
    {
     "data": {
      "text/plain": [
       "(1019.4101165760771, 224.0, 4519.9627666765819)"
      ]
     },
     "execution_count": 150,
     "metadata": {},
     "output_type": "execute_result"
    }
   ],
   "source": [
    "np.mean(interval_list), np.median(interval_list), np.std(interval_list)"
   ]
  },
  {
   "cell_type": "code",
   "execution_count": 228,
   "metadata": {
    "collapsed": false
   },
   "outputs": [
    {
     "name": "stderr",
     "output_type": "stream",
     "text": [
      "C:\\Users\\Xuancheng Fan\\AppData\\Local\\Programs\\Python\\Python35\\lib\\site-packages\\ipykernel_launcher.py:2: RuntimeWarning: divide by zero encountered in log\n",
      "  \n",
      "C:\\Users\\Xuancheng Fan\\AppData\\Local\\Programs\\Python\\Python35\\lib\\site-packages\\ipykernel_launcher.py:2: RuntimeWarning: invalid value encountered in log\n",
      "  \n"
     ]
    }
   ],
   "source": [
    "#interval_log = np.log10(np.array(interval_list))\n",
    "interval_log = np.log(np.array(interval_list))"
   ]
  },
  {
   "cell_type": "code",
   "execution_count": 229,
   "metadata": {
    "collapsed": false
   },
   "outputs": [
    {
     "data": {
      "text/plain": [
       "660856"
      ]
     },
     "execution_count": 229,
     "metadata": {},
     "output_type": "execute_result"
    }
   ],
   "source": [
    "len(interval_log)"
   ]
  },
  {
   "cell_type": "code",
   "execution_count": 230,
   "metadata": {
    "collapsed": true
   },
   "outputs": [],
   "source": [
    "interval_log = interval_log[~np.isnan(interval_log)]"
   ]
  },
  {
   "cell_type": "code",
   "execution_count": 231,
   "metadata": {
    "collapsed": true
   },
   "outputs": [],
   "source": [
    "interval_log = interval_log[~np.isinf(interval_log)]"
   ]
  },
  {
   "cell_type": "code",
   "execution_count": 232,
   "metadata": {
    "collapsed": false
   },
   "outputs": [
    {
     "data": {
      "text/plain": [
       "(5.2396798277805887, 5.4293456289544411, 2.0143034617539155)"
      ]
     },
     "execution_count": 232,
     "metadata": {},
     "output_type": "execute_result"
    }
   ],
   "source": [
    "np.mean(interval_log), np.median(interval_log), np.std(interval_log)"
   ]
  },
  {
   "cell_type": "code",
   "execution_count": 233,
   "metadata": {
    "collapsed": true
   },
   "outputs": [],
   "source": [
    "t = np.mean(interval_log) + 2*np.std(interval_log)"
   ]
  },
  {
   "cell_type": "code",
   "execution_count": 234,
   "metadata": {
    "collapsed": false
   },
   "outputs": [
    {
     "data": {
      "text/plain": [
       "7.3587373235193869"
      ]
     },
     "execution_count": 234,
     "metadata": {},
     "output_type": "execute_result"
    }
   ],
   "source": [
    "np.power(np.e, t) / 1440  # 95%"
   ]
  },
  {
   "cell_type": "code",
   "execution_count": 235,
   "metadata": {
    "collapsed": true
   },
   "outputs": [],
   "source": [
    "t2 = np.mean(interval_log) + (1.644)*np.std(interval_log) # 90%"
   ]
  },
  {
   "cell_type": "code",
   "execution_count": 236,
   "metadata": {
    "collapsed": false
   },
   "outputs": [
    {
     "data": {
      "text/plain": [
       "3.5923131494606815"
      ]
     },
     "execution_count": 236,
     "metadata": {},
     "output_type": "execute_result"
    }
   ],
   "source": [
    "np.power(np.e, t2) / 1440"
   ]
  },
  {
   "cell_type": "code",
   "execution_count": 237,
   "metadata": {
    "collapsed": true
   },
   "outputs": [],
   "source": [
    "#counter_inteval = Counter(interval_list)\n",
    "#counter_inteval = Counter(interval_log)"
   ]
  },
  {
   "cell_type": "code",
   "execution_count": 239,
   "metadata": {
    "collapsed": false
   },
   "outputs": [
    {
     "data": {
      "image/png": "[encoded data removed]",
      "text/plain": [
       "<matplotlib.figure.Figure at 0x259997e8da0>"
      ]
     },
     "metadata": {},
     "output_type": "display_data"
    }
   ],
   "source": [
    "fig, ax = plt.subplots(figsize = [15,15], facecolor = [0.9,0.9,0.9])\n",
    "labels, values = zip(*counter_inteval.items())\n",
    "#plt.hist(c,facecolor='g')\n",
    "indexes = np.arange(len(labels))\n",
    "#plt.bar(indexes, values, 1)\n",
    "plt.hist(interval_log, bins=15, alpha=0.75)\n",
    "plt.xlabel('Interval(e^)')\n",
    "plt.ylabel('Counts')\n",
    "#plt.title('Bay')\n",
    "#plt.axis([0, 10000, 0, 1000000])\n",
    "#plt.grid(True)\n",
    "#ax.set_xlim([0, 20])\n",
    "ax.spines['right'].set_color('none')\n",
    "ax.spines['top'].set_color('none')\n",
    "plt.show()"
   ]
  },
  {
   "cell_type": "code",
   "execution_count": null,
   "metadata": {
    "collapsed": true
   },
   "outputs": [],
   "source": []
  },
  {
   "cell_type": "markdown",
   "metadata": {},
   "source": [
    "### Lifecycle"
   ]
  },
  {
   "cell_type": "code",
   "execution_count": 11,
   "metadata": {
    "collapsed": true
   },
   "outputs": [],
   "source": [
    "def tempcovert(temp):\n",
    "    # convert the bike_id according to the lifecycle, e.g., 19 -> 19_1, 19_2, 19_3\n",
    "    # condition: interval > 7days and start_station != last end_station\n",
    "    # final_id: the last seen id, e.g., 19_3, since it is possible the life_cycle of this id does not end\n",
    "    final_id_list = []\n",
    "    bike_group = []\n",
    "    counts = 0\n",
    "    for i in range(len(temp)):\n",
    "        old_id = temp.iloc[i].bike_id\n",
    "        if i == 0:\n",
    "            bike_group.append(str(old_id) +'_'+str(counts))\n",
    "            #print(i, temp.iloc[i].bike_id)\n",
    "        elif i == len(temp)-1:\n",
    "            bike_group.append(str(old_id) +'_'+str(counts)) \n",
    "            final_id = str(old_id) +'_'+str(counts) \n",
    "            #temp = temp[temp.bike_id != final_id]\n",
    "            final_id_list.append(final_id)\n",
    "            print(final_id)\n",
    "        else:\n",
    "            if (((temp.iloc[i].start_date-temp.iloc[i-1].end_date)/np.timedelta64(1, 'D')).astype(int) > 4 and\n",
    "               temp.iloc[i].start_station_id != temp.iloc[i-1].end_station_id):\n",
    "                counts += 1\n",
    "            elif ((temp.iloc[i].start_date-temp.iloc[i-1].end_date)/np.timedelta64(1, 'D')).astype(int) > 7:\n",
    "                counts += 1\n",
    "            bike_group.append(str(old_id) +'_'+str(counts)) \n",
    "            #print(i, temp.iloc[i].bike_id)\n",
    "    result = pd.DataFrame(bike_group, columns = ['bike_group'], index=temp.index)\n",
    "    temp = pd.concat([temp, result], axis =1)\n",
    "    \n",
    "    return temp, final_id"
   ]
  },
  {
   "cell_type": "code",
   "execution_count": 12,
   "metadata": {
    "collapsed": true
   },
   "outputs": [],
   "source": [
    "def generatelifecycle(dataset):\n",
    "    new_pd = pd.DataFrame()\n",
    "    finalid_list = []\n",
    "    id_set = set(dataset.bike_id.unique())\n",
    "    for bikeid in id_set:\n",
    "        temp = dataset[dataset['bike_id'] == bikeid]\n",
    "        temp.sort_values(by=['start_date'])\n",
    "        temp['start_date'] =pd.to_datetime(temp['start_date'].values)\n",
    "        temp['end_date'] =pd.to_datetime(temp['end_date'].values)\n",
    "        temp, final_id = tempcovert(temp)\n",
    "        new_pd = pd.concat([new_pd, temp])\n",
    "        finalid_list.append(final_id)\n",
    "        \n",
    "    return new_pd, finalid_list"
   ]
  },
  {
   "cell_type": "code",
   "execution_count": 13,
   "metadata": {
    "collapsed": true
   },
   "outputs": [],
   "source": [
    "#dataset = trip[trip.bike_id.isin({9,10})]"
   ]
  },
  {
   "cell_type": "code",
   "execution_count": 14,
   "metadata": {
    "collapsed": false
   },
   "outputs": [
    {
     "name": "stderr",
     "output_type": "stream",
     "text": [
      "C:\\Users\\Xuancheng Fan\\AppData\\Local\\Programs\\Python\\Python35\\lib\\site-packages\\ipykernel_launcher.py:8: SettingWithCopyWarning: \n",
      "A value is trying to be set on a copy of a slice from a DataFrame.\n",
      "Try using .loc[row_indexer,col_indexer] = value instead\n",
      "\n",
      "See the caveats in the documentation: http://pandas.pydata.org/pandas-docs/stable/indexing.html#indexing-view-versus-copy\n",
      "  \n",
      "C:\\Users\\Xuancheng Fan\\AppData\\Local\\Programs\\Python\\Python35\\lib\\site-packages\\ipykernel_launcher.py:9: SettingWithCopyWarning: \n",
      "A value is trying to be set on a copy of a slice from a DataFrame.\n",
      "Try using .loc[row_indexer,col_indexer] = value instead\n",
      "\n",
      "See the caveats in the documentation: http://pandas.pydata.org/pandas-docs/stable/indexing.html#indexing-view-versus-copy\n",
      "  if __name__ == '__main__':\n"
     ]
    },
    {
     "name": "stdout",
     "output_type": "stream",
     "text": [
      "9_3\n",
      "10_7\n",
      "11_12\n",
      "12_7\n",
      "13_9\n",
      "14_11\n",
      "15_7\n",
      "16_4\n",
      "17_8\n",
      "18_6\n",
      "19_7\n",
      "20_12\n",
      "21_8\n",
      "22_8\n",
      "23_7\n",
      "24_6\n",
      "25_8\n",
      "26_13\n",
      "27_10\n",
      "28_9\n",
      "29_8\n",
      "30_9\n",
      "31_8\n",
      "32_6\n",
      "33_1\n",
      "34_7\n",
      "35_7\n",
      "36_11\n",
      "37_6\n",
      "38_11\n",
      "39_9\n",
      "40_10\n",
      "41_10\n",
      "42_6\n",
      "43_9\n",
      "44_10\n",
      "45_5\n",
      "46_9\n",
      "47_12\n",
      "48_6\n",
      "49_12\n",
      "50_8\n",
      "51_14\n",
      "52_13\n",
      "53_7\n",
      "54_7\n",
      "55_10\n",
      "56_11\n",
      "57_5\n",
      "58_12\n",
      "59_11\n",
      "60_6\n",
      "61_12\n",
      "62_7\n",
      "63_11\n",
      "64_10\n",
      "65_7\n",
      "66_6\n",
      "67_7\n",
      "68_9\n",
      "69_8\n",
      "70_5\n",
      "71_8\n",
      "72_10\n",
      "74_8\n",
      "75_6\n",
      "76_9\n",
      "77_10\n",
      "78_10\n",
      "79_12\n",
      "80_7\n",
      "81_11\n",
      "82_13\n",
      "83_6\n",
      "84_7\n",
      "85_7\n",
      "86_12\n",
      "87_13\n",
      "88_11\n",
      "89_6\n",
      "90_8\n",
      "91_8\n",
      "92_10\n",
      "93_13\n",
      "94_6\n",
      "95_11\n",
      "96_9\n",
      "97_9\n",
      "98_8\n",
      "99_9\n",
      "100_10\n",
      "101_6\n",
      "102_7\n",
      "103_9\n",
      "104_7\n",
      "105_6\n",
      "106_6\n",
      "107_7\n",
      "108_9\n",
      "109_9\n",
      "110_3\n",
      "111_6\n",
      "112_9\n",
      "116_6\n",
      "117_10\n",
      "118_9\n",
      "119_10\n",
      "120_11\n",
      "121_12\n",
      "122_5\n",
      "123_7\n",
      "124_8\n",
      "125_6\n",
      "126_10\n",
      "127_8\n",
      "128_11\n",
      "129_13\n",
      "130_9\n",
      "131_7\n",
      "132_10\n",
      "133_8\n",
      "134_7\n",
      "135_6\n",
      "136_6\n",
      "137_7\n",
      "138_10\n",
      "139_10\n",
      "140_8\n",
      "141_7\n",
      "142_10\n",
      "143_10\n",
      "144_9\n",
      "145_6\n",
      "146_9\n",
      "147_6\n",
      "148_9\n",
      "149_9\n",
      "150_11\n",
      "151_10\n",
      "152_3\n",
      "153_9\n",
      "154_8\n",
      "155_8\n",
      "156_7\n",
      "157_8\n",
      "158_8\n",
      "159_11\n",
      "160_12\n",
      "161_11\n",
      "162_7\n",
      "163_8\n",
      "164_8\n",
      "165_8\n",
      "167_7\n",
      "168_8\n",
      "174_10\n",
      "175_7\n",
      "176_7\n",
      "177_11\n",
      "178_7\n",
      "179_8\n",
      "180_9\n",
      "181_7\n",
      "182_8\n",
      "183_3\n",
      "184_8\n",
      "185_8\n",
      "186_7\n",
      "187_11\n",
      "188_8\n",
      "189_1\n",
      "190_5\n",
      "191_6\n",
      "192_7\n",
      "193_8\n",
      "194_7\n",
      "195_9\n",
      "196_11\n",
      "197_9\n",
      "198_7\n",
      "199_9\n",
      "200_8\n",
      "201_5\n",
      "202_6\n",
      "203_5\n",
      "205_11\n",
      "206_9\n",
      "207_8\n",
      "208_9\n",
      "209_7\n",
      "210_5\n",
      "211_7\n",
      "212_10\n",
      "213_4\n",
      "214_7\n",
      "215_4\n",
      "216_5\n",
      "217_11\n",
      "218_7\n",
      "219_12\n",
      "221_8\n",
      "222_5\n",
      "223_7\n",
      "224_4\n",
      "225_6\n",
      "226_5\n",
      "227_8\n",
      "228_10\n",
      "229_10\n",
      "230_9\n",
      "231_5\n",
      "232_10\n",
      "233_8\n",
      "234_2\n",
      "235_9\n",
      "236_9\n",
      "237_7\n",
      "238_1\n",
      "239_10\n",
      "240_6\n",
      "241_8\n",
      "242_6\n",
      "243_7\n",
      "244_6\n",
      "245_10\n",
      "246_9\n",
      "247_7\n",
      "248_5\n",
      "249_10\n",
      "250_7\n",
      "251_8\n",
      "252_4\n",
      "253_7\n",
      "254_6\n",
      "255_8\n",
      "256_7\n",
      "257_8\n",
      "258_9\n",
      "259_4\n",
      "260_2\n",
      "261_10\n",
      "262_9\n",
      "263_6\n",
      "264_6\n",
      "265_2\n",
      "266_3\n",
      "267_4\n",
      "268_4\n",
      "269_3\n",
      "270_3\n",
      "271_3\n",
      "272_1\n",
      "273_5\n",
      "274_4\n",
      "275_5\n",
      "276_4\n",
      "277_2\n",
      "278_2\n",
      "279_2\n",
      "280_2\n",
      "281_2\n",
      "282_2\n",
      "283_5\n",
      "284_2\n",
      "285_2\n",
      "286_5\n",
      "287_4\n",
      "288_3\n",
      "289_3\n",
      "290_4\n",
      "291_3\n",
      "292_4\n",
      "293_10\n",
      "294_8\n",
      "295_6\n",
      "296_8\n",
      "297_10\n",
      "298_8\n",
      "299_6\n",
      "300_3\n",
      "301_6\n",
      "302_8\n",
      "303_5\n",
      "304_2\n",
      "305_9\n",
      "306_1\n",
      "307_11\n",
      "308_10\n",
      "309_4\n",
      "310_2\n",
      "311_4\n",
      "312_4\n",
      "313_6\n",
      "314_4\n",
      "315_2\n",
      "316_0\n",
      "317_3\n",
      "318_4\n",
      "319_3\n",
      "320_6\n",
      "321_4\n",
      "322_5\n",
      "323_0\n",
      "324_5\n",
      "325_4\n",
      "326_3\n",
      "327_2\n",
      "328_3\n",
      "329_4\n",
      "330_3\n",
      "331_2\n",
      "332_6\n",
      "333_2\n",
      "334_2\n",
      "335_4\n",
      "336_3\n",
      "337_2\n",
      "338_3\n",
      "339_3\n",
      "340_3\n",
      "341_1\n",
      "342_6\n",
      "343_3\n",
      "344_5\n",
      "345_4\n",
      "347_4\n",
      "348_4\n",
      "349_3\n",
      "350_4\n",
      "351_5\n",
      "352_2\n",
      "353_5\n",
      "354_2\n",
      "355_3\n",
      "356_5\n",
      "357_5\n",
      "358_2\n",
      "359_4\n",
      "360_3\n",
      "361_2\n",
      "362_3\n",
      "363_2\n",
      "364_3\n",
      "365_2\n",
      "366_2\n",
      "367_3\n",
      "368_2\n",
      "369_2\n",
      "370_2\n",
      "371_3\n",
      "372_5\n",
      "373_4\n",
      "374_5\n",
      "375_2\n",
      "376_2\n",
      "377_5\n",
      "378_3\n",
      "379_3\n",
      "380_4\n",
      "381_3\n",
      "382_5\n",
      "383_3\n",
      "384_4\n",
      "385_4\n",
      "386_6\n",
      "387_2\n",
      "388_4\n",
      "389_5\n",
      "390_4\n",
      "391_3\n",
      "392_3\n",
      "393_4\n",
      "394_3\n",
      "395_2\n",
      "396_3\n",
      "397_4\n",
      "398_2\n",
      "399_4\n",
      "400_7\n",
      "401_3\n",
      "402_4\n",
      "403_1\n",
      "404_5\n",
      "405_3\n",
      "406_3\n",
      "407_3\n",
      "408_5\n",
      "409_6\n",
      "410_3\n",
      "411_4\n",
      "412_3\n",
      "413_4\n",
      "414_2\n",
      "415_3\n",
      "416_3\n",
      "417_4\n",
      "418_2\n",
      "419_2\n",
      "420_3\n",
      "421_3\n",
      "422_4\n",
      "423_2\n",
      "424_3\n",
      "425_2\n",
      "426_2\n",
      "427_2\n",
      "428_2\n",
      "429_4\n",
      "430_2\n",
      "431_3\n",
      "432_3\n",
      "433_2\n",
      "434_3\n",
      "435_2\n",
      "436_3\n",
      "437_4\n",
      "438_4\n"
     ]
    },
    {
     "ename": "KeyboardInterrupt",
     "evalue": "",
     "output_type": "error",
     "traceback": [
      "\u001b[1;31m---------------------------------------------------------------------------\u001b[0m",
      "\u001b[1;31mKeyboardInterrupt\u001b[0m                         Traceback (most recent call last)",
      "\u001b[1;32m<ipython-input-14-71c1f668bea7>\u001b[0m in \u001b[0;36m<module>\u001b[1;34m()\u001b[0m\n\u001b[1;32m----> 1\u001b[1;33m \u001b[0mnew_pd\u001b[0m\u001b[1;33m,\u001b[0m \u001b[0mfinalid_list\u001b[0m \u001b[1;33m=\u001b[0m \u001b[0mgeneratelifecycle\u001b[0m\u001b[1;33m(\u001b[0m\u001b[0mtrip\u001b[0m\u001b[1;33m)\u001b[0m\u001b[1;33m\u001b[0m\u001b[0m\n\u001b[0m",
      "\u001b[1;32m<ipython-input-12-3179027cfe88>\u001b[0m in \u001b[0;36mgeneratelifecycle\u001b[1;34m(dataset)\u001b[0m\n\u001b[0;32m      8\u001b[0m         \u001b[0mtemp\u001b[0m\u001b[1;33m[\u001b[0m\u001b[1;34m'start_date'\u001b[0m\u001b[1;33m]\u001b[0m \u001b[1;33m=\u001b[0m\u001b[0mpd\u001b[0m\u001b[1;33m.\u001b[0m\u001b[0mto_datetime\u001b[0m\u001b[1;33m(\u001b[0m\u001b[0mtemp\u001b[0m\u001b[1;33m[\u001b[0m\u001b[1;34m'start_date'\u001b[0m\u001b[1;33m]\u001b[0m\u001b[1;33m.\u001b[0m\u001b[0mvalues\u001b[0m\u001b[1;33m)\u001b[0m\u001b[1;33m\u001b[0m\u001b[0m\n\u001b[0;32m      9\u001b[0m         \u001b[0mtemp\u001b[0m\u001b[1;33m[\u001b[0m\u001b[1;34m'end_date'\u001b[0m\u001b[1;33m]\u001b[0m \u001b[1;33m=\u001b[0m\u001b[0mpd\u001b[0m\u001b[1;33m.\u001b[0m\u001b[0mto_datetime\u001b[0m\u001b[1;33m(\u001b[0m\u001b[0mtemp\u001b[0m\u001b[1;33m[\u001b[0m\u001b[1;34m'end_date'\u001b[0m\u001b[1;33m]\u001b[0m\u001b[1;33m.\u001b[0m\u001b[0mvalues\u001b[0m\u001b[1;33m)\u001b[0m\u001b[1;33m\u001b[0m\u001b[0m\n\u001b[1;32m---> 10\u001b[1;33m         \u001b[0mtemp\u001b[0m\u001b[1;33m,\u001b[0m \u001b[0mfinal_id\u001b[0m \u001b[1;33m=\u001b[0m \u001b[0mtempcovert\u001b[0m\u001b[1;33m(\u001b[0m\u001b[0mtemp\u001b[0m\u001b[1;33m)\u001b[0m\u001b[1;33m\u001b[0m\u001b[0m\n\u001b[0m\u001b[0;32m     11\u001b[0m         \u001b[0mnew_pd\u001b[0m \u001b[1;33m=\u001b[0m \u001b[0mpd\u001b[0m\u001b[1;33m.\u001b[0m\u001b[0mconcat\u001b[0m\u001b[1;33m(\u001b[0m\u001b[1;33m[\u001b[0m\u001b[0mnew_pd\u001b[0m\u001b[1;33m,\u001b[0m \u001b[0mtemp\u001b[0m\u001b[1;33m]\u001b[0m\u001b[1;33m)\u001b[0m\u001b[1;33m\u001b[0m\u001b[0m\n\u001b[0;32m     12\u001b[0m         \u001b[0mfinalid_list\u001b[0m\u001b[1;33m.\u001b[0m\u001b[0mappend\u001b[0m\u001b[1;33m(\u001b[0m\u001b[0mfinal_id\u001b[0m\u001b[1;33m)\u001b[0m\u001b[1;33m\u001b[0m\u001b[0m\n",
      "\u001b[1;32m<ipython-input-11-816440c7769c>\u001b[0m in \u001b[0;36mtempcovert\u001b[1;34m(temp)\u001b[0m\n\u001b[0;32m      7\u001b[0m     \u001b[0mcounts\u001b[0m \u001b[1;33m=\u001b[0m \u001b[1;36m0\u001b[0m\u001b[1;33m\u001b[0m\u001b[0m\n\u001b[0;32m      8\u001b[0m     \u001b[1;32mfor\u001b[0m \u001b[0mi\u001b[0m \u001b[1;32min\u001b[0m \u001b[0mrange\u001b[0m\u001b[1;33m(\u001b[0m\u001b[0mlen\u001b[0m\u001b[1;33m(\u001b[0m\u001b[0mtemp\u001b[0m\u001b[1;33m)\u001b[0m\u001b[1;33m)\u001b[0m\u001b[1;33m:\u001b[0m\u001b[1;33m\u001b[0m\u001b[0m\n\u001b[1;32m----> 9\u001b[1;33m         \u001b[0mold_id\u001b[0m \u001b[1;33m=\u001b[0m \u001b[0mtemp\u001b[0m\u001b[1;33m.\u001b[0m\u001b[0miloc\u001b[0m\u001b[1;33m[\u001b[0m\u001b[0mi\u001b[0m\u001b[1;33m]\u001b[0m\u001b[1;33m.\u001b[0m\u001b[0mbike_id\u001b[0m\u001b[1;33m\u001b[0m\u001b[0m\n\u001b[0m\u001b[0;32m     10\u001b[0m         \u001b[1;32mif\u001b[0m \u001b[0mi\u001b[0m \u001b[1;33m==\u001b[0m \u001b[1;36m0\u001b[0m\u001b[1;33m:\u001b[0m\u001b[1;33m\u001b[0m\u001b[0m\n\u001b[0;32m     11\u001b[0m             \u001b[0mbike_group\u001b[0m\u001b[1;33m.\u001b[0m\u001b[0mappend\u001b[0m\u001b[1;33m(\u001b[0m\u001b[0mstr\u001b[0m\u001b[1;33m(\u001b[0m\u001b[0mold_id\u001b[0m\u001b[1;33m)\u001b[0m \u001b[1;33m+\u001b[0m\u001b[1;34m'_'\u001b[0m\u001b[1;33m+\u001b[0m\u001b[0mstr\u001b[0m\u001b[1;33m(\u001b[0m\u001b[0mcounts\u001b[0m\u001b[1;33m)\u001b[0m\u001b[1;33m)\u001b[0m\u001b[1;33m\u001b[0m\u001b[0m\n",
      "\u001b[1;32m~\\AppData\\Local\\Programs\\Python\\Python35\\lib\\site-packages\\pandas\\core\\indexing.py\u001b[0m in \u001b[0;36m__getitem__\u001b[1;34m(self, key)\u001b[0m\n\u001b[0;32m   1326\u001b[0m         \u001b[1;32melse\u001b[0m\u001b[1;33m:\u001b[0m\u001b[1;33m\u001b[0m\u001b[0m\n\u001b[0;32m   1327\u001b[0m             \u001b[0mkey\u001b[0m \u001b[1;33m=\u001b[0m \u001b[0mcom\u001b[0m\u001b[1;33m.\u001b[0m\u001b[0m_apply_if_callable\u001b[0m\u001b[1;33m(\u001b[0m\u001b[0mkey\u001b[0m\u001b[1;33m,\u001b[0m \u001b[0mself\u001b[0m\u001b[1;33m.\u001b[0m\u001b[0mobj\u001b[0m\u001b[1;33m)\u001b[0m\u001b[1;33m\u001b[0m\u001b[0m\n\u001b[1;32m-> 1328\u001b[1;33m             \u001b[1;32mreturn\u001b[0m \u001b[0mself\u001b[0m\u001b[1;33m.\u001b[0m\u001b[0m_getitem_axis\u001b[0m\u001b[1;33m(\u001b[0m\u001b[0mkey\u001b[0m\u001b[1;33m,\u001b[0m \u001b[0maxis\u001b[0m\u001b[1;33m=\u001b[0m\u001b[1;36m0\u001b[0m\u001b[1;33m)\u001b[0m\u001b[1;33m\u001b[0m\u001b[0m\n\u001b[0m\u001b[0;32m   1329\u001b[0m \u001b[1;33m\u001b[0m\u001b[0m\n\u001b[0;32m   1330\u001b[0m     \u001b[1;32mdef\u001b[0m \u001b[0m_is_scalar_access\u001b[0m\u001b[1;33m(\u001b[0m\u001b[0mself\u001b[0m\u001b[1;33m,\u001b[0m \u001b[0mkey\u001b[0m\u001b[1;33m)\u001b[0m\u001b[1;33m:\u001b[0m\u001b[1;33m\u001b[0m\u001b[0m\n",
      "\u001b[1;32m~\\AppData\\Local\\Programs\\Python\\Python35\\lib\\site-packages\\pandas\\core\\indexing.py\u001b[0m in \u001b[0;36m_getitem_axis\u001b[1;34m(self, key, axis)\u001b[0m\n\u001b[0;32m   1749\u001b[0m             \u001b[0mself\u001b[0m\u001b[1;33m.\u001b[0m\u001b[0m_is_valid_integer\u001b[0m\u001b[1;33m(\u001b[0m\u001b[0mkey\u001b[0m\u001b[1;33m,\u001b[0m \u001b[0maxis\u001b[0m\u001b[1;33m)\u001b[0m\u001b[1;33m\u001b[0m\u001b[0m\n\u001b[0;32m   1750\u001b[0m \u001b[1;33m\u001b[0m\u001b[0m\n\u001b[1;32m-> 1751\u001b[1;33m             \u001b[1;32mreturn\u001b[0m \u001b[0mself\u001b[0m\u001b[1;33m.\u001b[0m\u001b[0m_get_loc\u001b[0m\u001b[1;33m(\u001b[0m\u001b[0mkey\u001b[0m\u001b[1;33m,\u001b[0m \u001b[0maxis\u001b[0m\u001b[1;33m=\u001b[0m\u001b[0maxis\u001b[0m\u001b[1;33m)\u001b[0m\u001b[1;33m\u001b[0m\u001b[0m\n\u001b[0m\u001b[0;32m   1752\u001b[0m \u001b[1;33m\u001b[0m\u001b[0m\n\u001b[0;32m   1753\u001b[0m     \u001b[1;32mdef\u001b[0m \u001b[0m_convert_to_indexer\u001b[0m\u001b[1;33m(\u001b[0m\u001b[0mself\u001b[0m\u001b[1;33m,\u001b[0m \u001b[0mobj\u001b[0m\u001b[1;33m,\u001b[0m \u001b[0maxis\u001b[0m\u001b[1;33m=\u001b[0m\u001b[1;36m0\u001b[0m\u001b[1;33m,\u001b[0m \u001b[0mis_setter\u001b[0m\u001b[1;33m=\u001b[0m\u001b[1;32mFalse\u001b[0m\u001b[1;33m)\u001b[0m\u001b[1;33m:\u001b[0m\u001b[1;33m\u001b[0m\u001b[0m\n",
      "\u001b[1;32m~\\AppData\\Local\\Programs\\Python\\Python35\\lib\\site-packages\\pandas\\core\\indexing.py\u001b[0m in \u001b[0;36m_get_loc\u001b[1;34m(self, key, axis)\u001b[0m\n\u001b[0;32m    137\u001b[0m \u001b[1;33m\u001b[0m\u001b[0m\n\u001b[0;32m    138\u001b[0m     \u001b[1;32mdef\u001b[0m \u001b[0m_get_loc\u001b[0m\u001b[1;33m(\u001b[0m\u001b[0mself\u001b[0m\u001b[1;33m,\u001b[0m \u001b[0mkey\u001b[0m\u001b[1;33m,\u001b[0m \u001b[0maxis\u001b[0m\u001b[1;33m=\u001b[0m\u001b[1;36m0\u001b[0m\u001b[1;33m)\u001b[0m\u001b[1;33m:\u001b[0m\u001b[1;33m\u001b[0m\u001b[0m\n\u001b[1;32m--> 139\u001b[1;33m         \u001b[1;32mreturn\u001b[0m \u001b[0mself\u001b[0m\u001b[1;33m.\u001b[0m\u001b[0mobj\u001b[0m\u001b[1;33m.\u001b[0m\u001b[0m_ixs\u001b[0m\u001b[1;33m(\u001b[0m\u001b[0mkey\u001b[0m\u001b[1;33m,\u001b[0m \u001b[0maxis\u001b[0m\u001b[1;33m=\u001b[0m\u001b[0maxis\u001b[0m\u001b[1;33m)\u001b[0m\u001b[1;33m\u001b[0m\u001b[0m\n\u001b[0m\u001b[0;32m    140\u001b[0m \u001b[1;33m\u001b[0m\u001b[0m\n\u001b[0;32m    141\u001b[0m     \u001b[1;32mdef\u001b[0m \u001b[0m_slice\u001b[0m\u001b[1;33m(\u001b[0m\u001b[0mself\u001b[0m\u001b[1;33m,\u001b[0m \u001b[0mobj\u001b[0m\u001b[1;33m,\u001b[0m \u001b[0maxis\u001b[0m\u001b[1;33m=\u001b[0m\u001b[1;36m0\u001b[0m\u001b[1;33m,\u001b[0m \u001b[0mkind\u001b[0m\u001b[1;33m=\u001b[0m\u001b[1;32mNone\u001b[0m\u001b[1;33m)\u001b[0m\u001b[1;33m:\u001b[0m\u001b[1;33m\u001b[0m\u001b[0m\n",
      "\u001b[1;32m~\\AppData\\Local\\Programs\\Python\\Python35\\lib\\site-packages\\pandas\\core\\frame.py\u001b[0m in \u001b[0;36m_ixs\u001b[1;34m(self, i, axis)\u001b[0m\n\u001b[0;32m   1887\u001b[0m                     \u001b[0mcopy\u001b[0m \u001b[1;33m=\u001b[0m \u001b[1;32mTrue\u001b[0m\u001b[1;33m\u001b[0m\u001b[0m\n\u001b[0;32m   1888\u001b[0m                 \u001b[1;32melse\u001b[0m\u001b[1;33m:\u001b[0m\u001b[1;33m\u001b[0m\u001b[0m\n\u001b[1;32m-> 1889\u001b[1;33m                     \u001b[0mnew_values\u001b[0m \u001b[1;33m=\u001b[0m \u001b[0mself\u001b[0m\u001b[1;33m.\u001b[0m\u001b[0m_data\u001b[0m\u001b[1;33m.\u001b[0m\u001b[0mfast_xs\u001b[0m\u001b[1;33m(\u001b[0m\u001b[0mi\u001b[0m\u001b[1;33m)\u001b[0m\u001b[1;33m\u001b[0m\u001b[0m\n\u001b[0m\u001b[0;32m   1890\u001b[0m                     \u001b[1;32mif\u001b[0m \u001b[0mis_scalar\u001b[0m\u001b[1;33m(\u001b[0m\u001b[0mnew_values\u001b[0m\u001b[1;33m)\u001b[0m\u001b[1;33m:\u001b[0m\u001b[1;33m\u001b[0m\u001b[0m\n\u001b[0;32m   1891\u001b[0m                         \u001b[1;32mreturn\u001b[0m \u001b[0mnew_values\u001b[0m\u001b[1;33m\u001b[0m\u001b[0m\n",
      "\u001b[1;32m~\\AppData\\Local\\Programs\\Python\\Python35\\lib\\site-packages\\pandas\\core\\internals.py\u001b[0m in \u001b[0;36mfast_xs\u001b[1;34m(self, loc)\u001b[0m\n\u001b[0;32m   3547\u001b[0m \u001b[1;33m\u001b[0m\u001b[0m\n\u001b[0;32m   3548\u001b[0m         \u001b[1;31m# unique\u001b[0m\u001b[1;33m\u001b[0m\u001b[1;33m\u001b[0m\u001b[0m\n\u001b[1;32m-> 3549\u001b[1;33m         \u001b[0mdtype\u001b[0m \u001b[1;33m=\u001b[0m \u001b[0m_interleaved_dtype\u001b[0m\u001b[1;33m(\u001b[0m\u001b[0mself\u001b[0m\u001b[1;33m.\u001b[0m\u001b[0mblocks\u001b[0m\u001b[1;33m)\u001b[0m\u001b[1;33m\u001b[0m\u001b[0m\n\u001b[0m\u001b[0;32m   3550\u001b[0m         \u001b[0mn\u001b[0m \u001b[1;33m=\u001b[0m \u001b[0mlen\u001b[0m\u001b[1;33m(\u001b[0m\u001b[0mitems\u001b[0m\u001b[1;33m)\u001b[0m\u001b[1;33m\u001b[0m\u001b[0m\n\u001b[0;32m   3551\u001b[0m         \u001b[0mresult\u001b[0m \u001b[1;33m=\u001b[0m \u001b[0mnp\u001b[0m\u001b[1;33m.\u001b[0m\u001b[0mempty\u001b[0m\u001b[1;33m(\u001b[0m\u001b[0mn\u001b[0m\u001b[1;33m,\u001b[0m \u001b[0mdtype\u001b[0m\u001b[1;33m=\u001b[0m\u001b[0mdtype\u001b[0m\u001b[1;33m)\u001b[0m\u001b[1;33m\u001b[0m\u001b[0m\n",
      "\u001b[1;32m~\\AppData\\Local\\Programs\\Python\\Python35\\lib\\site-packages\\pandas\\core\\internals.py\u001b[0m in \u001b[0;36m_interleaved_dtype\u001b[1;34m(blocks)\u001b[0m\n\u001b[0;32m   4502\u001b[0m         \u001b[1;32mreturn\u001b[0m \u001b[1;32mNone\u001b[0m\u001b[1;33m\u001b[0m\u001b[0m\n\u001b[0;32m   4503\u001b[0m \u001b[1;33m\u001b[0m\u001b[0m\n\u001b[1;32m-> 4504\u001b[1;33m     \u001b[0mdtype\u001b[0m \u001b[1;33m=\u001b[0m \u001b[0mfind_common_type\u001b[0m\u001b[1;33m(\u001b[0m\u001b[1;33m[\u001b[0m\u001b[0mb\u001b[0m\u001b[1;33m.\u001b[0m\u001b[0mdtype\u001b[0m \u001b[1;32mfor\u001b[0m \u001b[0mb\u001b[0m \u001b[1;32min\u001b[0m \u001b[0mblocks\u001b[0m\u001b[1;33m]\u001b[0m\u001b[1;33m)\u001b[0m\u001b[1;33m\u001b[0m\u001b[0m\n\u001b[0m\u001b[0;32m   4505\u001b[0m \u001b[1;33m\u001b[0m\u001b[0m\n\u001b[0;32m   4506\u001b[0m     \u001b[1;31m# only numpy compat\u001b[0m\u001b[1;33m\u001b[0m\u001b[1;33m\u001b[0m\u001b[0m\n",
      "\u001b[1;32m~\\AppData\\Local\\Programs\\Python\\Python35\\lib\\site-packages\\pandas\\core\\dtypes\\cast.py\u001b[0m in \u001b[0;36mfind_common_type\u001b[1;34m(types)\u001b[0m\n\u001b[0;32m   1026\u001b[0m             \u001b[1;32mreturn\u001b[0m \u001b[0mnp\u001b[0m\u001b[1;33m.\u001b[0m\u001b[0mobject\u001b[0m\u001b[1;33m\u001b[0m\u001b[0m\n\u001b[0;32m   1027\u001b[0m \u001b[1;33m\u001b[0m\u001b[0m\n\u001b[1;32m-> 1028\u001b[1;33m     \u001b[1;32mreturn\u001b[0m \u001b[0mnp\u001b[0m\u001b[1;33m.\u001b[0m\u001b[0mfind_common_type\u001b[0m\u001b[1;33m(\u001b[0m\u001b[0mtypes\u001b[0m\u001b[1;33m,\u001b[0m \u001b[1;33m[\u001b[0m\u001b[1;33m]\u001b[0m\u001b[1;33m)\u001b[0m\u001b[1;33m\u001b[0m\u001b[0m\n\u001b[0m",
      "\u001b[1;32m~\\AppData\\Local\\Programs\\Python\\Python35\\lib\\site-packages\\numpy\\core\\numerictypes.py\u001b[0m in \u001b[0;36mfind_common_type\u001b[1;34m(array_types, scalar_types)\u001b[0m\n\u001b[0;32m   1016\u001b[0m     \u001b[0mscalar_types\u001b[0m \u001b[1;33m=\u001b[0m \u001b[1;33m[\u001b[0m\u001b[0mdtype\u001b[0m\u001b[1;33m(\u001b[0m\u001b[0mx\u001b[0m\u001b[1;33m)\u001b[0m \u001b[1;32mfor\u001b[0m \u001b[0mx\u001b[0m \u001b[1;32min\u001b[0m \u001b[0mscalar_types\u001b[0m\u001b[1;33m]\u001b[0m\u001b[1;33m\u001b[0m\u001b[0m\n\u001b[0;32m   1017\u001b[0m \u001b[1;33m\u001b[0m\u001b[0m\n\u001b[1;32m-> 1018\u001b[1;33m     \u001b[0mmaxa\u001b[0m \u001b[1;33m=\u001b[0m \u001b[0m_can_coerce_all\u001b[0m\u001b[1;33m(\u001b[0m\u001b[0marray_types\u001b[0m\u001b[1;33m)\u001b[0m\u001b[1;33m\u001b[0m\u001b[0m\n\u001b[0m\u001b[0;32m   1019\u001b[0m     \u001b[0mmaxsc\u001b[0m \u001b[1;33m=\u001b[0m \u001b[0m_can_coerce_all\u001b[0m\u001b[1;33m(\u001b[0m\u001b[0mscalar_types\u001b[0m\u001b[1;33m)\u001b[0m\u001b[1;33m\u001b[0m\u001b[0m\n\u001b[0;32m   1020\u001b[0m \u001b[1;33m\u001b[0m\u001b[0m\n",
      "\u001b[1;32m~\\AppData\\Local\\Programs\\Python\\Python35\\lib\\site-packages\\numpy\\core\\numerictypes.py\u001b[0m in \u001b[0;36m_can_coerce_all\u001b[1;34m(dtypelist, start)\u001b[0m\n\u001b[0;32m    949\u001b[0m     \u001b[1;32mwhile\u001b[0m \u001b[0mthisind\u001b[0m \u001b[1;33m<\u001b[0m \u001b[0m__len_test_types\u001b[0m\u001b[1;33m:\u001b[0m\u001b[1;33m\u001b[0m\u001b[0m\n\u001b[0;32m    950\u001b[0m         \u001b[0mnewdtype\u001b[0m \u001b[1;33m=\u001b[0m \u001b[0mdtype\u001b[0m\u001b[1;33m(\u001b[0m\u001b[0m__test_types\u001b[0m\u001b[1;33m[\u001b[0m\u001b[0mthisind\u001b[0m\u001b[1;33m]\u001b[0m\u001b[1;33m)\u001b[0m\u001b[1;33m\u001b[0m\u001b[0m\n\u001b[1;32m--> 951\u001b[1;33m         \u001b[0mnumcoerce\u001b[0m \u001b[1;33m=\u001b[0m \u001b[0mlen\u001b[0m\u001b[1;33m(\u001b[0m\u001b[1;33m[\u001b[0m\u001b[0mx\u001b[0m \u001b[1;32mfor\u001b[0m \u001b[0mx\u001b[0m \u001b[1;32min\u001b[0m \u001b[0mdtypelist\u001b[0m \u001b[1;32mif\u001b[0m \u001b[0mnewdtype\u001b[0m \u001b[1;33m>=\u001b[0m \u001b[0mx\u001b[0m\u001b[1;33m]\u001b[0m\u001b[1;33m)\u001b[0m\u001b[1;33m\u001b[0m\u001b[0m\n\u001b[0m\u001b[0;32m    952\u001b[0m         \u001b[1;32mif\u001b[0m \u001b[0mnumcoerce\u001b[0m \u001b[1;33m==\u001b[0m \u001b[0mN\u001b[0m\u001b[1;33m:\u001b[0m\u001b[1;33m\u001b[0m\u001b[0m\n\u001b[0;32m    953\u001b[0m             \u001b[1;32mreturn\u001b[0m \u001b[0mnewdtype\u001b[0m\u001b[1;33m\u001b[0m\u001b[0m\n",
      "\u001b[1;31mKeyboardInterrupt\u001b[0m: "
     ]
    }
   ],
   "source": [
    "new_pd, finalid_list = generatelifecycle(trip)"
   ]
  },
  {
   "cell_type": "code",
   "execution_count": null,
   "metadata": {
    "collapsed": true
   },
   "outputs": [],
   "source": [
    "new_pd"
   ]
  },
  {
   "cell_type": "code",
   "execution_count": null,
   "metadata": {
    "collapsed": true
   },
   "outputs": [],
   "source": [
    "new_pd_removelast = new_pd[~new_pd['bike_group'].isin(finalid_list)]"
   ]
  },
  {
   "cell_type": "code",
   "execution_count": 59,
   "metadata": {
    "collapsed": false
   },
   "outputs": [
    {
     "data": {
      "text/plain": [
       "4207"
      ]
     },
     "execution_count": 59,
     "metadata": {},
     "output_type": "execute_result"
    }
   ],
   "source": [
    "len(new_pd.bike_group.unique())"
   ]
  },
  {
   "cell_type": "code",
   "execution_count": 58,
   "metadata": {
    "collapsed": false
   },
   "outputs": [
    {
     "data": {
      "text/plain": [
       "3507"
      ]
     },
     "execution_count": 58,
     "metadata": {},
     "output_type": "execute_result"
    }
   ],
   "source": [
    "len(new_pd_removelast.bike_group.unique())"
   ]
  },
  {
   "cell_type": "code",
   "execution_count": 57,
   "metadata": {
    "collapsed": true
   },
   "outputs": [],
   "source": [
    "new_pd.to_csv('lifecycle_1124.csv')\n",
    "new_pd_removelast.to_csv('lifecycle_1124_final.csv')"
   ]
  },
  {
   "cell_type": "code",
   "execution_count": null,
   "metadata": {
    "collapsed": true
   },
   "outputs": [],
   "source": []
  },
  {
   "cell_type": "markdown",
   "metadata": {},
   "source": [
    "### add weather"
   ]
  },
  {
   "cell_type": "code",
   "execution_count": 78,
   "metadata": {
    "collapsed": false
   },
   "outputs": [
    {
     "name": "stderr",
     "output_type": "stream",
     "text": [
      "C:\\Users\\Xuancheng Fan\\AppData\\Local\\Programs\\Python\\Python35\\lib\\site-packages\\IPython\\core\\interactiveshell.py:2728: DtypeWarning: Columns (11) have mixed types. Specify dtype option on import or set low_memory=False.\n",
      "  interactivity=interactivity, compiler=compiler, result=result)\n"
     ]
    }
   ],
   "source": [
    "weather = pd.read_csv('life_weather_old.csv')"
   ]
  },
  {
   "cell_type": "code",
   "execution_count": 86,
   "metadata": {
    "collapsed": true
   },
   "outputs": [],
   "source": [
    "weather['Dewpoint'] = weather['Dew Point']"
   ]
  },
  {
   "cell_type": "code",
   "execution_count": 90,
   "metadata": {
    "collapsed": true
   },
   "outputs": [],
   "source": [
    "weather_only = weather[['id', 'Temperature', 'Humidity', 'Dewpoint', 'Pressure', 'Visibility']]"
   ]
  },
  {
   "cell_type": "code",
   "execution_count": 91,
   "metadata": {
    "collapsed": false,
    "scrolled": true
   },
   "outputs": [
    {
     "data": {
      "text/html": [
       "<div>\n",
       "<style>\n",
       "    .dataframe thead tr:only-child th {\n",
       "        text-align: right;\n",
       "    }\n",
       "\n",
       "    .dataframe thead th {\n",
       "        text-align: left;\n",
       "    }\n",
       "\n",
       "    .dataframe tbody tr th {\n",
       "        vertical-align: top;\n",
       "    }\n",
       "</style>\n",
       "<table border=\"1\" class=\"dataframe\">\n",
       "  <thead>\n",
       "    <tr style=\"text-align: right;\">\n",
       "      <th></th>\n",
       "      <th>id</th>\n",
       "      <th>Temperature</th>\n",
       "      <th>Humidity</th>\n",
       "      <th>Dewpoint</th>\n",
       "      <th>Pressure</th>\n",
       "      <th>Visibility</th>\n",
       "    </tr>\n",
       "  </thead>\n",
       "  <tbody>\n",
       "    <tr>\n",
       "      <th>0</th>\n",
       "      <td>4549</td>\n",
       "      <td>73.0</td>\n",
       "      <td>0.59</td>\n",
       "      <td>57.9</td>\n",
       "      <td>30.06</td>\n",
       "      <td>10.0</td>\n",
       "    </tr>\n",
       "    <tr>\n",
       "      <th>1</th>\n",
       "      <td>4498</td>\n",
       "      <td>77.0</td>\n",
       "      <td>0.60</td>\n",
       "      <td>62.1</td>\n",
       "      <td>30.04</td>\n",
       "      <td>10.0</td>\n",
       "    </tr>\n",
       "    <tr>\n",
       "      <th>2</th>\n",
       "      <td>4965</td>\n",
       "      <td>71.1</td>\n",
       "      <td>0.73</td>\n",
       "      <td>62.1</td>\n",
       "      <td>30.02</td>\n",
       "      <td>10.0</td>\n",
       "    </tr>\n",
       "    <tr>\n",
       "      <th>3</th>\n",
       "      <td>4557</td>\n",
       "      <td>73.0</td>\n",
       "      <td>0.59</td>\n",
       "      <td>57.9</td>\n",
       "      <td>30.06</td>\n",
       "      <td>10.0</td>\n",
       "    </tr>\n",
       "    <tr>\n",
       "      <th>4</th>\n",
       "      <td>4386</td>\n",
       "      <td>71.1</td>\n",
       "      <td>0.66</td>\n",
       "      <td>59.0</td>\n",
       "      <td>30.06</td>\n",
       "      <td>10.0</td>\n",
       "    </tr>\n",
       "  </tbody>\n",
       "</table>\n",
       "</div>"
      ],
      "text/plain": [
       "     id  Temperature  Humidity  Dewpoint  Pressure  Visibility\n",
       "0  4549         73.0      0.59      57.9     30.06        10.0\n",
       "1  4498         77.0      0.60      62.1     30.04        10.0\n",
       "2  4965         71.1      0.73      62.1     30.02        10.0\n",
       "3  4557         73.0      0.59      57.9     30.06        10.0\n",
       "4  4386         71.1      0.66      59.0     30.06        10.0"
      ]
     },
     "execution_count": 91,
     "metadata": {},
     "output_type": "execute_result"
    }
   ],
   "source": [
    "weather_only.head()"
   ]
  },
  {
   "cell_type": "code",
   "execution_count": 135,
   "metadata": {
    "collapsed": true
   },
   "outputs": [],
   "source": [
    "life_weather = new_pd_removelast.merge(weather_only, left_on='id', right_on='id', how='left')"
   ]
  },
  {
   "cell_type": "code",
   "execution_count": 136,
   "metadata": {
    "collapsed": false
   },
   "outputs": [
    {
     "data": {
      "text/plain": [
       "id                       0\n",
       "duration                 0\n",
       "start_date               0\n",
       "start_station_name       0\n",
       "start_station_id         0\n",
       "end_date                 0\n",
       "end_station_name         0\n",
       "end_station_id           0\n",
       "bike_id                  0\n",
       "subscription_type        0\n",
       "zip_code              6044\n",
       "city                     0\n",
       "bike_group               0\n",
       "Temperature              0\n",
       "Humidity                 0\n",
       "Dewpoint               303\n",
       "Pressure                12\n",
       "Visibility              18\n",
       "dtype: int64"
      ]
     },
     "execution_count": 136,
     "metadata": {},
     "output_type": "execute_result"
    }
   ],
   "source": [
    "life_weather.isnull().sum()"
   ]
  },
  {
   "cell_type": "code",
   "execution_count": 137,
   "metadata": {
    "collapsed": true
   },
   "outputs": [],
   "source": [
    "# After check the nan columns, one value in visibility happens in red wood city, all other nan value happen in Palo Alto \n",
    "life_weather.loc[life_weather.id == 48812, 'Visibility' ] = 10.0 # 10.0 is the median value of visibility in red wood city"
   ]
  },
  {
   "cell_type": "code",
   "execution_count": 138,
   "metadata": {
    "collapsed": true
   },
   "outputs": [],
   "source": [
    "temp = life_weather[life_weather.city == 'Palo Alto']\n",
    "life_weather['Dewpoint'].fillna(temp['Dewpoint'].median(), inplace=True)\n",
    "life_weather['Pressure'].fillna(temp['Pressure'].median(), inplace=True)\n",
    "life_weather['Visibility'].fillna(temp['Visibility'].median(), inplace=True)"
   ]
  },
  {
   "cell_type": "code",
   "execution_count": 139,
   "metadata": {
    "collapsed": false
   },
   "outputs": [
    {
     "data": {
      "text/plain": [
       "id                       0\n",
       "duration                 0\n",
       "start_date               0\n",
       "start_station_name       0\n",
       "start_station_id         0\n",
       "end_date                 0\n",
       "end_station_name         0\n",
       "end_station_id           0\n",
       "bike_id                  0\n",
       "subscription_type        0\n",
       "zip_code              6044\n",
       "city                     0\n",
       "bike_group               0\n",
       "Temperature              0\n",
       "Humidity                 0\n",
       "Dewpoint                 0\n",
       "Pressure                 0\n",
       "Visibility               0\n",
       "dtype: int64"
      ]
     },
     "execution_count": 139,
     "metadata": {},
     "output_type": "execute_result"
    }
   ],
   "source": [
    "life_weather.isnull().sum()"
   ]
  },
  {
   "cell_type": "code",
   "execution_count": 140,
   "metadata": {
    "collapsed": false
   },
   "outputs": [
    {
     "data": {
      "text/html": [
       "<div>\n",
       "<style>\n",
       "    .dataframe thead tr:only-child th {\n",
       "        text-align: right;\n",
       "    }\n",
       "\n",
       "    .dataframe thead th {\n",
       "        text-align: left;\n",
       "    }\n",
       "\n",
       "    .dataframe tbody tr th {\n",
       "        vertical-align: top;\n",
       "    }\n",
       "</style>\n",
       "<table border=\"1\" class=\"dataframe\">\n",
       "  <thead>\n",
       "    <tr style=\"text-align: right;\">\n",
       "      <th></th>\n",
       "      <th>id</th>\n",
       "      <th>duration</th>\n",
       "      <th>start_date</th>\n",
       "      <th>start_station_name</th>\n",
       "      <th>start_station_id</th>\n",
       "      <th>end_date</th>\n",
       "      <th>end_station_name</th>\n",
       "      <th>end_station_id</th>\n",
       "      <th>bike_id</th>\n",
       "      <th>subscription_type</th>\n",
       "      <th>zip_code</th>\n",
       "      <th>city</th>\n",
       "      <th>bike_group</th>\n",
       "      <th>Temperature</th>\n",
       "      <th>Humidity</th>\n",
       "      <th>Dewpoint</th>\n",
       "      <th>Pressure</th>\n",
       "      <th>Visibility</th>\n",
       "    </tr>\n",
       "  </thead>\n",
       "  <tbody>\n",
       "    <tr>\n",
       "      <th>0</th>\n",
       "      <td>4298</td>\n",
       "      <td>460</td>\n",
       "      <td>2013-08-29 12:02:00</td>\n",
       "      <td>Cowper at University</td>\n",
       "      <td>37</td>\n",
       "      <td>2013-08-29 12:10:00</td>\n",
       "      <td>University and Emerson</td>\n",
       "      <td>35</td>\n",
       "      <td>9</td>\n",
       "      <td>Subscriber</td>\n",
       "      <td>94025</td>\n",
       "      <td>Palo Alto</td>\n",
       "      <td>9_0</td>\n",
       "      <td>73.4</td>\n",
       "      <td>0.73</td>\n",
       "      <td>64.4</td>\n",
       "      <td>30.060</td>\n",
       "      <td>30.0</td>\n",
       "    </tr>\n",
       "    <tr>\n",
       "      <th>1</th>\n",
       "      <td>6340</td>\n",
       "      <td>2746</td>\n",
       "      <td>2013-08-30 18:48:00</td>\n",
       "      <td>University and Emerson</td>\n",
       "      <td>35</td>\n",
       "      <td>2013-08-30 19:34:00</td>\n",
       "      <td>University and Emerson</td>\n",
       "      <td>35</td>\n",
       "      <td>9</td>\n",
       "      <td>Customer</td>\n",
       "      <td>94301</td>\n",
       "      <td>Palo Alto</td>\n",
       "      <td>9_0</td>\n",
       "      <td>73.4</td>\n",
       "      <td>0.67</td>\n",
       "      <td>61.7</td>\n",
       "      <td>29.925</td>\n",
       "      <td>30.0</td>\n",
       "    </tr>\n",
       "    <tr>\n",
       "      <th>2</th>\n",
       "      <td>7123</td>\n",
       "      <td>996</td>\n",
       "      <td>2013-08-31 15:39:00</td>\n",
       "      <td>University and Emerson</td>\n",
       "      <td>35</td>\n",
       "      <td>2013-08-31 15:56:00</td>\n",
       "      <td>California Ave Caltrain Station</td>\n",
       "      <td>36</td>\n",
       "      <td>9</td>\n",
       "      <td>Customer</td>\n",
       "      <td>10003</td>\n",
       "      <td>Palo Alto</td>\n",
       "      <td>9_0</td>\n",
       "      <td>75.2</td>\n",
       "      <td>0.65</td>\n",
       "      <td>62.6</td>\n",
       "      <td>29.920</td>\n",
       "      <td>30.0</td>\n",
       "    </tr>\n",
       "    <tr>\n",
       "      <th>3</th>\n",
       "      <td>7384</td>\n",
       "      <td>1398</td>\n",
       "      <td>2013-08-31 19:02:00</td>\n",
       "      <td>California Ave Caltrain Station</td>\n",
       "      <td>36</td>\n",
       "      <td>2013-08-31 19:26:00</td>\n",
       "      <td>University and Emerson</td>\n",
       "      <td>35</td>\n",
       "      <td>9</td>\n",
       "      <td>Customer</td>\n",
       "      <td>10036</td>\n",
       "      <td>Palo Alto</td>\n",
       "      <td>9_0</td>\n",
       "      <td>68.0</td>\n",
       "      <td>0.00</td>\n",
       "      <td>51.8</td>\n",
       "      <td>29.910</td>\n",
       "      <td>30.0</td>\n",
       "    </tr>\n",
       "    <tr>\n",
       "      <th>4</th>\n",
       "      <td>6701</td>\n",
       "      <td>9826</td>\n",
       "      <td>2013-08-31 11:45:00</td>\n",
       "      <td>University and Emerson</td>\n",
       "      <td>35</td>\n",
       "      <td>2013-08-31 14:29:00</td>\n",
       "      <td>University and Emerson</td>\n",
       "      <td>35</td>\n",
       "      <td>9</td>\n",
       "      <td>Customer</td>\n",
       "      <td>NaN</td>\n",
       "      <td>Palo Alto</td>\n",
       "      <td>9_0</td>\n",
       "      <td>73.4</td>\n",
       "      <td>0.67</td>\n",
       "      <td>61.7</td>\n",
       "      <td>29.965</td>\n",
       "      <td>30.0</td>\n",
       "    </tr>\n",
       "  </tbody>\n",
       "</table>\n",
       "</div>"
      ],
      "text/plain": [
       "     id  duration          start_date               start_station_name  \\\n",
       "0  4298       460 2013-08-29 12:02:00             Cowper at University   \n",
       "1  6340      2746 2013-08-30 18:48:00           University and Emerson   \n",
       "2  7123       996 2013-08-31 15:39:00           University and Emerson   \n",
       "3  7384      1398 2013-08-31 19:02:00  California Ave Caltrain Station   \n",
       "4  6701      9826 2013-08-31 11:45:00           University and Emerson   \n",
       "\n",
       "   start_station_id            end_date                 end_station_name  \\\n",
       "0                37 2013-08-29 12:10:00           University and Emerson   \n",
       "1                35 2013-08-30 19:34:00           University and Emerson   \n",
       "2                35 2013-08-31 15:56:00  California Ave Caltrain Station   \n",
       "3                36 2013-08-31 19:26:00           University and Emerson   \n",
       "4                35 2013-08-31 14:29:00           University and Emerson   \n",
       "\n",
       "   end_station_id  bike_id subscription_type zip_code       city bike_group  \\\n",
       "0              35        9        Subscriber    94025  Palo Alto        9_0   \n",
       "1              35        9          Customer    94301  Palo Alto        9_0   \n",
       "2              36        9          Customer    10003  Palo Alto        9_0   \n",
       "3              35        9          Customer    10036  Palo Alto        9_0   \n",
       "4              35        9          Customer      NaN  Palo Alto        9_0   \n",
       "\n",
       "   Temperature  Humidity  Dewpoint  Pressure  Visibility  \n",
       "0         73.4      0.73      64.4    30.060        30.0  \n",
       "1         73.4      0.67      61.7    29.925        30.0  \n",
       "2         75.2      0.65      62.6    29.920        30.0  \n",
       "3         68.0      0.00      51.8    29.910        30.0  \n",
       "4         73.4      0.67      61.7    29.965        30.0  "
      ]
     },
     "execution_count": 140,
     "metadata": {},
     "output_type": "execute_result"
    }
   ],
   "source": [
    "life_weather.head()"
   ]
  },
  {
   "cell_type": "code",
   "execution_count": 142,
   "metadata": {
    "collapsed": true
   },
   "outputs": [],
   "source": [
    "life_weather.to_csv('life_weather_1124.csv')"
   ]
  },
  {
   "cell_type": "code",
   "execution_count": null,
   "metadata": {
    "collapsed": true
   },
   "outputs": [],
   "source": []
  }
 ],
 "metadata": {
  "kernelspec": {
   "display_name": "py35",
   "language": "python",
   "name": "py35"
  },
  "language_info": {
   "codemirror_mode": {
    "name": "ipython",
    "version": 3
   },
   "file_extension": ".py",
   "mimetype": "text/x-python",
   "name": "python",
   "nbconvert_exporter": "python",
   "pygments_lexer": "ipython3",
   "version": "3.5.3"
  }
 },
 "nbformat": 4,
 "nbformat_minor": 2
}
