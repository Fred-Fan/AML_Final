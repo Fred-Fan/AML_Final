{
 "cells": [
  {
   "cell_type": "code",
   "execution_count": 1,
   "metadata": {
    "collapsed": true
   },
   "outputs": [],
   "source": [
    "import pandas as pd\n",
    "import numpy as np\n",
    "import matplotlib.pyplot as plt  \n",
    "import pickle\n",
    "from collections import Counter"
   ]
  },
  {
   "cell_type": "code",
   "execution_count": 5,
   "metadata": {
    "collapsed": false
   },
   "outputs": [],
   "source": [
    "trip_bay = pd.read_csv('bay_trip_city.csv', index_col=0)\n"
   ]
  },
  {
   "cell_type": "code",
   "execution_count": 6,
   "metadata": {
    "collapsed": false
   },
   "outputs": [
    {
     "data": {
      "text/html": [
       "<div>\n",
       "<style>\n",
       "    .dataframe thead tr:only-child th {\n",
       "        text-align: right;\n",
       "    }\n",
       "\n",
       "    .dataframe thead th {\n",
       "        text-align: left;\n",
       "    }\n",
       "\n",
       "    .dataframe tbody tr th {\n",
       "        vertical-align: top;\n",
       "    }\n",
       "</style>\n",
       "<table border=\"1\" class=\"dataframe\">\n",
       "  <thead>\n",
       "    <tr style=\"text-align: right;\">\n",
       "      <th></th>\n",
       "      <th>id</th>\n",
       "      <th>duration</th>\n",
       "      <th>start_date</th>\n",
       "      <th>start_station_name</th>\n",
       "      <th>start_station_id</th>\n",
       "      <th>end_date</th>\n",
       "      <th>end_station_name</th>\n",
       "      <th>end_station_id</th>\n",
       "      <th>bike_id</th>\n",
       "      <th>subscription_type</th>\n",
       "      <th>zip_code</th>\n",
       "      <th>city</th>\n",
       "    </tr>\n",
       "  </thead>\n",
       "  <tbody>\n",
       "    <tr>\n",
       "      <th>0</th>\n",
       "      <td>4576</td>\n",
       "      <td>63</td>\n",
       "      <td>2013-08-29 14:13:00</td>\n",
       "      <td>South Van Ness at Market</td>\n",
       "      <td>66</td>\n",
       "      <td>2013-08-29 14:14:00</td>\n",
       "      <td>South Van Ness at Market</td>\n",
       "      <td>66</td>\n",
       "      <td>520</td>\n",
       "      <td>Subscriber</td>\n",
       "      <td>94127</td>\n",
       "      <td>San Francisco</td>\n",
       "    </tr>\n",
       "    <tr>\n",
       "      <th>1</th>\n",
       "      <td>4607</td>\n",
       "      <td>70</td>\n",
       "      <td>2013-08-29 14:42:00</td>\n",
       "      <td>San Jose City Hall</td>\n",
       "      <td>10</td>\n",
       "      <td>2013-08-29 14:43:00</td>\n",
       "      <td>San Jose City Hall</td>\n",
       "      <td>10</td>\n",
       "      <td>661</td>\n",
       "      <td>Subscriber</td>\n",
       "      <td>95138</td>\n",
       "      <td>San Jose</td>\n",
       "    </tr>\n",
       "    <tr>\n",
       "      <th>2</th>\n",
       "      <td>4130</td>\n",
       "      <td>71</td>\n",
       "      <td>2013-08-29 10:16:00</td>\n",
       "      <td>Mountain View City Hall</td>\n",
       "      <td>27</td>\n",
       "      <td>2013-08-29 10:17:00</td>\n",
       "      <td>Mountain View City Hall</td>\n",
       "      <td>27</td>\n",
       "      <td>48</td>\n",
       "      <td>Subscriber</td>\n",
       "      <td>97214</td>\n",
       "      <td>Mountain View</td>\n",
       "    </tr>\n",
       "    <tr>\n",
       "      <th>3</th>\n",
       "      <td>4251</td>\n",
       "      <td>77</td>\n",
       "      <td>2013-08-29 11:29:00</td>\n",
       "      <td>San Jose City Hall</td>\n",
       "      <td>10</td>\n",
       "      <td>2013-08-29 11:30:00</td>\n",
       "      <td>San Jose City Hall</td>\n",
       "      <td>10</td>\n",
       "      <td>26</td>\n",
       "      <td>Subscriber</td>\n",
       "      <td>95060</td>\n",
       "      <td>San Jose</td>\n",
       "    </tr>\n",
       "    <tr>\n",
       "      <th>4</th>\n",
       "      <td>4299</td>\n",
       "      <td>83</td>\n",
       "      <td>2013-08-29 12:02:00</td>\n",
       "      <td>South Van Ness at Market</td>\n",
       "      <td>66</td>\n",
       "      <td>2013-08-29 12:04:00</td>\n",
       "      <td>Market at 10th</td>\n",
       "      <td>67</td>\n",
       "      <td>319</td>\n",
       "      <td>Subscriber</td>\n",
       "      <td>94103</td>\n",
       "      <td>San Francisco</td>\n",
       "    </tr>\n",
       "  </tbody>\n",
       "</table>\n",
       "</div>"
      ],
      "text/plain": [
       "     id  duration           start_date        start_station_name  \\\n",
       "0  4576        63  2013-08-29 14:13:00  South Van Ness at Market   \n",
       "1  4607        70  2013-08-29 14:42:00        San Jose City Hall   \n",
       "2  4130        71  2013-08-29 10:16:00   Mountain View City Hall   \n",
       "3  4251        77  2013-08-29 11:29:00        San Jose City Hall   \n",
       "4  4299        83  2013-08-29 12:02:00  South Van Ness at Market   \n",
       "\n",
       "   start_station_id             end_date          end_station_name  \\\n",
       "0                66  2013-08-29 14:14:00  South Van Ness at Market   \n",
       "1                10  2013-08-29 14:43:00        San Jose City Hall   \n",
       "2                27  2013-08-29 10:17:00   Mountain View City Hall   \n",
       "3                10  2013-08-29 11:30:00        San Jose City Hall   \n",
       "4                66  2013-08-29 12:04:00            Market at 10th   \n",
       "\n",
       "   end_station_id  bike_id subscription_type zip_code           city  \n",
       "0              66      520        Subscriber    94127  San Francisco  \n",
       "1              10      661        Subscriber    95138       San Jose  \n",
       "2              27       48        Subscriber    97214  Mountain View  \n",
       "3              10       26        Subscriber    95060       San Jose  \n",
       "4              67      319        Subscriber    94103  San Francisco  "
      ]
     },
     "execution_count": 6,
     "metadata": {},
     "output_type": "execute_result"
    }
   ],
   "source": [
    "trip_bay.head()"
   ]
  },
  {
   "cell_type": "code",
   "execution_count": 4,
   "metadata": {
    "collapsed": false
   },
   "outputs": [
    {
     "data": {
      "text/plain": [
       "(669959, 13)"
      ]
     },
     "execution_count": 4,
     "metadata": {},
     "output_type": "execute_result"
    }
   ],
   "source": [
    "trip_bay.shape"
   ]
  },
  {
   "cell_type": "code",
   "execution_count": 25,
   "metadata": {
    "collapsed": false,
    "scrolled": true
   },
   "outputs": [
    {
     "data": {
      "text/plain": [
       "878"
      ]
     },
     "execution_count": 25,
     "metadata": {},
     "output_type": "execute_result"
    }
   ],
   "source": [
    "np.max(trip_bay.bike_id.unique())"
   ]
  },
  {
   "cell_type": "markdown",
   "metadata": {},
   "source": [
    "### check interval "
   ]
  },
  {
   "cell_type": "code",
   "execution_count": 78,
   "metadata": {
    "collapsed": true,
    "scrolled": true
   },
   "outputs": [],
   "source": [
    "def collectinterval(dataset):\n",
    "    #final_id_list = []\n",
    "    interval_list = []\n",
    "    bikeid = set(dataset.bike_id.unique())\n",
    "    for bike_id in bikeid:\n",
    "        temp = dataset[dataset['bike_id'] == bike_id] \n",
    "        temp.loc[:,'start_date'] =pd.to_datetime(temp['start_date'].values)\n",
    "        temp.loc[:,'end_date'] =pd.to_datetime(temp['end_date'].values)\n",
    "        temp = temp.sort_values(by=['start_date'])\n",
    "        for i in range(1, len(temp)):\n",
    "            t = ((temp.iloc[i].start_date-temp.iloc[i-1].end_date)/np.timedelta64(1, 'D')).astype(int)\n",
    "            interval_list.append(t)\n",
    "        #print(bike_id)\n",
    "    return interval_list"
   ]
  },
  {
   "cell_type": "code",
   "execution_count": 82,
   "metadata": {
    "collapsed": true
   },
   "outputs": [],
   "source": [
    "temp = trip[(trip['bike_id'] == 9) | (trip['bike_id'] == 10) ]"
   ]
  },
  {
   "cell_type": "code",
   "execution_count": 85,
   "metadata": {
    "collapsed": false,
    "scrolled": true
   },
   "outputs": [
    {
     "name": "stderr",
     "output_type": "stream",
     "text": [
      "C:\\Users\\Xuancheng Fan\\AppData\\Local\\Programs\\Python\\Python35\\lib\\site-packages\\pandas\\core\\indexing.py:517: SettingWithCopyWarning: \n",
      "A value is trying to be set on a copy of a slice from a DataFrame.\n",
      "Try using .loc[row_indexer,col_indexer] = value instead\n",
      "\n",
      "See the caveats in the documentation: http://pandas.pydata.org/pandas-docs/stable/indexing.html#indexing-view-versus-copy\n",
      "  self.obj[item] = s\n"
     ]
    },
    {
     "name": "stdout",
     "output_type": "stream",
     "text": [
      "9\n",
      "10\n",
      "11\n",
      "12\n",
      "13\n",
      "14\n",
      "15\n",
      "16\n",
      "17\n",
      "18\n",
      "19\n",
      "20\n",
      "21\n",
      "22\n",
      "23\n",
      "24\n",
      "25\n",
      "26\n",
      "27\n",
      "28\n",
      "29\n",
      "30\n",
      "31\n",
      "32\n",
      "33\n",
      "34\n",
      "35\n",
      "36\n",
      "37\n",
      "38\n",
      "39\n",
      "40\n",
      "41\n",
      "42\n",
      "43\n",
      "44\n",
      "45\n",
      "46\n",
      "47\n",
      "48\n",
      "49\n",
      "50\n",
      "51\n",
      "52\n",
      "53\n",
      "54\n",
      "55\n",
      "56\n",
      "57\n",
      "58\n",
      "59\n",
      "60\n",
      "61\n",
      "62\n",
      "63\n",
      "64\n",
      "65\n",
      "66\n",
      "67\n",
      "68\n",
      "69\n",
      "70\n",
      "71\n",
      "72\n",
      "74\n",
      "75\n",
      "76\n",
      "77\n",
      "78\n",
      "79\n",
      "80\n",
      "81\n",
      "82\n",
      "83\n",
      "84\n",
      "85\n",
      "86\n",
      "87\n",
      "88\n",
      "89\n",
      "90\n",
      "91\n",
      "92\n",
      "93\n",
      "94\n",
      "95\n",
      "96\n",
      "97\n",
      "98\n",
      "99\n",
      "100\n",
      "101\n",
      "102\n",
      "103\n",
      "104\n",
      "105\n",
      "106\n",
      "107\n",
      "108\n",
      "109\n",
      "110\n",
      "111\n",
      "112\n",
      "116\n",
      "117\n",
      "118\n",
      "119\n",
      "120\n",
      "121\n",
      "122\n",
      "123\n",
      "124\n",
      "125\n",
      "126\n",
      "127\n",
      "128\n",
      "129\n",
      "130\n",
      "131\n",
      "132\n",
      "133\n",
      "134\n",
      "135\n",
      "136\n",
      "137\n",
      "138\n",
      "139\n",
      "140\n",
      "141\n",
      "142\n",
      "143\n",
      "144\n",
      "145\n",
      "146\n",
      "147\n",
      "148\n",
      "149\n",
      "150\n",
      "151\n",
      "152\n",
      "153\n",
      "154\n",
      "155\n",
      "156\n",
      "157\n",
      "158\n",
      "159\n",
      "160\n",
      "161\n",
      "162\n",
      "163\n",
      "164\n",
      "165\n",
      "167\n",
      "168\n",
      "174\n",
      "175\n",
      "176\n",
      "177\n",
      "178\n",
      "179\n",
      "180\n",
      "181\n",
      "182\n",
      "183\n",
      "184\n",
      "185\n",
      "186\n",
      "187\n",
      "188\n",
      "189\n",
      "190\n",
      "191\n",
      "192\n",
      "193\n",
      "194\n",
      "195\n",
      "196\n",
      "197\n",
      "198\n",
      "199\n",
      "200\n",
      "201\n",
      "202\n",
      "203\n",
      "205\n",
      "206\n",
      "207\n",
      "208\n",
      "209\n",
      "210\n",
      "211\n",
      "212\n",
      "213\n",
      "214\n",
      "215\n",
      "216\n",
      "217\n",
      "218\n",
      "219\n",
      "221\n",
      "222\n",
      "223\n",
      "224\n",
      "225\n",
      "226\n",
      "227\n",
      "228\n",
      "229\n",
      "230\n",
      "231\n",
      "232\n",
      "233\n",
      "234\n",
      "235\n",
      "236\n",
      "237\n",
      "238\n",
      "239\n",
      "240\n",
      "241\n",
      "242\n",
      "243\n",
      "244\n",
      "245\n",
      "246\n",
      "247\n",
      "248\n",
      "249\n",
      "250\n",
      "251\n",
      "252\n",
      "253\n",
      "254\n",
      "255\n",
      "256\n",
      "257\n",
      "258\n",
      "259\n",
      "260\n",
      "261\n",
      "262\n",
      "263\n",
      "264\n",
      "265\n",
      "266\n",
      "267\n",
      "268\n",
      "269\n",
      "270\n",
      "271\n",
      "272\n",
      "273\n",
      "274\n",
      "275\n",
      "276\n",
      "277\n",
      "278\n",
      "279\n",
      "280\n",
      "281\n",
      "282\n",
      "283\n",
      "284\n",
      "285\n",
      "286\n",
      "287\n",
      "288\n",
      "289\n",
      "290\n",
      "291\n",
      "292\n",
      "293\n",
      "294\n",
      "295\n",
      "296\n",
      "297\n",
      "298\n",
      "299\n",
      "300\n",
      "301\n",
      "302\n",
      "303\n",
      "304\n",
      "305\n",
      "306\n",
      "307\n",
      "308\n",
      "309\n",
      "310\n",
      "311\n",
      "312\n",
      "313\n",
      "314\n",
      "315\n",
      "316\n",
      "317\n",
      "318\n",
      "319\n",
      "320\n",
      "321\n",
      "322\n",
      "323\n",
      "324\n",
      "325\n",
      "326\n",
      "327\n",
      "328\n",
      "329\n",
      "330\n",
      "331\n",
      "332\n",
      "333\n",
      "334\n",
      "335\n",
      "336\n",
      "337\n",
      "338\n",
      "339\n",
      "340\n",
      "341\n",
      "342\n",
      "343\n",
      "344\n",
      "345\n",
      "347\n",
      "348\n",
      "349\n",
      "350\n",
      "351\n",
      "352\n",
      "353\n",
      "354\n",
      "355\n",
      "356\n",
      "357\n",
      "358\n",
      "359\n",
      "360\n",
      "361\n",
      "362\n",
      "363\n",
      "364\n",
      "365\n",
      "366\n",
      "367\n",
      "368\n",
      "369\n",
      "370\n",
      "371\n",
      "372\n",
      "373\n",
      "374\n",
      "375\n",
      "376\n",
      "377\n",
      "378\n",
      "379\n",
      "380\n",
      "381\n",
      "382\n",
      "383\n",
      "384\n",
      "385\n",
      "386\n",
      "387\n",
      "388\n",
      "389\n",
      "390\n",
      "391\n",
      "392\n",
      "393\n",
      "394\n",
      "395\n",
      "396\n",
      "397\n",
      "398\n",
      "399\n",
      "400\n",
      "401\n",
      "402\n",
      "403\n",
      "404\n",
      "405\n",
      "406\n",
      "407\n",
      "408\n",
      "409\n",
      "410\n",
      "411\n",
      "412\n",
      "413\n",
      "414\n",
      "415\n",
      "416\n",
      "417\n",
      "418\n",
      "419\n",
      "420\n",
      "421\n",
      "422\n",
      "423\n",
      "424\n",
      "425\n",
      "426\n",
      "427\n",
      "428\n",
      "429\n",
      "430\n",
      "431\n",
      "432\n",
      "433\n",
      "434\n",
      "435\n",
      "436\n",
      "437\n",
      "438\n",
      "439\n",
      "440\n",
      "441\n",
      "442\n",
      "443\n",
      "444\n",
      "445\n",
      "446\n",
      "447\n",
      "448\n",
      "449\n",
      "450\n",
      "451\n",
      "452\n",
      "453\n",
      "454\n",
      "455\n",
      "456\n",
      "457\n",
      "458\n",
      "459\n",
      "460\n",
      "461\n",
      "462\n",
      "463\n",
      "464\n",
      "465\n",
      "466\n",
      "467\n",
      "468\n",
      "469\n",
      "470\n",
      "471\n",
      "472\n",
      "473\n",
      "474\n",
      "475\n",
      "476\n",
      "477\n",
      "478\n",
      "479\n",
      "480\n",
      "481\n",
      "482\n",
      "483\n",
      "484\n",
      "485\n",
      "486\n",
      "487\n",
      "488\n",
      "489\n",
      "490\n",
      "491\n",
      "492\n",
      "493\n",
      "494\n",
      "495\n",
      "496\n",
      "497\n",
      "498\n",
      "499\n",
      "500\n",
      "501\n",
      "502\n",
      "503\n",
      "504\n",
      "505\n",
      "506\n",
      "507\n",
      "508\n",
      "509\n",
      "510\n",
      "511\n",
      "512\n",
      "513\n",
      "514\n",
      "515\n",
      "516\n",
      "517\n",
      "518\n",
      "519\n",
      "520\n",
      "521\n",
      "522\n",
      "523\n",
      "524\n",
      "525\n",
      "526\n",
      "527\n",
      "528\n",
      "529\n",
      "530\n",
      "531\n",
      "532\n",
      "533\n",
      "534\n",
      "535\n",
      "536\n",
      "537\n",
      "538\n",
      "539\n",
      "540\n",
      "541\n",
      "542\n",
      "543\n",
      "544\n",
      "545\n",
      "546\n",
      "547\n",
      "548\n",
      "549\n",
      "550\n",
      "551\n",
      "552\n",
      "553\n",
      "554\n",
      "555\n",
      "556\n",
      "557\n",
      "558\n",
      "559\n",
      "560\n",
      "561\n",
      "562\n",
      "563\n",
      "564\n",
      "565\n",
      "566\n",
      "567\n",
      "568\n",
      "569\n",
      "570\n",
      "571\n",
      "572\n",
      "573\n",
      "574\n",
      "575\n",
      "576\n",
      "577\n",
      "578\n",
      "579\n",
      "580\n",
      "581\n",
      "582\n",
      "583\n",
      "584\n",
      "585\n",
      "586\n",
      "587\n",
      "588\n",
      "589\n",
      "590\n",
      "591\n",
      "592\n",
      "593\n",
      "594\n",
      "595\n",
      "596\n",
      "597\n",
      "598\n",
      "599\n",
      "600\n",
      "601\n",
      "602\n",
      "603\n",
      "604\n",
      "605\n",
      "606\n",
      "607\n",
      "608\n",
      "609\n",
      "610\n",
      "611\n",
      "612\n",
      "613\n",
      "614\n",
      "615\n",
      "616\n",
      "617\n",
      "618\n",
      "619\n",
      "620\n",
      "621\n",
      "622\n",
      "623\n",
      "624\n",
      "625\n",
      "626\n",
      "627\n",
      "628\n",
      "629\n",
      "630\n",
      "631\n",
      "632\n",
      "633\n",
      "634\n",
      "635\n",
      "636\n",
      "637\n",
      "638\n",
      "639\n",
      "640\n",
      "641\n",
      "642\n",
      "643\n",
      "644\n",
      "645\n",
      "646\n",
      "647\n",
      "648\n",
      "649\n",
      "650\n",
      "651\n",
      "652\n",
      "653\n",
      "654\n",
      "655\n",
      "656\n",
      "657\n",
      "658\n",
      "659\n",
      "660\n",
      "661\n",
      "662\n",
      "663\n",
      "664\n",
      "665\n",
      "666\n",
      "667\n",
      "668\n",
      "669\n",
      "670\n",
      "671\n",
      "672\n",
      "673\n",
      "674\n",
      "675\n",
      "676\n",
      "677\n",
      "678\n",
      "679\n",
      "680\n",
      "681\n",
      "682\n",
      "683\n",
      "684\n",
      "685\n",
      "686\n",
      "687\n",
      "688\n",
      "689\n",
      "690\n",
      "691\n",
      "692\n",
      "693\n",
      "694\n",
      "695\n",
      "696\n",
      "697\n",
      "698\n",
      "699\n",
      "700\n",
      "701\n",
      "702\n",
      "703\n",
      "704\n",
      "705\n",
      "706\n",
      "707\n",
      "708\n",
      "709\n",
      "710\n",
      "711\n",
      "712\n",
      "713\n",
      "714\n",
      "715\n",
      "716\n",
      "717\n",
      "740\n",
      "876\n",
      "877\n",
      "878\n"
     ]
    }
   ],
   "source": [
    "t = collectinterval(trip_bay)\n",
    " "
   ]
  },
  {
   "cell_type": "code",
   "execution_count": 86,
   "metadata": {
    "collapsed": false
   },
   "outputs": [
    {
     "data": {
      "text/plain": [
       "669259"
      ]
     },
     "execution_count": 86,
     "metadata": {},
     "output_type": "execute_result"
    }
   ],
   "source": [
    "len(t)"
   ]
  },
  {
   "cell_type": "code",
   "execution_count": 95,
   "metadata": {
    "collapsed": false
   },
   "outputs": [
    {
     "data": {
      "text/plain": [
       "(0.43380066610983192, 0.0, 3.0383686951896447)"
      ]
     },
     "execution_count": 95,
     "metadata": {},
     "output_type": "execute_result"
    }
   ],
   "source": [
    "np.mean(t), np.median(t), np.std(t)"
   ]
  },
  {
   "cell_type": "code",
   "execution_count": 96,
   "metadata": {
    "collapsed": false
   },
   "outputs": [
    {
     "data": {
      "text/plain": [
       "(0.78627900155047425, 0.0, 3.7745753185825879)"
      ]
     },
     "execution_count": 96,
     "metadata": {},
     "output_type": "execute_result"
    }
   ],
   "source": [
    "np.mean(t_se), np.median(t_se), np.std(t_se)"
   ]
  },
  {
   "cell_type": "code",
   "execution_count": 97,
   "metadata": {
    "collapsed": true
   },
   "outputs": [],
   "source": [
    "t_all = t + t_se"
   ]
  },
  {
   "cell_type": "code",
   "execution_count": 98,
   "metadata": {
    "collapsed": false
   },
   "outputs": [
    {
     "data": {
      "text/plain": [
       "(0.53942506616102792, 0.0, 3.2803633470504514)"
      ]
     },
     "execution_count": 98,
     "metadata": {},
     "output_type": "execute_result"
    }
   ],
   "source": [
    "np.mean(t_all), np.median(t_all), np.std(t_all)"
   ]
  },
  {
   "cell_type": "code",
   "execution_count": null,
   "metadata": {
    "collapsed": true
   },
   "outputs": [],
   "source": []
  },
  {
   "cell_type": "code",
   "execution_count": null,
   "metadata": {
    "collapsed": true
   },
   "outputs": [],
   "source": []
  },
  {
   "cell_type": "markdown",
   "metadata": {},
   "source": [
    "### Duration"
   ]
  },
  {
   "cell_type": "code",
   "execution_count": 33,
   "metadata": {
    "collapsed": true
   },
   "outputs": [],
   "source": [
    "interval_log = np.log10(np.array(trip_bay.duration))"
   ]
  },
  {
   "cell_type": "code",
   "execution_count": 34,
   "metadata": {
    "collapsed": false,
    "scrolled": false
   },
   "outputs": [
    {
     "data": {
      "image/png": "[encoded data removed]",
      "text/plain": [
       "<matplotlib.figure.Figure at 0x1dc8c2437b8>"
      ]
     },
     "metadata": {},
     "output_type": "display_data"
    }
   ],
   "source": [
    "fig, ax = plt.subplots(figsize = [15,15], facecolor = [0.9,0.9,0.9])\n",
    "#labels, values = zip(*counter_inteval.items())\n",
    "#plt.hist(c,facecolor='g')\n",
    "#indexes = np.arange(len(labels))\n",
    "#plt.bar(indexes, values, 1)\n",
    "plt.hist(interval_log, bins=30, alpha=0.75)\n",
    "plt.xlabel('Interval(10^)')\n",
    "plt.ylabel('Counts')\n",
    "#plt.title('Bay')\n",
    "#plt.axis([0, 10000, 0, 1000000])\n",
    "#plt.grid(True)\n",
    "#ax.set_xlim([0, 20])\n",
    "ax.spines['right'].set_color('none')\n",
    "ax.spines['top'].set_color('none')\n",
    "plt.show()"
   ]
  },
  {
   "cell_type": "code",
   "execution_count": 17,
   "metadata": {
    "collapsed": false
   },
   "outputs": [
    {
     "data": {
      "text/plain": [
       "(2.7404123071376234, 0.34480826453833985)"
      ]
     },
     "execution_count": 17,
     "metadata": {},
     "output_type": "execute_result"
    }
   ],
   "source": [
    "np.mean(interval_log), np.std(interval_log)"
   ]
  },
  {
   "cell_type": "code",
   "execution_count": 37,
   "metadata": {
    "collapsed": true
   },
   "outputs": [],
   "source": [
    "t1 = np.mean(interval_log) + 2.5*np.std(interval_log)"
   ]
  },
  {
   "cell_type": "code",
   "execution_count": 38,
   "metadata": {
    "collapsed": false
   },
   "outputs": [
    {
     "data": {
      "text/plain": [
       "4003.4367220904596"
      ]
     },
     "execution_count": 38,
     "metadata": {},
     "output_type": "execute_result"
    }
   ],
   "source": [
    "np.power(10, t1)"
   ]
  },
  {
   "cell_type": "code",
   "execution_count": 43,
   "metadata": {
    "collapsed": true
   },
   "outputs": [],
   "source": [
    "t2 = np.mean(interval_log) - 7*np.std(interval_log)"
   ]
  },
  {
   "cell_type": "code",
   "execution_count": 44,
   "metadata": {
    "collapsed": false
   },
   "outputs": [
    {
     "data": {
      "text/plain": [
       "2.122044345617919"
      ]
     },
     "execution_count": 44,
     "metadata": {},
     "output_type": "execute_result"
    }
   ],
   "source": [
    "np.power(10, t2)"
   ]
  },
  {
   "cell_type": "code",
   "execution_count": 23,
   "metadata": {
    "collapsed": true
   },
   "outputs": [],
   "source": [
    "c_bay = trip_bay.duration.tolist()"
   ]
  },
  {
   "cell_type": "code",
   "execution_count": 160,
   "metadata": {
    "collapsed": true
   },
   "outputs": [],
   "source": [
    "t = sorted(c_bay)"
   ]
  },
  {
   "cell_type": "code",
   "execution_count": 166,
   "metadata": {
    "collapsed": true
   },
   "outputs": [],
   "source": [
    "index_t = int(len(t) * 0.005)"
   ]
  },
  {
   "cell_type": "code",
   "execution_count": 167,
   "metadata": {
    "collapsed": false
   },
   "outputs": [
    {
     "data": {
      "text/plain": [
       "20638"
      ]
     },
     "execution_count": 167,
     "metadata": {},
     "output_type": "execute_result"
    }
   ],
   "source": [
    "t[-index_t]"
   ]
  },
  {
   "cell_type": "code",
   "execution_count": 175,
   "metadata": {
    "collapsed": true
   },
   "outputs": [],
   "source": [
    "trip_bay_trim = trip_bay[(trip_bay.duration >= 120) & (trip_bay.duration <= 6*3600) ]\n",
    "#trip_bay_trim = trip_bay[trip_bay.duration >= 120 ]"
   ]
  },
  {
   "cell_type": "code",
   "execution_count": 176,
   "metadata": {
    "collapsed": false
   },
   "outputs": [
    {
     "data": {
      "text/plain": [
       "(661556, 13)"
      ]
     },
     "execution_count": 176,
     "metadata": {},
     "output_type": "execute_result"
    }
   ],
   "source": [
    "trip_bay_trim.shape"
   ]
  },
  {
   "cell_type": "code",
   "execution_count": 178,
   "metadata": {
    "collapsed": true
   },
   "outputs": [],
   "source": [
    "trip_bay_trim.to_csv('trim_bay_2min_6hours.csv')"
   ]
  },
  {
   "cell_type": "code",
   "execution_count": 170,
   "metadata": {
    "collapsed": false
   },
   "outputs": [
    {
     "data": {
      "text/plain": [
       "(669959, 13)"
      ]
     },
     "execution_count": 170,
     "metadata": {},
     "output_type": "execute_result"
    }
   ],
   "source": [
    "trip_bay.shape"
   ]
  },
  {
   "cell_type": "code",
   "execution_count": 6,
   "metadata": {
    "collapsed": false
   },
   "outputs": [
    {
     "data": {
      "text/plain": [
       "[63, 70, 71, 77, 83, 103, 109, 111, 113, 114]"
      ]
     },
     "execution_count": 6,
     "metadata": {},
     "output_type": "execute_result"
    }
   ],
   "source": [
    "c_bay[:10]"
   ]
  },
  {
   "cell_type": "code",
   "execution_count": 7,
   "metadata": {
    "collapsed": false,
    "scrolled": true
   },
   "outputs": [
    {
     "data": {
      "text/html": [
       "<div>\n",
       "<style>\n",
       "    .dataframe thead tr:only-child th {\n",
       "        text-align: right;\n",
       "    }\n",
       "\n",
       "    .dataframe thead th {\n",
       "        text-align: left;\n",
       "    }\n",
       "\n",
       "    .dataframe tbody tr th {\n",
       "        vertical-align: top;\n",
       "    }\n",
       "</style>\n",
       "<table border=\"1\" class=\"dataframe\">\n",
       "  <thead>\n",
       "    <tr style=\"text-align: right;\">\n",
       "      <th></th>\n",
       "      <th>Unnamed: 0</th>\n",
       "      <th>id</th>\n",
       "      <th>duration</th>\n",
       "      <th>start_date</th>\n",
       "      <th>start_station_name</th>\n",
       "      <th>start_station_id</th>\n",
       "      <th>end_date</th>\n",
       "      <th>end_station_name</th>\n",
       "      <th>end_station_id</th>\n",
       "      <th>bike_id</th>\n",
       "      <th>subscription_type</th>\n",
       "      <th>zip_code</th>\n",
       "      <th>city</th>\n",
       "    </tr>\n",
       "  </thead>\n",
       "  <tbody>\n",
       "    <tr>\n",
       "      <th>0</th>\n",
       "      <td>0</td>\n",
       "      <td>4576</td>\n",
       "      <td>63</td>\n",
       "      <td>2013-08-29 14:13:00</td>\n",
       "      <td>South Van Ness at Market</td>\n",
       "      <td>66</td>\n",
       "      <td>2013-08-29 14:14:00</td>\n",
       "      <td>South Van Ness at Market</td>\n",
       "      <td>66</td>\n",
       "      <td>520</td>\n",
       "      <td>Subscriber</td>\n",
       "      <td>94127</td>\n",
       "      <td>San Francisco</td>\n",
       "    </tr>\n",
       "    <tr>\n",
       "      <th>1</th>\n",
       "      <td>1</td>\n",
       "      <td>4607</td>\n",
       "      <td>70</td>\n",
       "      <td>2013-08-29 14:42:00</td>\n",
       "      <td>San Jose City Hall</td>\n",
       "      <td>10</td>\n",
       "      <td>2013-08-29 14:43:00</td>\n",
       "      <td>San Jose City Hall</td>\n",
       "      <td>10</td>\n",
       "      <td>661</td>\n",
       "      <td>Subscriber</td>\n",
       "      <td>95138</td>\n",
       "      <td>San Jose</td>\n",
       "    </tr>\n",
       "    <tr>\n",
       "      <th>2</th>\n",
       "      <td>2</td>\n",
       "      <td>4130</td>\n",
       "      <td>71</td>\n",
       "      <td>2013-08-29 10:16:00</td>\n",
       "      <td>Mountain View City Hall</td>\n",
       "      <td>27</td>\n",
       "      <td>2013-08-29 10:17:00</td>\n",
       "      <td>Mountain View City Hall</td>\n",
       "      <td>27</td>\n",
       "      <td>48</td>\n",
       "      <td>Subscriber</td>\n",
       "      <td>97214</td>\n",
       "      <td>Mountain View</td>\n",
       "    </tr>\n",
       "    <tr>\n",
       "      <th>3</th>\n",
       "      <td>3</td>\n",
       "      <td>4251</td>\n",
       "      <td>77</td>\n",
       "      <td>2013-08-29 11:29:00</td>\n",
       "      <td>San Jose City Hall</td>\n",
       "      <td>10</td>\n",
       "      <td>2013-08-29 11:30:00</td>\n",
       "      <td>San Jose City Hall</td>\n",
       "      <td>10</td>\n",
       "      <td>26</td>\n",
       "      <td>Subscriber</td>\n",
       "      <td>95060</td>\n",
       "      <td>San Jose</td>\n",
       "    </tr>\n",
       "    <tr>\n",
       "      <th>4</th>\n",
       "      <td>4</td>\n",
       "      <td>4299</td>\n",
       "      <td>83</td>\n",
       "      <td>2013-08-29 12:02:00</td>\n",
       "      <td>South Van Ness at Market</td>\n",
       "      <td>66</td>\n",
       "      <td>2013-08-29 12:04:00</td>\n",
       "      <td>Market at 10th</td>\n",
       "      <td>67</td>\n",
       "      <td>319</td>\n",
       "      <td>Subscriber</td>\n",
       "      <td>94103</td>\n",
       "      <td>San Francisco</td>\n",
       "    </tr>\n",
       "    <tr>\n",
       "      <th>5</th>\n",
       "      <td>5</td>\n",
       "      <td>4927</td>\n",
       "      <td>103</td>\n",
       "      <td>2013-08-29 18:54:00</td>\n",
       "      <td>Golden Gate at Polk</td>\n",
       "      <td>59</td>\n",
       "      <td>2013-08-29 18:56:00</td>\n",
       "      <td>Golden Gate at Polk</td>\n",
       "      <td>59</td>\n",
       "      <td>527</td>\n",
       "      <td>Subscriber</td>\n",
       "      <td>94109</td>\n",
       "      <td>San Francisco</td>\n",
       "    </tr>\n",
       "    <tr>\n",
       "      <th>6</th>\n",
       "      <td>6</td>\n",
       "      <td>4500</td>\n",
       "      <td>109</td>\n",
       "      <td>2013-08-29 13:25:00</td>\n",
       "      <td>Santa Clara at Almaden</td>\n",
       "      <td>4</td>\n",
       "      <td>2013-08-29 13:27:00</td>\n",
       "      <td>Adobe on Almaden</td>\n",
       "      <td>5</td>\n",
       "      <td>679</td>\n",
       "      <td>Subscriber</td>\n",
       "      <td>95112</td>\n",
       "      <td>San Jose</td>\n",
       "    </tr>\n",
       "    <tr>\n",
       "      <th>7</th>\n",
       "      <td>7</td>\n",
       "      <td>4563</td>\n",
       "      <td>111</td>\n",
       "      <td>2013-08-29 14:02:00</td>\n",
       "      <td>San Salvador at 1st</td>\n",
       "      <td>8</td>\n",
       "      <td>2013-08-29 14:04:00</td>\n",
       "      <td>San Salvador at 1st</td>\n",
       "      <td>8</td>\n",
       "      <td>687</td>\n",
       "      <td>Subscriber</td>\n",
       "      <td>95112</td>\n",
       "      <td>San Jose</td>\n",
       "    </tr>\n",
       "    <tr>\n",
       "      <th>8</th>\n",
       "      <td>8</td>\n",
       "      <td>4760</td>\n",
       "      <td>113</td>\n",
       "      <td>2013-08-29 17:01:00</td>\n",
       "      <td>South Van Ness at Market</td>\n",
       "      <td>66</td>\n",
       "      <td>2013-08-29 17:03:00</td>\n",
       "      <td>South Van Ness at Market</td>\n",
       "      <td>66</td>\n",
       "      <td>553</td>\n",
       "      <td>Subscriber</td>\n",
       "      <td>94103</td>\n",
       "      <td>San Francisco</td>\n",
       "    </tr>\n",
       "    <tr>\n",
       "      <th>9</th>\n",
       "      <td>9</td>\n",
       "      <td>4258</td>\n",
       "      <td>114</td>\n",
       "      <td>2013-08-29 11:33:00</td>\n",
       "      <td>San Jose City Hall</td>\n",
       "      <td>10</td>\n",
       "      <td>2013-08-29 11:35:00</td>\n",
       "      <td>MLK Library</td>\n",
       "      <td>11</td>\n",
       "      <td>107</td>\n",
       "      <td>Subscriber</td>\n",
       "      <td>95060</td>\n",
       "      <td>San Jose</td>\n",
       "    </tr>\n",
       "  </tbody>\n",
       "</table>\n",
       "</div>"
      ],
      "text/plain": [
       "   Unnamed: 0    id  duration           start_date        start_station_name  \\\n",
       "0           0  4576        63  2013-08-29 14:13:00  South Van Ness at Market   \n",
       "1           1  4607        70  2013-08-29 14:42:00        San Jose City Hall   \n",
       "2           2  4130        71  2013-08-29 10:16:00   Mountain View City Hall   \n",
       "3           3  4251        77  2013-08-29 11:29:00        San Jose City Hall   \n",
       "4           4  4299        83  2013-08-29 12:02:00  South Van Ness at Market   \n",
       "5           5  4927       103  2013-08-29 18:54:00       Golden Gate at Polk   \n",
       "6           6  4500       109  2013-08-29 13:25:00    Santa Clara at Almaden   \n",
       "7           7  4563       111  2013-08-29 14:02:00       San Salvador at 1st   \n",
       "8           8  4760       113  2013-08-29 17:01:00  South Van Ness at Market   \n",
       "9           9  4258       114  2013-08-29 11:33:00        San Jose City Hall   \n",
       "\n",
       "   start_station_id             end_date          end_station_name  \\\n",
       "0                66  2013-08-29 14:14:00  South Van Ness at Market   \n",
       "1                10  2013-08-29 14:43:00        San Jose City Hall   \n",
       "2                27  2013-08-29 10:17:00   Mountain View City Hall   \n",
       "3                10  2013-08-29 11:30:00        San Jose City Hall   \n",
       "4                66  2013-08-29 12:04:00            Market at 10th   \n",
       "5                59  2013-08-29 18:56:00       Golden Gate at Polk   \n",
       "6                 4  2013-08-29 13:27:00          Adobe on Almaden   \n",
       "7                 8  2013-08-29 14:04:00       San Salvador at 1st   \n",
       "8                66  2013-08-29 17:03:00  South Van Ness at Market   \n",
       "9                10  2013-08-29 11:35:00               MLK Library   \n",
       "\n",
       "   end_station_id  bike_id subscription_type zip_code           city  \n",
       "0              66      520        Subscriber    94127  San Francisco  \n",
       "1              10      661        Subscriber    95138       San Jose  \n",
       "2              27       48        Subscriber    97214  Mountain View  \n",
       "3              10       26        Subscriber    95060       San Jose  \n",
       "4              67      319        Subscriber    94103  San Francisco  \n",
       "5              59      527        Subscriber    94109  San Francisco  \n",
       "6               5      679        Subscriber    95112       San Jose  \n",
       "7               8      687        Subscriber    95112       San Jose  \n",
       "8              66      553        Subscriber    94103  San Francisco  \n",
       "9              11      107        Subscriber    95060       San Jose  "
      ]
     },
     "execution_count": 7,
     "metadata": {},
     "output_type": "execute_result"
    }
   ],
   "source": [
    "trip_bay.head(10)"
   ]
  },
  {
   "cell_type": "code",
   "execution_count": 9,
   "metadata": {
    "collapsed": true
   },
   "outputs": [],
   "source": [
    "counter_bay = Counter(c_bay)\n"
   ]
  },
  {
   "cell_type": "code",
   "execution_count": 10,
   "metadata": {
    "collapsed": false
   },
   "outputs": [
    {
     "data": {
      "image/png": "[encoded data removed]",
      "text/plain": [
       "<matplotlib.figure.Figure at 0x22c04931b70>"
      ]
     },
     "metadata": {},
     "output_type": "display_data"
    }
   ],
   "source": [
    "# prepare IPython to work with matplotlib and import the library to something convenient\n",
    "# %matplotlib inline  \n",
    "import matplotlib.pyplot as plt  \n",
    "\n",
    "# edit the code below to make the graph look good\n",
    "\n",
    "fig, ax = plt.subplots(figsize = [15,15], facecolor = [0.9,0.9,0.9])\n",
    "labels, values = zip(*counter_bay.items())\n",
    "#plt.hist(c,facecolor='g')\n",
    "indexes = np.arange(len(labels))\n",
    "plt.bar(indexes, values, 1)\n",
    "plt.xlabel('Duration')\n",
    "plt.ylabel('Counts')\n",
    "plt.title('Bay')\n",
    "#plt.axis([0, 10000, 0, 1000000])\n",
    "#plt.grid(True)\n",
    "ax.spines['right'].set_color('none')\n",
    "ax.spines['top'].set_color('none')\n",
    "plt.show()"
   ]
  },
  {
   "cell_type": "code",
   "execution_count": 12,
   "metadata": {
    "collapsed": false
   },
   "outputs": [
    {
     "data": {
      "text/plain": [
       "(1107.9498461846172, 517.0)"
      ]
     },
     "execution_count": 12,
     "metadata": {},
     "output_type": "execute_result"
    }
   ],
   "source": [
    "np.mean(c_bay), np.median(c_bay)"
   ]
  },
  {
   "cell_type": "code",
   "execution_count": 13,
   "metadata": {
    "collapsed": true
   },
   "outputs": [],
   "source": [
    "c_bay = list(filter(lambda x: x < 3000, c_bay))"
   ]
  },
  {
   "cell_type": "code",
   "execution_count": 14,
   "metadata": {
    "collapsed": true
   },
   "outputs": [],
   "source": [
    "counter_bay = Counter(c_bay)"
   ]
  },
  {
   "cell_type": "code",
   "execution_count": 15,
   "metadata": {
    "collapsed": false
   },
   "outputs": [
    {
     "data": {
      "image/png": "[encoded data removed]",
      "text/plain": [
       "<matplotlib.figure.Figure at 0x22c29ba9048>"
      ]
     },
     "metadata": {},
     "output_type": "display_data"
    }
   ],
   "source": [
    "\n",
    "fig, ax = plt.subplots(figsize = [15,15], facecolor = [0.9,0.9,0.9])\n",
    "labels, values = zip(*counter_bay.items())\n",
    "#plt.hist(c,facecolor='g')\n",
    "indexes = np.arange(len(labels))\n",
    "plt.bar(indexes, values, 1)\n",
    "plt.xlabel('Duration')\n",
    "plt.ylabel('Counts')\n",
    "plt.title('Bay')\n",
    "#plt.axis([0, 10000, 0, 1000000])\n",
    "#plt.grid(True)\n",
    "ax.spines['right'].set_color('none')\n",
    "ax.spines['top'].set_color('none')\n",
    "plt.show()"
   ]
  },
  {
   "cell_type": "code",
   "execution_count": 16,
   "metadata": {
    "collapsed": false
   },
   "outputs": [
    {
     "data": {
      "text/plain": [
       "(586.46968017414088, 375.09440463421691)"
      ]
     },
     "execution_count": 16,
     "metadata": {},
     "output_type": "execute_result"
    }
   ],
   "source": [
    "np.mean(c_bay), np.std(c_bay)"
   ]
  },
  {
   "cell_type": "code",
   "execution_count": 17,
   "metadata": {
    "collapsed": true
   },
   "outputs": [],
   "source": [
    "#trip_se['duration'] = trip_se.tripduration.astype(int)\n",
    "c_se = trip_se.duration.tolist()"
   ]
  },
  {
   "cell_type": "code",
   "execution_count": 18,
   "metadata": {
    "collapsed": true
   },
   "outputs": [],
   "source": [
    "counter_se = Counter(c_se)"
   ]
  },
  {
   "cell_type": "code",
   "execution_count": 19,
   "metadata": {
    "collapsed": false
   },
   "outputs": [
    {
     "data": {
      "image/png": "[encoded data removed]",
      "text/plain": [
       "<matplotlib.figure.Figure at 0x22c0493def0>"
      ]
     },
     "metadata": {},
     "output_type": "display_data"
    }
   ],
   "source": [
    "fig, ax = plt.subplots(figsize = [15,15], facecolor = [0.9,0.9,0.9])\n",
    "labels, values = zip(*counter_se.items())\n",
    "#plt.hist(c,facecolor='g')\n",
    "indexes = np.arange(len(labels))\n",
    "plt.bar(indexes, values, 1)\n",
    "plt.xlabel('Duration')\n",
    "plt.ylabel('Counts')\n",
    "plt.title('Seattle')\n",
    "#plt.axis([0, 10000, 0, 1000000])\n",
    "#plt.grid(True)\n",
    "ax.spines['right'].set_color('none')\n",
    "ax.spines['top'].set_color('none')\n",
    "plt.show()"
   ]
  },
  {
   "cell_type": "code",
   "execution_count": 20,
   "metadata": {
    "collapsed": false
   },
   "outputs": [
    {
     "data": {
      "text/plain": [
       "(1177.7961214124111, 624.0)"
      ]
     },
     "execution_count": 20,
     "metadata": {},
     "output_type": "execute_result"
    }
   ],
   "source": [
    "np.mean(c_se), np.median(c_se)"
   ]
  },
  {
   "cell_type": "code",
   "execution_count": 21,
   "metadata": {
    "collapsed": true
   },
   "outputs": [],
   "source": [
    "c_se = list(filter(lambda x: x < 3000, c_se))"
   ]
  },
  {
   "cell_type": "code",
   "execution_count": 22,
   "metadata": {
    "collapsed": true
   },
   "outputs": [],
   "source": [
    "counter_se = Counter(c_se)"
   ]
  },
  {
   "cell_type": "code",
   "execution_count": 23,
   "metadata": {
    "collapsed": false
   },
   "outputs": [
    {
     "data": {
      "image/png": "[encoded data removed]",
      "text/plain": [
       "<matplotlib.figure.Figure at 0x22c049520f0>"
      ]
     },
     "metadata": {},
     "output_type": "display_data"
    }
   ],
   "source": [
    "fig, ax = plt.subplots(figsize = [15,15], facecolor = [0.9,0.9,0.9])\n",
    "labels, values = zip(*counter_se.items())\n",
    "#plt.hist(c,facecolor='g')\n",
    "indexes = np.arange(len(labels))\n",
    "plt.bar(indexes, values, 1)\n",
    "plt.xlabel('Duration')\n",
    "plt.ylabel('Counts')\n",
    "plt.title('Seattle')\n",
    "#plt.axis([0, 10000, 0, 1000000])\n",
    "#plt.grid(True)\n",
    "ax.spines['right'].set_color('none')\n",
    "ax.spines['top'].set_color('none')\n",
    "plt.show()"
   ]
  },
  {
   "cell_type": "code",
   "execution_count": 24,
   "metadata": {
    "collapsed": false
   },
   "outputs": [
    {
     "data": {
      "text/plain": [
       "(751.92733933008049, 538.01172295822676)"
      ]
     },
     "execution_count": 24,
     "metadata": {},
     "output_type": "execute_result"
    }
   ],
   "source": [
    "np.mean(c_se), np.std(c_se)"
   ]
  },
  {
   "cell_type": "code",
   "execution_count": null,
   "metadata": {
    "collapsed": true
   },
   "outputs": [],
   "source": []
  },
  {
   "cell_type": "code",
   "execution_count": 25,
   "metadata": {
    "collapsed": true
   },
   "outputs": [],
   "source": [
    "c_all = trip_se.duration.tolist() + trip_bay.duration.tolist()"
   ]
  },
  {
   "cell_type": "code",
   "execution_count": 26,
   "metadata": {
    "collapsed": true,
    "scrolled": true
   },
   "outputs": [],
   "source": [
    "c_all = Counter(c_all)\n",
    "#c_all"
   ]
  },
  {
   "cell_type": "code",
   "execution_count": 27,
   "metadata": {
    "collapsed": false
   },
   "outputs": [
    {
     "data": {
      "image/png": "[encoded data removed]",
      "text/plain": [
       "<matplotlib.figure.Figure at 0x22c0499d828>"
      ]
     },
     "metadata": {},
     "output_type": "display_data"
    }
   ],
   "source": [
    "fig, ax = plt.subplots(figsize = [15,15], facecolor = [0.9,0.9,0.9])\n",
    "labels, values = zip(*c_all.items())\n",
    "#plt.hist(c,facecolor='g')\n",
    "indexes = np.arange(len(labels))\n",
    "plt.bar(indexes, values, 1)\n",
    "plt.xlabel('Duration')\n",
    "plt.ylabel('Counts')\n",
    "plt.title('All')\n",
    "#plt.axis([0, 10000, 0, 1000000])\n",
    "#plt.grid(True)\n",
    "ax.spines['right'].set_color('none')\n",
    "ax.spines['top'].set_color('none')\n",
    "plt.show()"
   ]
  },
  {
   "cell_type": "code",
   "execution_count": null,
   "metadata": {
    "collapsed": true
   },
   "outputs": [],
   "source": []
  },
  {
   "cell_type": "markdown",
   "metadata": {},
   "source": [
    "### Weather Bay"
   ]
  },
  {
   "cell_type": "code",
   "execution_count": 80,
   "metadata": {
    "collapsed": true
   },
   "outputs": [],
   "source": [
    "weather_sf = pd.read_csv('weather_sf_old.csv')"
   ]
  },
  {
   "cell_type": "code",
   "execution_count": 81,
   "metadata": {
    "collapsed": false
   },
   "outputs": [
    {
     "data": {
      "text/html": [
       "<div>\n",
       "<style>\n",
       "    .dataframe thead tr:only-child th {\n",
       "        text-align: right;\n",
       "    }\n",
       "\n",
       "    .dataframe thead th {\n",
       "        text-align: left;\n",
       "    }\n",
       "\n",
       "    .dataframe tbody tr th {\n",
       "        vertical-align: top;\n",
       "    }\n",
       "</style>\n",
       "<table border=\"1\" class=\"dataframe\">\n",
       "  <thead>\n",
       "    <tr style=\"text-align: right;\">\n",
       "      <th></th>\n",
       "      <th>Year</th>\n",
       "      <th>Month</th>\n",
       "      <th>Day</th>\n",
       "      <th>Hour</th>\n",
       "      <th>Minute</th>\n",
       "      <th>Temperature  [2 m above gnd]</th>\n",
       "      <th>Relative humidity  [2 m above gnd]</th>\n",
       "      <th>Total Precipitation  [sfc]</th>\n",
       "      <th>Snowfall amount raw  [sfc]</th>\n",
       "      <th>Shortwave Radiation - backwards  [sfc]</th>\n",
       "      <th>Wind speed  [10 m above gnd]</th>\n",
       "      <th>Wind direction  [10 m above gnd]</th>\n",
       "    </tr>\n",
       "  </thead>\n",
       "  <tbody>\n",
       "    <tr>\n",
       "      <th>0</th>\n",
       "      <td>2014</td>\n",
       "      <td>11</td>\n",
       "      <td>1</td>\n",
       "      <td>0</td>\n",
       "      <td>0</td>\n",
       "      <td>55.29</td>\n",
       "      <td>70</td>\n",
       "      <td>0.0</td>\n",
       "      <td>0.0</td>\n",
       "      <td>0.0</td>\n",
       "      <td>4.61</td>\n",
       "      <td>129.09</td>\n",
       "    </tr>\n",
       "    <tr>\n",
       "      <th>1</th>\n",
       "      <td>2014</td>\n",
       "      <td>11</td>\n",
       "      <td>1</td>\n",
       "      <td>1</td>\n",
       "      <td>0</td>\n",
       "      <td>54.25</td>\n",
       "      <td>75</td>\n",
       "      <td>0.0</td>\n",
       "      <td>0.0</td>\n",
       "      <td>0.0</td>\n",
       "      <td>4.84</td>\n",
       "      <td>123.69</td>\n",
       "    </tr>\n",
       "    <tr>\n",
       "      <th>2</th>\n",
       "      <td>2014</td>\n",
       "      <td>11</td>\n",
       "      <td>1</td>\n",
       "      <td>2</td>\n",
       "      <td>0</td>\n",
       "      <td>53.96</td>\n",
       "      <td>75</td>\n",
       "      <td>0.0</td>\n",
       "      <td>0.0</td>\n",
       "      <td>0.0</td>\n",
       "      <td>4.16</td>\n",
       "      <td>126.25</td>\n",
       "    </tr>\n",
       "    <tr>\n",
       "      <th>3</th>\n",
       "      <td>2014</td>\n",
       "      <td>11</td>\n",
       "      <td>1</td>\n",
       "      <td>3</td>\n",
       "      <td>0</td>\n",
       "      <td>52.61</td>\n",
       "      <td>73</td>\n",
       "      <td>0.0</td>\n",
       "      <td>0.0</td>\n",
       "      <td>0.0</td>\n",
       "      <td>2.85</td>\n",
       "      <td>135.00</td>\n",
       "    </tr>\n",
       "    <tr>\n",
       "      <th>4</th>\n",
       "      <td>2014</td>\n",
       "      <td>11</td>\n",
       "      <td>1</td>\n",
       "      <td>4</td>\n",
       "      <td>0</td>\n",
       "      <td>53.24</td>\n",
       "      <td>63</td>\n",
       "      <td>0.0</td>\n",
       "      <td>0.0</td>\n",
       "      <td>0.0</td>\n",
       "      <td>2.12</td>\n",
       "      <td>161.57</td>\n",
       "    </tr>\n",
       "  </tbody>\n",
       "</table>\n",
       "</div>"
      ],
      "text/plain": [
       "   Year  Month  Day  Hour  Minute  Temperature  [2 m above gnd]  \\\n",
       "0  2014     11    1     0       0                         55.29   \n",
       "1  2014     11    1     1       0                         54.25   \n",
       "2  2014     11    1     2       0                         53.96   \n",
       "3  2014     11    1     3       0                         52.61   \n",
       "4  2014     11    1     4       0                         53.24   \n",
       "\n",
       "   Relative humidity  [2 m above gnd]  Total Precipitation  [sfc]  \\\n",
       "0                                  70                         0.0   \n",
       "1                                  75                         0.0   \n",
       "2                                  75                         0.0   \n",
       "3                                  73                         0.0   \n",
       "4                                  63                         0.0   \n",
       "\n",
       "   Snowfall amount raw  [sfc]  Shortwave Radiation - backwards  [sfc]  \\\n",
       "0                         0.0                                     0.0   \n",
       "1                         0.0                                     0.0   \n",
       "2                         0.0                                     0.0   \n",
       "3                         0.0                                     0.0   \n",
       "4                         0.0                                     0.0   \n",
       "\n",
       "   Wind speed  [10 m above gnd]  Wind direction  [10 m above gnd]  \n",
       "0                          4.61                            129.09  \n",
       "1                          4.84                            123.69  \n",
       "2                          4.16                            126.25  \n",
       "3                          2.85                            135.00  \n",
       "4                          2.12                            161.57  "
      ]
     },
     "execution_count": 81,
     "metadata": {},
     "output_type": "execute_result"
    }
   ],
   "source": [
    "weather_sf.head()"
   ]
  },
  {
   "cell_type": "code",
   "execution_count": 204,
   "metadata": {
    "collapsed": true,
    "scrolled": true
   },
   "outputs": [],
   "source": [
    "#station_city = pd.read_csv('station.csv')\n",
    "#trip_bay = pd.read_csv('trip.csv')"
   ]
  },
  {
   "cell_type": "code",
   "execution_count": 87,
   "metadata": {
    "collapsed": true,
    "scrolled": true
   },
   "outputs": [],
   "source": [
    "trip_sj = trip_bay[trip_bay.city == 'San Jose']"
   ]
  },
  {
   "cell_type": "code",
   "execution_count": 88,
   "metadata": {
    "collapsed": false
   },
   "outputs": [
    {
     "data": {
      "text/plain": [
       "(37878, 13)"
      ]
     },
     "execution_count": 88,
     "metadata": {},
     "output_type": "execute_result"
    }
   ],
   "source": [
    "trip_sj.shape"
   ]
  },
  {
   "cell_type": "code",
   "execution_count": 213,
   "metadata": {
    "collapsed": true
   },
   "outputs": [],
   "source": [
    "'''#city_list = []\n",
    "#for i in trip_bay.start_station_id.values:\n",
    " #   city_list.append(station_city.loc[station_city.id == i, 'city'].values[0])\n",
    "\n",
    "#l = pd.DataFrame(city_list, columns =['city'])\n",
    "\n",
    "new_trip = pd.concat([trip_bay, l], 1)\n",
    "\n",
    "new_trip.loc[:,'start_date'] =pd.to_datetime(new_trip['start_date'].values)\n",
    "new_trip.loc[:,'end_date'] =pd.to_datetime(new_trip['end_date'].values)\n",
    "\n",
    "new_trip.to_csv('sf_trip_city.csv')'''"
   ]
  },
  {
   "cell_type": "code",
   "execution_count": 58,
   "metadata": {
    "collapsed": false
   },
   "outputs": [
    {
     "data": {
      "text/html": [
       "<div>\n",
       "<style>\n",
       "    .dataframe thead tr:only-child th {\n",
       "        text-align: right;\n",
       "    }\n",
       "\n",
       "    .dataframe thead th {\n",
       "        text-align: left;\n",
       "    }\n",
       "\n",
       "    .dataframe tbody tr th {\n",
       "        vertical-align: top;\n",
       "    }\n",
       "</style>\n",
       "<table border=\"1\" class=\"dataframe\">\n",
       "  <thead>\n",
       "    <tr style=\"text-align: right;\">\n",
       "      <th></th>\n",
       "      <th>Unnamed: 0</th>\n",
       "      <th>id</th>\n",
       "      <th>duration</th>\n",
       "      <th>start_date</th>\n",
       "      <th>start_station_name</th>\n",
       "      <th>start_station_id</th>\n",
       "      <th>end_date</th>\n",
       "      <th>end_station_name</th>\n",
       "      <th>end_station_id</th>\n",
       "      <th>bike_id</th>\n",
       "      <th>subscription_type</th>\n",
       "      <th>zip_code</th>\n",
       "      <th>city</th>\n",
       "    </tr>\n",
       "  </thead>\n",
       "  <tbody>\n",
       "    <tr>\n",
       "      <th>1</th>\n",
       "      <td>1</td>\n",
       "      <td>4607</td>\n",
       "      <td>70</td>\n",
       "      <td>2013-08-29 14:42:00</td>\n",
       "      <td>San Jose City Hall</td>\n",
       "      <td>10</td>\n",
       "      <td>2013-08-29 14:43:00</td>\n",
       "      <td>San Jose City Hall</td>\n",
       "      <td>10</td>\n",
       "      <td>661</td>\n",
       "      <td>Subscriber</td>\n",
       "      <td>95138</td>\n",
       "      <td>San Jose</td>\n",
       "    </tr>\n",
       "  </tbody>\n",
       "</table>\n",
       "</div>"
      ],
      "text/plain": [
       "   Unnamed: 0    id  duration           start_date  start_station_name  \\\n",
       "1           1  4607        70  2013-08-29 14:42:00  San Jose City Hall   \n",
       "\n",
       "   start_station_id             end_date    end_station_name  end_station_id  \\\n",
       "1                10  2013-08-29 14:43:00  San Jose City Hall              10   \n",
       "\n",
       "   bike_id subscription_type zip_code      city  \n",
       "1      661        Subscriber    95138  San Jose  "
      ]
     },
     "execution_count": 58,
     "metadata": {},
     "output_type": "execute_result"
    }
   ],
   "source": [
    "trip_sj.head(1)"
   ]
  },
  {
   "cell_type": "code",
   "execution_count": 76,
   "metadata": {
    "collapsed": true
   },
   "outputs": [],
   "source": [
    "def addspliteddate(dataset):\n",
    "    data_split = {}\n",
    "    data_split['startyear'] = []\n",
    "    data_split['startmonth'] = []\n",
    "    data_split['startday'] = []\n",
    "    data_split['starthour'] = []\n",
    "    #data_split['startmin'] = []\n",
    "    data_split['endyear'] = []\n",
    "    data_split['endmonth'] = []\n",
    "    data_split['endday'] = []\n",
    "    data_split['endhour'] = []\n",
    "    #data_split['endmin'] = []\n",
    "    for i in range(len(dataset)):\n",
    "        #print(pd.to_datetime(dataset.iloc[i].start_date).year)\n",
    "        data_split['startyear'].append(pd.to_datetime(dataset.iloc[i].start_date).year)\n",
    "        data_split['startmonth'].append(pd.to_datetime(dataset.iloc[i].start_date).month)\n",
    "        data_split['startday'].append(pd.to_datetime(dataset.iloc[i].start_date).day)\n",
    "        data_split['starthour'].append(pd.to_datetime(dataset.iloc[i].start_date).hour)\n",
    "        #data_split['startmin'].append(pd.to_datetime(dataset.iloc[i].start_date).minute)\n",
    "        data_split['endyear'].append(pd.to_datetime(dataset.iloc[i].end_date).year)\n",
    "        data_split['endmonth'].append(pd.to_datetime(dataset.iloc[i].end_date).month)\n",
    "        data_split['endday'].append(pd.to_datetime(dataset.iloc[i].end_date).day)\n",
    "        data_split['endhour'].append(pd.to_datetime(dataset.iloc[i].end_date).hour)\n",
    "        #data_split['endmin'].append(pd.to_datetime(dataset.iloc[i].end_date).minute)\n",
    "    date_pd = pd.DataFrame(data_split)\n",
    "    date_pd = date_pd[['startyear', 'startmonth', 'startday', 'starthour',\n",
    "                      'endyear', 'endmonth', 'endday', 'endhour']]\n",
    "    return date_pd"
   ]
  },
  {
   "cell_type": "code",
   "execution_count": 123,
   "metadata": {
    "collapsed": true
   },
   "outputs": [],
   "source": [
    "t = trip_sj.iloc[22000:22005]"
   ]
  },
  {
   "cell_type": "code",
   "execution_count": 124,
   "metadata": {
    "collapsed": false
   },
   "outputs": [
    {
     "data": {
      "text/html": [
       "<div>\n",
       "<style>\n",
       "    .dataframe thead tr:only-child th {\n",
       "        text-align: right;\n",
       "    }\n",
       "\n",
       "    .dataframe thead th {\n",
       "        text-align: left;\n",
       "    }\n",
       "\n",
       "    .dataframe tbody tr th {\n",
       "        vertical-align: top;\n",
       "    }\n",
       "</style>\n",
       "<table border=\"1\" class=\"dataframe\">\n",
       "  <thead>\n",
       "    <tr style=\"text-align: right;\">\n",
       "      <th></th>\n",
       "      <th>startyear</th>\n",
       "      <th>startmonth</th>\n",
       "      <th>startday</th>\n",
       "      <th>starthour</th>\n",
       "      <th>endyear</th>\n",
       "      <th>endmonth</th>\n",
       "      <th>endday</th>\n",
       "      <th>endhour</th>\n",
       "    </tr>\n",
       "  </thead>\n",
       "  <tbody>\n",
       "    <tr>\n",
       "      <th>0</th>\n",
       "      <td>2015</td>\n",
       "      <td>7</td>\n",
       "      <td>22</td>\n",
       "      <td>15</td>\n",
       "      <td>2015</td>\n",
       "      <td>7</td>\n",
       "      <td>22</td>\n",
       "      <td>15</td>\n",
       "    </tr>\n",
       "    <tr>\n",
       "      <th>1</th>\n",
       "      <td>2015</td>\n",
       "      <td>7</td>\n",
       "      <td>22</td>\n",
       "      <td>15</td>\n",
       "      <td>2015</td>\n",
       "      <td>7</td>\n",
       "      <td>22</td>\n",
       "      <td>15</td>\n",
       "    </tr>\n",
       "    <tr>\n",
       "      <th>2</th>\n",
       "      <td>2015</td>\n",
       "      <td>7</td>\n",
       "      <td>22</td>\n",
       "      <td>15</td>\n",
       "      <td>2015</td>\n",
       "      <td>7</td>\n",
       "      <td>22</td>\n",
       "      <td>15</td>\n",
       "    </tr>\n",
       "    <tr>\n",
       "      <th>3</th>\n",
       "      <td>2015</td>\n",
       "      <td>7</td>\n",
       "      <td>22</td>\n",
       "      <td>14</td>\n",
       "      <td>2015</td>\n",
       "      <td>7</td>\n",
       "      <td>22</td>\n",
       "      <td>14</td>\n",
       "    </tr>\n",
       "    <tr>\n",
       "      <th>4</th>\n",
       "      <td>2015</td>\n",
       "      <td>7</td>\n",
       "      <td>22</td>\n",
       "      <td>13</td>\n",
       "      <td>2015</td>\n",
       "      <td>7</td>\n",
       "      <td>22</td>\n",
       "      <td>13</td>\n",
       "    </tr>\n",
       "  </tbody>\n",
       "</table>\n",
       "</div>"
      ],
      "text/plain": [
       "   startyear  startmonth  startday  starthour  endyear  endmonth  endday  \\\n",
       "0       2015           7        22         15     2015         7      22   \n",
       "1       2015           7        22         15     2015         7      22   \n",
       "2       2015           7        22         15     2015         7      22   \n",
       "3       2015           7        22         14     2015         7      22   \n",
       "4       2015           7        22         13     2015         7      22   \n",
       "\n",
       "   endhour  \n",
       "0       15  \n",
       "1       15  \n",
       "2       15  \n",
       "3       14  \n",
       "4       13  "
      ]
     },
     "execution_count": 124,
     "metadata": {},
     "output_type": "execute_result"
    }
   ],
   "source": [
    "date_pd = addspliteddate(t.head())\n",
    "date_pd.head()"
   ]
  },
  {
   "cell_type": "code",
   "execution_count": 107,
   "metadata": {
    "collapsed": false
   },
   "outputs": [
    {
     "data": {
      "text/plain": [
       "(5, 8)"
      ]
     },
     "execution_count": 107,
     "metadata": {},
     "output_type": "execute_result"
    }
   ],
   "source": [
    "date_pd.shape"
   ]
  },
  {
   "cell_type": "code",
   "execution_count": 125,
   "metadata": {
    "collapsed": false,
    "scrolled": true
   },
   "outputs": [
    {
     "data": {
      "text/html": [
       "<div>\n",
       "<style>\n",
       "    .dataframe thead tr:only-child th {\n",
       "        text-align: right;\n",
       "    }\n",
       "\n",
       "    .dataframe thead th {\n",
       "        text-align: left;\n",
       "    }\n",
       "\n",
       "    .dataframe tbody tr th {\n",
       "        vertical-align: top;\n",
       "    }\n",
       "</style>\n",
       "<table border=\"1\" class=\"dataframe\">\n",
       "  <thead>\n",
       "    <tr style=\"text-align: right;\">\n",
       "      <th></th>\n",
       "      <th>Unnamed: 0</th>\n",
       "      <th>id</th>\n",
       "      <th>duration</th>\n",
       "      <th>start_date</th>\n",
       "      <th>start_station_name</th>\n",
       "      <th>start_station_id</th>\n",
       "      <th>end_date</th>\n",
       "      <th>end_station_name</th>\n",
       "      <th>end_station_id</th>\n",
       "      <th>bike_id</th>\n",
       "      <th>subscription_type</th>\n",
       "      <th>zip_code</th>\n",
       "      <th>city</th>\n",
       "    </tr>\n",
       "  </thead>\n",
       "  <tbody>\n",
       "    <tr>\n",
       "      <th>0</th>\n",
       "      <td>358454</td>\n",
       "      <td>857470</td>\n",
       "      <td>406</td>\n",
       "      <td>2015-07-22 15:37:00</td>\n",
       "      <td>San Jose Civic Center</td>\n",
       "      <td>3</td>\n",
       "      <td>2015-07-22 15:44:00</td>\n",
       "      <td>San Jose Diridon Caltrain Station</td>\n",
       "      <td>2</td>\n",
       "      <td>293</td>\n",
       "      <td>Subscriber</td>\n",
       "      <td>94070</td>\n",
       "      <td>San Jose</td>\n",
       "    </tr>\n",
       "    <tr>\n",
       "      <th>1</th>\n",
       "      <td>358468</td>\n",
       "      <td>857447</td>\n",
       "      <td>704</td>\n",
       "      <td>2015-07-22 15:20:00</td>\n",
       "      <td>Japantown</td>\n",
       "      <td>9</td>\n",
       "      <td>2015-07-22 15:31:00</td>\n",
       "      <td>MLK Library</td>\n",
       "      <td>11</td>\n",
       "      <td>670</td>\n",
       "      <td>Subscriber</td>\n",
       "      <td>95112</td>\n",
       "      <td>San Jose</td>\n",
       "    </tr>\n",
       "    <tr>\n",
       "      <th>2</th>\n",
       "      <td>358473</td>\n",
       "      <td>857441</td>\n",
       "      <td>476</td>\n",
       "      <td>2015-07-22 15:16:00</td>\n",
       "      <td>Arena Green / SAP Center</td>\n",
       "      <td>14</td>\n",
       "      <td>2015-07-22 15:24:00</td>\n",
       "      <td>Paseo de San Antonio</td>\n",
       "      <td>7</td>\n",
       "      <td>247</td>\n",
       "      <td>Subscriber</td>\n",
       "      <td>95113</td>\n",
       "      <td>San Jose</td>\n",
       "    </tr>\n",
       "    <tr>\n",
       "      <th>3</th>\n",
       "      <td>358499</td>\n",
       "      <td>857406</td>\n",
       "      <td>219</td>\n",
       "      <td>2015-07-22 14:28:00</td>\n",
       "      <td>San Jose Diridon Caltrain Station</td>\n",
       "      <td>2</td>\n",
       "      <td>2015-07-22 14:32:00</td>\n",
       "      <td>Santa Clara at Almaden</td>\n",
       "      <td>4</td>\n",
       "      <td>701</td>\n",
       "      <td>Subscriber</td>\n",
       "      <td>95126</td>\n",
       "      <td>San Jose</td>\n",
       "    </tr>\n",
       "    <tr>\n",
       "      <th>4</th>\n",
       "      <td>358544</td>\n",
       "      <td>857358</td>\n",
       "      <td>534</td>\n",
       "      <td>2015-07-22 13:14:00</td>\n",
       "      <td>Japantown</td>\n",
       "      <td>9</td>\n",
       "      <td>2015-07-22 13:23:00</td>\n",
       "      <td>San Pedro Square</td>\n",
       "      <td>6</td>\n",
       "      <td>690</td>\n",
       "      <td>Subscriber</td>\n",
       "      <td>95112</td>\n",
       "      <td>San Jose</td>\n",
       "    </tr>\n",
       "  </tbody>\n",
       "</table>\n",
       "</div>"
      ],
      "text/plain": [
       "   Unnamed: 0      id  duration           start_date  \\\n",
       "0      358454  857470       406  2015-07-22 15:37:00   \n",
       "1      358468  857447       704  2015-07-22 15:20:00   \n",
       "2      358473  857441       476  2015-07-22 15:16:00   \n",
       "3      358499  857406       219  2015-07-22 14:28:00   \n",
       "4      358544  857358       534  2015-07-22 13:14:00   \n",
       "\n",
       "                  start_station_name  start_station_id             end_date  \\\n",
       "0              San Jose Civic Center                 3  2015-07-22 15:44:00   \n",
       "1                          Japantown                 9  2015-07-22 15:31:00   \n",
       "2           Arena Green / SAP Center                14  2015-07-22 15:24:00   \n",
       "3  San Jose Diridon Caltrain Station                 2  2015-07-22 14:32:00   \n",
       "4                          Japantown                 9  2015-07-22 13:23:00   \n",
       "\n",
       "                    end_station_name  end_station_id  bike_id  \\\n",
       "0  San Jose Diridon Caltrain Station               2      293   \n",
       "1                        MLK Library              11      670   \n",
       "2               Paseo de San Antonio               7      247   \n",
       "3             Santa Clara at Almaden               4      701   \n",
       "4                   San Pedro Square               6      690   \n",
       "\n",
       "  subscription_type zip_code      city  \n",
       "0        Subscriber    94070  San Jose  \n",
       "1        Subscriber    95112  San Jose  \n",
       "2        Subscriber    95113  San Jose  \n",
       "3        Subscriber    95126  San Jose  \n",
       "4        Subscriber    95112  San Jose  "
      ]
     },
     "execution_count": 125,
     "metadata": {},
     "output_type": "execute_result"
    }
   ],
   "source": [
    "#temp = trip_sj.head()\n",
    "temp = t.reset_index(drop=True)\n",
    "temp"
   ]
  },
  {
   "cell_type": "code",
   "execution_count": 126,
   "metadata": {
    "collapsed": true
   },
   "outputs": [],
   "source": [
    "temp_sj = pd.concat([temp,date_pd], axis=1)"
   ]
  },
  {
   "cell_type": "code",
   "execution_count": 127,
   "metadata": {
    "collapsed": false
   },
   "outputs": [
    {
     "data": {
      "text/html": [
       "<div>\n",
       "<style>\n",
       "    .dataframe thead tr:only-child th {\n",
       "        text-align: right;\n",
       "    }\n",
       "\n",
       "    .dataframe thead th {\n",
       "        text-align: left;\n",
       "    }\n",
       "\n",
       "    .dataframe tbody tr th {\n",
       "        vertical-align: top;\n",
       "    }\n",
       "</style>\n",
       "<table border=\"1\" class=\"dataframe\">\n",
       "  <thead>\n",
       "    <tr style=\"text-align: right;\">\n",
       "      <th></th>\n",
       "      <th>Unnamed: 0</th>\n",
       "      <th>id</th>\n",
       "      <th>duration</th>\n",
       "      <th>start_date</th>\n",
       "      <th>start_station_name</th>\n",
       "      <th>start_station_id</th>\n",
       "      <th>end_date</th>\n",
       "      <th>end_station_name</th>\n",
       "      <th>end_station_id</th>\n",
       "      <th>bike_id</th>\n",
       "      <th>...</th>\n",
       "      <th>zip_code</th>\n",
       "      <th>city</th>\n",
       "      <th>startyear</th>\n",
       "      <th>startmonth</th>\n",
       "      <th>startday</th>\n",
       "      <th>starthour</th>\n",
       "      <th>endyear</th>\n",
       "      <th>endmonth</th>\n",
       "      <th>endday</th>\n",
       "      <th>endhour</th>\n",
       "    </tr>\n",
       "  </thead>\n",
       "  <tbody>\n",
       "    <tr>\n",
       "      <th>0</th>\n",
       "      <td>358454</td>\n",
       "      <td>857470</td>\n",
       "      <td>406</td>\n",
       "      <td>2015-07-22 15:37:00</td>\n",
       "      <td>San Jose Civic Center</td>\n",
       "      <td>3</td>\n",
       "      <td>2015-07-22 15:44:00</td>\n",
       "      <td>San Jose Diridon Caltrain Station</td>\n",
       "      <td>2</td>\n",
       "      <td>293</td>\n",
       "      <td>...</td>\n",
       "      <td>94070</td>\n",
       "      <td>San Jose</td>\n",
       "      <td>2015</td>\n",
       "      <td>7</td>\n",
       "      <td>22</td>\n",
       "      <td>15</td>\n",
       "      <td>2015</td>\n",
       "      <td>7</td>\n",
       "      <td>22</td>\n",
       "      <td>15</td>\n",
       "    </tr>\n",
       "    <tr>\n",
       "      <th>1</th>\n",
       "      <td>358468</td>\n",
       "      <td>857447</td>\n",
       "      <td>704</td>\n",
       "      <td>2015-07-22 15:20:00</td>\n",
       "      <td>Japantown</td>\n",
       "      <td>9</td>\n",
       "      <td>2015-07-22 15:31:00</td>\n",
       "      <td>MLK Library</td>\n",
       "      <td>11</td>\n",
       "      <td>670</td>\n",
       "      <td>...</td>\n",
       "      <td>95112</td>\n",
       "      <td>San Jose</td>\n",
       "      <td>2015</td>\n",
       "      <td>7</td>\n",
       "      <td>22</td>\n",
       "      <td>15</td>\n",
       "      <td>2015</td>\n",
       "      <td>7</td>\n",
       "      <td>22</td>\n",
       "      <td>15</td>\n",
       "    </tr>\n",
       "    <tr>\n",
       "      <th>2</th>\n",
       "      <td>358473</td>\n",
       "      <td>857441</td>\n",
       "      <td>476</td>\n",
       "      <td>2015-07-22 15:16:00</td>\n",
       "      <td>Arena Green / SAP Center</td>\n",
       "      <td>14</td>\n",
       "      <td>2015-07-22 15:24:00</td>\n",
       "      <td>Paseo de San Antonio</td>\n",
       "      <td>7</td>\n",
       "      <td>247</td>\n",
       "      <td>...</td>\n",
       "      <td>95113</td>\n",
       "      <td>San Jose</td>\n",
       "      <td>2015</td>\n",
       "      <td>7</td>\n",
       "      <td>22</td>\n",
       "      <td>15</td>\n",
       "      <td>2015</td>\n",
       "      <td>7</td>\n",
       "      <td>22</td>\n",
       "      <td>15</td>\n",
       "    </tr>\n",
       "    <tr>\n",
       "      <th>3</th>\n",
       "      <td>358499</td>\n",
       "      <td>857406</td>\n",
       "      <td>219</td>\n",
       "      <td>2015-07-22 14:28:00</td>\n",
       "      <td>San Jose Diridon Caltrain Station</td>\n",
       "      <td>2</td>\n",
       "      <td>2015-07-22 14:32:00</td>\n",
       "      <td>Santa Clara at Almaden</td>\n",
       "      <td>4</td>\n",
       "      <td>701</td>\n",
       "      <td>...</td>\n",
       "      <td>95126</td>\n",
       "      <td>San Jose</td>\n",
       "      <td>2015</td>\n",
       "      <td>7</td>\n",
       "      <td>22</td>\n",
       "      <td>14</td>\n",
       "      <td>2015</td>\n",
       "      <td>7</td>\n",
       "      <td>22</td>\n",
       "      <td>14</td>\n",
       "    </tr>\n",
       "    <tr>\n",
       "      <th>4</th>\n",
       "      <td>358544</td>\n",
       "      <td>857358</td>\n",
       "      <td>534</td>\n",
       "      <td>2015-07-22 13:14:00</td>\n",
       "      <td>Japantown</td>\n",
       "      <td>9</td>\n",
       "      <td>2015-07-22 13:23:00</td>\n",
       "      <td>San Pedro Square</td>\n",
       "      <td>6</td>\n",
       "      <td>690</td>\n",
       "      <td>...</td>\n",
       "      <td>95112</td>\n",
       "      <td>San Jose</td>\n",
       "      <td>2015</td>\n",
       "      <td>7</td>\n",
       "      <td>22</td>\n",
       "      <td>13</td>\n",
       "      <td>2015</td>\n",
       "      <td>7</td>\n",
       "      <td>22</td>\n",
       "      <td>13</td>\n",
       "    </tr>\n",
       "  </tbody>\n",
       "</table>\n",
       "<p>5 rows × 21 columns</p>\n",
       "</div>"
      ],
      "text/plain": [
       "   Unnamed: 0      id  duration           start_date  \\\n",
       "0      358454  857470       406  2015-07-22 15:37:00   \n",
       "1      358468  857447       704  2015-07-22 15:20:00   \n",
       "2      358473  857441       476  2015-07-22 15:16:00   \n",
       "3      358499  857406       219  2015-07-22 14:28:00   \n",
       "4      358544  857358       534  2015-07-22 13:14:00   \n",
       "\n",
       "                  start_station_name  start_station_id             end_date  \\\n",
       "0              San Jose Civic Center                 3  2015-07-22 15:44:00   \n",
       "1                          Japantown                 9  2015-07-22 15:31:00   \n",
       "2           Arena Green / SAP Center                14  2015-07-22 15:24:00   \n",
       "3  San Jose Diridon Caltrain Station                 2  2015-07-22 14:32:00   \n",
       "4                          Japantown                 9  2015-07-22 13:23:00   \n",
       "\n",
       "                    end_station_name  end_station_id  bike_id   ...     \\\n",
       "0  San Jose Diridon Caltrain Station               2      293   ...      \n",
       "1                        MLK Library              11      670   ...      \n",
       "2               Paseo de San Antonio               7      247   ...      \n",
       "3             Santa Clara at Almaden               4      701   ...      \n",
       "4                   San Pedro Square               6      690   ...      \n",
       "\n",
       "  zip_code      city startyear  startmonth  startday  starthour  endyear  \\\n",
       "0    94070  San Jose      2015           7        22         15     2015   \n",
       "1    95112  San Jose      2015           7        22         15     2015   \n",
       "2    95113  San Jose      2015           7        22         15     2015   \n",
       "3    95126  San Jose      2015           7        22         14     2015   \n",
       "4    95112  San Jose      2015           7        22         13     2015   \n",
       "\n",
       "   endmonth  endday  endhour  \n",
       "0         7      22       15  \n",
       "1         7      22       15  \n",
       "2         7      22       15  \n",
       "3         7      22       14  \n",
       "4         7      22       13  \n",
       "\n",
       "[5 rows x 21 columns]"
      ]
     },
     "execution_count": 127,
     "metadata": {},
     "output_type": "execute_result"
    }
   ],
   "source": [
    "temp_sj"
   ]
  },
  {
   "cell_type": "code",
   "execution_count": null,
   "metadata": {
    "collapsed": true
   },
   "outputs": [],
   "source": []
  },
  {
   "cell_type": "code",
   "execution_count": 136,
   "metadata": {
    "collapsed": false
   },
   "outputs": [
    {
     "data": {
      "text/plain": [
       "-1"
      ]
     },
     "execution_count": 136,
     "metadata": {},
     "output_type": "execute_result"
    }
   ],
   "source": [
    "((pd.to_datetime(temp.iloc[3].start_date)-pd.to_datetime(temp.iloc[1].end_date))/np.timedelta64(1, 'h')).astype(int)"
   ]
  },
  {
   "cell_type": "code",
   "execution_count": 133,
   "metadata": {
    "collapsed": false
   },
   "outputs": [
    {
     "data": {
      "text/plain": [
       "Timestamp('2015-07-22 14:28:00')"
      ]
     },
     "execution_count": 133,
     "metadata": {},
     "output_type": "execute_result"
    }
   ],
   "source": [
    "pd.to_datetime(temp.iloc[3].start_date)"
   ]
  },
  {
   "cell_type": "code",
   "execution_count": 135,
   "metadata": {
    "collapsed": false
   },
   "outputs": [
    {
     "data": {
      "text/plain": [
       "Timestamp('2015-07-22 15:31:00')"
      ]
     },
     "execution_count": 135,
     "metadata": {},
     "output_type": "execute_result"
    }
   ],
   "source": [
    "pd.to_datetime(temp.iloc[1].end_date)"
   ]
  },
  {
   "cell_type": "code",
   "execution_count": null,
   "metadata": {
    "collapsed": true
   },
   "outputs": [],
   "source": []
  },
  {
   "cell_type": "code",
   "execution_count": 72,
   "metadata": {
    "collapsed": true
   },
   "outputs": [],
   "source": [
    "id_set = set(trip.bike_id.tolist())"
   ]
  },
  {
   "cell_type": "code",
   "execution_count": null,
   "metadata": {
    "collapsed": true
   },
   "outputs": [],
   "source": []
  },
  {
   "cell_type": "markdown",
   "metadata": {},
   "source": [
    "### Lifecycle"
   ]
  },
  {
   "cell_type": "code",
   "execution_count": 19,
   "metadata": {
    "collapsed": true
   },
   "outputs": [],
   "source": [
    "def tempcovert(temp):\n",
    "    # convert the bike_id according to the lifecycle, e.g., 19 -> 19_1, 19_2, 19_3\n",
    "    # condition: interval > 7days and start_station != last end_station\n",
    "    # final_id: the last seen id, e.g., 19_3, since it is possible the life_cycle of this id does not end\n",
    "    final_id_list = []\n",
    "    counts = 0\n",
    "    for i in range(len(temp)):\n",
    "        old_id = temp.iloc[i].bike_id\n",
    "        if i == 0:\n",
    "            temp.iloc[i, 8] = str(old_id) +'_'+str(counts)\n",
    "            #print(i, temp.iloc[i].bike_id)\n",
    "        elif i == len(temp)-1:\n",
    "            temp.iloc[i, 8] = str(old_id) +'_'+str(counts) \n",
    "            final_id = str(old_id) +'_'+str(counts) \n",
    "            #temp = temp[temp.bike_id != final_id]\n",
    "            final_id_list.append(final_id)\n",
    "            print(final_id)\n",
    "        else:\n",
    "            if (((temp.iloc[i].start_date-temp.iloc[i-1].end_date)/ np.timedelta64(1, 'D')).astype(int) > 7 and\n",
    "               temp.iloc[i].start_station_id != temp.iloc[i-1].end_station_id):\n",
    "                counts += 1\n",
    "            temp.iloc[i, 8] = str(old_id) +'_'+str(counts) \n",
    "            #print(i, temp.iloc[i].bike_id)\n",
    "    return temp, final_id\n"
   ]
  },
  {
   "cell_type": "code",
   "execution_count": 10,
   "metadata": {
    "collapsed": true
   },
   "outputs": [],
   "source": [
    "trimmed_dataset = pd.read_csv(\"trim_bay_2min_6hours.csv\")\n",
    "#id_set = [9,10]"
   ]
  },
  {
   "cell_type": "code",
   "execution_count": 15,
   "metadata": {
    "collapsed": true
   },
   "outputs": [],
   "source": [
    "trimmed_dataset.loc[:,'start_date'] =pd.to_datetime(trimmed_dataset['start_date'].values)\n",
    "trimmed_dataset.loc[:,'end_date'] =pd.to_datetime(trimmed_dataset['end_date'].values)"
   ]
  },
  {
   "cell_type": "code",
   "execution_count": 16,
   "metadata": {
    "collapsed": true,
    "scrolled": true
   },
   "outputs": [],
   "source": [
    "id_set = set(trimmed_dataset.bike_id.unique())"
   ]
  },
  {
   "cell_type": "code",
   "execution_count": 20,
   "metadata": {
    "collapsed": false,
    "scrolled": true
   },
   "outputs": [
    {
     "name": "stderr",
     "output_type": "stream",
     "text": [
      "C:\\Users\\Xuancheng Fan\\AppData\\Local\\Programs\\Python\\Python35\\lib\\site-packages\\ipykernel_launcher.py:6: SettingWithCopyWarning: \n",
      "A value is trying to be set on a copy of a slice from a DataFrame.\n",
      "Try using .loc[row_indexer,col_indexer] = value instead\n",
      "\n",
      "See the caveats in the documentation: http://pandas.pydata.org/pandas-docs/stable/indexing.html#indexing-view-versus-copy\n",
      "  \n",
      "C:\\Users\\Xuancheng Fan\\AppData\\Local\\Programs\\Python\\Python35\\lib\\site-packages\\ipykernel_launcher.py:7: SettingWithCopyWarning: \n",
      "A value is trying to be set on a copy of a slice from a DataFrame.\n",
      "Try using .loc[row_indexer,col_indexer] = value instead\n",
      "\n",
      "See the caveats in the documentation: http://pandas.pydata.org/pandas-docs/stable/indexing.html#indexing-view-versus-copy\n",
      "  import sys\n",
      "C:\\Users\\Xuancheng Fan\\AppData\\Local\\Programs\\Python\\Python35\\lib\\site-packages\\pandas\\core\\indexing.py:517: SettingWithCopyWarning: \n",
      "A value is trying to be set on a copy of a slice from a DataFrame.\n",
      "Try using .loc[row_indexer,col_indexer] = value instead\n",
      "\n",
      "See the caveats in the documentation: http://pandas.pydata.org/pandas-docs/stable/indexing.html#indexing-view-versus-copy\n",
      "  self.obj[item] = s\n"
     ]
    },
    {
     "name": "stdout",
     "output_type": "stream",
     "text": [
      "9_3\n",
      "10_7\n",
      "11_10\n",
      "12_6\n",
      "13_5\n",
      "14_4\n",
      "15_4\n",
      "16_3\n",
      "17_4\n",
      "18_5\n",
      "19_5\n",
      "20_7\n",
      "21_5\n",
      "22_6\n",
      "23_2\n",
      "24_5\n",
      "25_6\n",
      "26_5\n",
      "27_7\n",
      "28_3\n",
      "29_5\n",
      "30_7\n",
      "31_5\n",
      "32_4\n",
      "33_1\n",
      "34_3\n",
      "35_4\n",
      "36_5\n",
      "37_6\n",
      "38_6\n",
      "39_5\n",
      "40_8\n",
      "41_8\n",
      "42_4\n",
      "43_6\n",
      "44_5\n",
      "45_5\n",
      "46_7\n",
      "47_7\n",
      "48_5\n",
      "49_9\n",
      "50_5\n",
      "51_7\n",
      "52_7\n",
      "53_4\n",
      "54_6\n",
      "55_6\n",
      "56_10\n",
      "57_4\n",
      "58_7\n",
      "59_5\n",
      "60_4\n",
      "61_7\n",
      "62_3\n",
      "63_9\n",
      "64_6\n",
      "65_6\n",
      "66_4\n",
      "67_4\n",
      "68_6\n",
      "69_7\n",
      "70_3\n",
      "71_4\n",
      "72_5\n",
      "74_7\n",
      "75_4\n",
      "76_3\n",
      "77_7\n",
      "78_6\n",
      "79_4\n",
      "80_4\n",
      "81_8\n",
      "82_8\n",
      "83_5\n",
      "84_6\n",
      "85_4\n",
      "86_3\n",
      "87_5\n",
      "88_5\n",
      "89_3\n",
      "90_4\n",
      "91_5\n",
      "92_4\n",
      "93_7\n",
      "94_4\n",
      "95_5\n",
      "96_6\n",
      "97_5\n",
      "98_3\n",
      "99_5\n",
      "100_7\n",
      "101_4\n",
      "102_3\n",
      "103_4\n",
      "104_5\n",
      "105_3\n",
      "106_4\n",
      "107_6\n",
      "108_8\n",
      "109_4\n",
      "110_2\n",
      "111_4\n",
      "112_5\n",
      "116_4\n",
      "117_6\n",
      "118_5\n",
      "119_6\n",
      "120_6\n",
      "121_6\n",
      "122_4\n",
      "123_5\n",
      "124_7\n",
      "125_5\n",
      "126_3\n",
      "127_4\n",
      "128_6\n",
      "129_6\n",
      "130_5\n",
      "131_5\n",
      "132_5\n",
      "133_5\n",
      "134_5\n",
      "135_4\n",
      "136_5\n",
      "137_3\n",
      "138_8\n",
      "139_8\n",
      "140_7\n",
      "141_5\n",
      "142_8\n",
      "143_7\n",
      "144_6\n",
      "145_5\n",
      "146_6\n",
      "147_6\n",
      "148_7\n",
      "149_7\n",
      "150_5\n",
      "151_6\n",
      "152_3\n",
      "153_7\n",
      "154_5\n",
      "155_5\n",
      "156_6\n",
      "157_5\n",
      "158_4\n",
      "159_5\n",
      "160_7\n",
      "161_7\n",
      "162_5\n",
      "163_6\n",
      "164_8\n",
      "165_5\n",
      "167_4\n",
      "168_6\n",
      "174_5\n",
      "175_7\n",
      "176_6\n",
      "177_7\n",
      "178_6\n",
      "179_6\n",
      "180_7\n",
      "181_6\n",
      "182_3\n",
      "183_3\n",
      "184_3\n",
      "185_6\n",
      "186_7\n",
      "187_6\n",
      "188_5\n",
      "189_1\n",
      "190_5\n",
      "191_4\n",
      "192_5\n",
      "193_5\n",
      "194_6\n",
      "195_4\n",
      "196_3\n",
      "197_5\n",
      "198_4\n",
      "199_4\n",
      "200_4\n",
      "201_4\n",
      "202_3\n",
      "203_4\n",
      "205_8\n",
      "206_4\n",
      "207_6\n",
      "208_5\n",
      "209_7\n",
      "210_4\n",
      "211_5\n",
      "212_6\n",
      "213_4\n",
      "214_4\n",
      "215_4\n",
      "216_4\n",
      "217_5\n",
      "218_5\n",
      "219_7\n",
      "221_6\n",
      "222_4\n",
      "223_6\n",
      "224_2\n",
      "225_5\n",
      "226_4\n",
      "227_6\n",
      "228_7\n",
      "229_6\n",
      "230_5\n",
      "231_4\n",
      "232_5\n",
      "233_6\n",
      "234_2\n",
      "235_5\n",
      "236_6\n",
      "237_4\n",
      "238_1\n",
      "239_4\n",
      "240_4\n",
      "241_5\n",
      "242_3\n",
      "243_5\n",
      "244_4\n",
      "245_8\n",
      "246_6\n",
      "247_5\n",
      "248_5\n",
      "249_7\n",
      "250_4\n",
      "251_5\n",
      "252_3\n",
      "253_6\n",
      "254_3\n",
      "255_6\n",
      "256_5\n",
      "257_5\n",
      "258_5\n",
      "259_2\n",
      "260_2\n",
      "261_6\n",
      "262_5\n",
      "263_3\n",
      "264_4\n",
      "265_2\n",
      "266_2\n",
      "267_3\n",
      "268_4\n",
      "269_2\n",
      "270_2\n",
      "271_2\n",
      "272_1\n",
      "273_3\n",
      "274_4\n",
      "275_4\n",
      "276_2\n",
      "277_2\n",
      "278_2\n",
      "279_2\n",
      "280_2\n",
      "281_2\n",
      "282_2\n",
      "283_3\n",
      "284_2\n",
      "285_2\n",
      "286_4\n",
      "287_3\n",
      "288_2\n",
      "289_3\n",
      "290_2\n",
      "291_2\n",
      "292_3\n",
      "293_5\n",
      "294_4\n",
      "295_4\n",
      "296_6\n",
      "297_5\n",
      "298_4\n",
      "299_5\n",
      "300_2\n",
      "301_5\n",
      "302_6\n",
      "303_5\n",
      "304_2\n",
      "305_7\n",
      "306_1\n",
      "307_6\n",
      "308_8\n",
      "309_3\n",
      "310_2\n",
      "311_3\n",
      "312_3\n",
      "313_5\n",
      "314_2\n",
      "315_2\n",
      "316_0\n",
      "317_2\n",
      "318_3\n",
      "319_2\n",
      "320_2\n",
      "321_2\n",
      "322_4\n",
      "323_0\n",
      "324_4\n",
      "325_3\n",
      "326_2\n",
      "327_2\n",
      "328_2\n",
      "329_3\n",
      "330_3\n",
      "331_2\n",
      "332_5\n",
      "333_2\n",
      "334_2\n",
      "335_1\n",
      "336_2\n",
      "337_2\n",
      "338_2\n",
      "339_2\n",
      "340_3\n",
      "341_1\n",
      "342_4\n",
      "343_3\n",
      "344_4\n",
      "345_3\n",
      "347_3\n",
      "348_3\n",
      "349_3\n",
      "350_2\n",
      "351_3\n",
      "352_2\n",
      "353_4\n",
      "354_2\n",
      "355_3\n",
      "356_3\n",
      "357_4\n",
      "358_2\n",
      "359_4\n",
      "360_2\n",
      "361_2\n",
      "362_3\n",
      "363_2\n",
      "364_3\n",
      "365_1\n",
      "366_2\n",
      "367_2\n",
      "368_2\n",
      "369_1\n",
      "370_2\n",
      "371_3\n",
      "372_3\n",
      "373_3\n",
      "374_2\n",
      "375_2\n",
      "376_2\n",
      "377_5\n",
      "378_2\n",
      "379_3\n",
      "380_3\n",
      "381_3\n",
      "382_4\n",
      "383_2\n",
      "384_3\n",
      "385_3\n",
      "386_3\n",
      "387_2\n",
      "388_3\n",
      "389_4\n",
      "390_2\n",
      "391_2\n",
      "392_2\n",
      "393_2\n",
      "394_2\n",
      "395_2\n",
      "396_0\n",
      "397_3\n",
      "398_2\n",
      "399_2\n",
      "400_4\n",
      "401_3\n",
      "402_2\n",
      "403_1\n",
      "404_4\n",
      "405_3\n",
      "406_3\n",
      "407_2\n",
      "408_3\n",
      "409_5\n",
      "410_2\n",
      "411_2\n",
      "412_3\n",
      "413_3\n",
      "414_1\n",
      "415_3\n",
      "416_2\n",
      "417_3\n",
      "418_2\n",
      "419_2\n",
      "420_2\n",
      "421_2\n",
      "422_3\n",
      "423_2\n",
      "424_2\n",
      "425_2\n",
      "426_2\n",
      "427_2\n",
      "428_2\n",
      "429_3\n",
      "430_2\n",
      "431_2\n",
      "432_2\n",
      "433_1\n",
      "434_2\n",
      "435_2\n",
      "436_1\n",
      "437_2\n",
      "438_2\n",
      "439_5\n",
      "440_4\n",
      "441_2\n",
      "442_2\n",
      "443_2\n",
      "444_4\n",
      "445_3\n",
      "446_2\n",
      "447_1\n",
      "448_3\n",
      "449_3\n",
      "450_3\n",
      "451_2\n",
      "452_2\n",
      "453_2\n",
      "454_2\n",
      "455_2\n",
      "456_3\n",
      "457_3\n",
      "458_2\n",
      "459_2\n",
      "460_0\n",
      "461_3\n",
      "462_2\n",
      "463_2\n",
      "464_2\n",
      "465_2\n",
      "466_3\n",
      "467_4\n",
      "468_2\n",
      "469_2\n",
      "470_2\n",
      "471_3\n",
      "472_4\n",
      "473_2\n",
      "474_3\n",
      "475_1\n",
      "476_0\n",
      "477_2\n",
      "478_2\n",
      "479_2\n",
      "480_4\n",
      "481_3\n",
      "482_2\n",
      "483_2\n",
      "484_2\n",
      "485_3\n",
      "486_2\n",
      "487_3\n",
      "488_4\n",
      "489_1\n",
      "490_3\n",
      "491_2\n",
      "492_1\n",
      "493_3\n",
      "494_2\n",
      "495_3\n",
      "496_3\n",
      "497_2\n",
      "498_4\n",
      "499_2\n",
      "500_3\n",
      "501_2\n",
      "502_4\n",
      "503_2\n",
      "504_2\n",
      "505_3\n",
      "506_3\n",
      "507_2\n",
      "508_1\n",
      "509_2\n",
      "510_2\n",
      "511_2\n",
      "512_2\n",
      "513_3\n",
      "514_3\n",
      "515_2\n",
      "516_3\n",
      "517_3\n",
      "518_2\n",
      "519_2\n",
      "520_3\n",
      "521_2\n",
      "522_2\n",
      "523_2\n",
      "524_2\n",
      "525_3\n",
      "526_2\n",
      "527_2\n",
      "528_2\n",
      "529_3\n",
      "530_2\n",
      "531_3\n",
      "532_1\n",
      "533_1\n",
      "534_2\n",
      "535_3\n",
      "536_2\n",
      "537_2\n",
      "538_3\n",
      "539_2\n",
      "540_3\n",
      "541_3\n",
      "542_2\n",
      "543_0\n",
      "544_2\n",
      "545_3\n",
      "546_2\n",
      "547_3\n",
      "548_2\n",
      "549_2\n",
      "550_3\n",
      "551_2\n",
      "552_2\n",
      "553_2\n",
      "554_3\n",
      "555_3\n",
      "556_2\n",
      "557_3\n",
      "558_3\n",
      "559_3\n",
      "560_2\n",
      "561_3\n",
      "562_3\n",
      "563_2\n",
      "564_2\n",
      "565_0\n",
      "566_3\n",
      "567_2\n",
      "568_2\n",
      "569_2\n",
      "570_3\n",
      "571_2\n",
      "572_2\n",
      "573_2\n",
      "574_2\n",
      "575_2\n",
      "576_3\n",
      "577_3\n",
      "578_4\n",
      "579_4\n",
      "580_2\n",
      "581_3\n",
      "582_3\n",
      "583_6\n",
      "584_2\n",
      "585_2\n",
      "586_2\n",
      "587_2\n",
      "588_2\n",
      "589_2\n",
      "590_2\n",
      "591_2\n",
      "592_3\n",
      "593_2\n",
      "594_2\n",
      "595_1\n",
      "596_2\n",
      "597_3\n",
      "598_3\n",
      "599_2\n",
      "600_3\n",
      "601_3\n",
      "602_3\n",
      "603_5\n",
      "604_3\n",
      "605_1\n",
      "606_3\n",
      "607_2\n",
      "608_2\n",
      "609_3\n",
      "610_3\n",
      "611_2\n",
      "612_1\n",
      "613_1\n",
      "614_3\n",
      "615_0\n",
      "616_0\n",
      "617_2\n",
      "618_3\n",
      "619_2\n",
      "620_4\n",
      "621_4\n",
      "622_2\n",
      "623_3\n",
      "624_2\n",
      "625_1\n",
      "626_3\n",
      "627_3\n",
      "628_2\n",
      "629_2\n",
      "630_4\n",
      "631_2\n",
      "632_3\n",
      "633_2\n",
      "634_2\n",
      "635_2\n",
      "636_3\n",
      "637_3\n",
      "638_8\n",
      "639_5\n",
      "640_4\n",
      "641_4\n",
      "642_5\n",
      "643_6\n",
      "644_5\n",
      "645_6\n",
      "646_4\n",
      "647_6\n",
      "648_5\n",
      "649_5\n",
      "650_4\n",
      "651_5\n",
      "652_3\n",
      "653_7\n",
      "654_6\n",
      "655_4\n",
      "656_5\n",
      "657_4\n",
      "658_6\n",
      "659_5\n",
      "660_6\n",
      "661_5\n",
      "662_5\n",
      "663_5\n",
      "664_4\n",
      "665_6\n",
      "666_5\n",
      "667_6\n",
      "668_4\n",
      "669_6\n",
      "670_6\n",
      "671_6\n",
      "672_5\n",
      "673_4\n",
      "674_5\n",
      "675_3\n",
      "676_5\n",
      "677_1\n",
      "678_4\n",
      "679_3\n",
      "680_5\n",
      "681_8\n",
      "682_5\n",
      "683_6\n",
      "684_7\n",
      "685_5\n",
      "686_4\n",
      "687_1\n",
      "688_4\n",
      "689_3\n",
      "690_6\n",
      "691_6\n",
      "692_6\n",
      "693_5\n",
      "694_3\n",
      "695_4\n",
      "696_3\n",
      "697_2\n",
      "698_6\n",
      "699_6\n",
      "700_4\n",
      "701_6\n",
      "702_3\n",
      "703_4\n",
      "704_7\n",
      "705_7\n",
      "706_3\n",
      "707_4\n",
      "708_6\n",
      "709_5\n",
      "710_5\n",
      "711_2\n",
      "712_4\n",
      "713_3\n",
      "714_5\n",
      "715_5\n",
      "716_5\n",
      "717_5\n",
      "740_0\n",
      "876_0\n",
      "877_1\n",
      "878_1\n"
     ]
    }
   ],
   "source": [
    "coverted_pd = pd.DataFrame()\n",
    "finalid_list = []\n",
    "for bikeid in id_set:\n",
    "    temp = trimmed_dataset[trimmed_dataset['bike_id'] == bikeid]\n",
    "    temp.sort_values(by=['start_date'])\n",
    "    temp['start_date'] =pd.to_datetime(temp['start_date'].values)\n",
    "    temp['end_date'] =pd.to_datetime(temp['end_date'].values)\n",
    "    temp, final_id = tempcovert(temp)\n",
    "    coverted_pd = pd.concat([coverted_pd, temp])\n",
    "    finalid_list.append(final_id)"
   ]
  },
  {
   "cell_type": "code",
   "execution_count": 34,
   "metadata": {
    "collapsed": false
   },
   "outputs": [
    {
     "data": {
      "text/html": [
       "<div>\n",
       "<style>\n",
       "    .dataframe thead tr:only-child th {\n",
       "        text-align: right;\n",
       "    }\n",
       "\n",
       "    .dataframe thead th {\n",
       "        text-align: left;\n",
       "    }\n",
       "\n",
       "    .dataframe tbody tr th {\n",
       "        vertical-align: top;\n",
       "    }\n",
       "</style>\n",
       "<table border=\"1\" class=\"dataframe\">\n",
       "  <thead>\n",
       "    <tr style=\"text-align: right;\">\n",
       "      <th></th>\n",
       "      <th>id</th>\n",
       "      <th>duration</th>\n",
       "      <th>start_date</th>\n",
       "      <th>start_station_name</th>\n",
       "      <th>start_station_id</th>\n",
       "      <th>end_date</th>\n",
       "      <th>end_station_name</th>\n",
       "      <th>end_station_id</th>\n",
       "      <th>bike_id</th>\n",
       "      <th>subscription_type</th>\n",
       "      <th>zip_code</th>\n",
       "      <th>city</th>\n",
       "    </tr>\n",
       "  </thead>\n",
       "  <tbody>\n",
       "    <tr>\n",
       "      <th>207</th>\n",
       "      <td>4298</td>\n",
       "      <td>460</td>\n",
       "      <td>2013-08-29 12:02:00</td>\n",
       "      <td>Cowper at University</td>\n",
       "      <td>37</td>\n",
       "      <td>2013-08-29 12:10:00</td>\n",
       "      <td>9_0</td>\n",
       "      <td>35</td>\n",
       "      <td>9</td>\n",
       "      <td>Subscriber</td>\n",
       "      <td>94025</td>\n",
       "      <td>Palo Alto</td>\n",
       "    </tr>\n",
       "    <tr>\n",
       "      <th>1354</th>\n",
       "      <td>6340</td>\n",
       "      <td>2746</td>\n",
       "      <td>2013-08-30 18:48:00</td>\n",
       "      <td>University and Emerson</td>\n",
       "      <td>35</td>\n",
       "      <td>2013-08-30 19:34:00</td>\n",
       "      <td>9_0</td>\n",
       "      <td>35</td>\n",
       "      <td>9</td>\n",
       "      <td>Customer</td>\n",
       "      <td>94301</td>\n",
       "      <td>Palo Alto</td>\n",
       "    </tr>\n",
       "    <tr>\n",
       "      <th>1717</th>\n",
       "      <td>7123</td>\n",
       "      <td>996</td>\n",
       "      <td>2013-08-31 15:39:00</td>\n",
       "      <td>University and Emerson</td>\n",
       "      <td>35</td>\n",
       "      <td>2013-08-31 15:56:00</td>\n",
       "      <td>9_0</td>\n",
       "      <td>36</td>\n",
       "      <td>9</td>\n",
       "      <td>Customer</td>\n",
       "      <td>10003</td>\n",
       "      <td>Palo Alto</td>\n",
       "    </tr>\n",
       "    <tr>\n",
       "      <th>1837</th>\n",
       "      <td>7384</td>\n",
       "      <td>1398</td>\n",
       "      <td>2013-08-31 19:02:00</td>\n",
       "      <td>California Ave Caltrain Station</td>\n",
       "      <td>36</td>\n",
       "      <td>2013-08-31 19:26:00</td>\n",
       "      <td>9_0</td>\n",
       "      <td>35</td>\n",
       "      <td>9</td>\n",
       "      <td>Customer</td>\n",
       "      <td>10036</td>\n",
       "      <td>Palo Alto</td>\n",
       "    </tr>\n",
       "    <tr>\n",
       "      <th>1995</th>\n",
       "      <td>6701</td>\n",
       "      <td>9826</td>\n",
       "      <td>2013-08-31 11:45:00</td>\n",
       "      <td>University and Emerson</td>\n",
       "      <td>35</td>\n",
       "      <td>2013-08-31 14:29:00</td>\n",
       "      <td>9_0</td>\n",
       "      <td>35</td>\n",
       "      <td>9</td>\n",
       "      <td>Customer</td>\n",
       "      <td>NaN</td>\n",
       "      <td>Palo Alto</td>\n",
       "    </tr>\n",
       "  </tbody>\n",
       "</table>\n",
       "</div>"
      ],
      "text/plain": [
       "        id  duration          start_date               start_station_name  \\\n",
       "207   4298       460 2013-08-29 12:02:00             Cowper at University   \n",
       "1354  6340      2746 2013-08-30 18:48:00           University and Emerson   \n",
       "1717  7123       996 2013-08-31 15:39:00           University and Emerson   \n",
       "1837  7384      1398 2013-08-31 19:02:00  California Ave Caltrain Station   \n",
       "1995  6701      9826 2013-08-31 11:45:00           University and Emerson   \n",
       "\n",
       "      start_station_id            end_date end_station_name  end_station_id  \\\n",
       "207                 37 2013-08-29 12:10:00              9_0              35   \n",
       "1354                35 2013-08-30 19:34:00              9_0              35   \n",
       "1717                35 2013-08-31 15:56:00              9_0              36   \n",
       "1837                36 2013-08-31 19:26:00              9_0              35   \n",
       "1995                35 2013-08-31 14:29:00              9_0              35   \n",
       "\n",
       "      bike_id subscription_type zip_code       city  \n",
       "207         9        Subscriber    94025  Palo Alto  \n",
       "1354        9          Customer    94301  Palo Alto  \n",
       "1717        9          Customer    10003  Palo Alto  \n",
       "1837        9          Customer    10036  Palo Alto  \n",
       "1995        9          Customer      NaN  Palo Alto  "
      ]
     },
     "execution_count": 34,
     "metadata": {},
     "output_type": "execute_result"
    }
   ],
   "source": [
    "coverted_pd.head()"
   ]
  },
  {
   "cell_type": "code",
   "execution_count": 26,
   "metadata": {
    "collapsed": false
   },
   "outputs": [
    {
     "data": {
      "text/html": [
       "<div>\n",
       "<style>\n",
       "    .dataframe thead tr:only-child th {\n",
       "        text-align: right;\n",
       "    }\n",
       "\n",
       "    .dataframe thead th {\n",
       "        text-align: left;\n",
       "    }\n",
       "\n",
       "    .dataframe tbody tr th {\n",
       "        vertical-align: top;\n",
       "    }\n",
       "</style>\n",
       "<table border=\"1\" class=\"dataframe\">\n",
       "  <thead>\n",
       "    <tr style=\"text-align: right;\">\n",
       "      <th></th>\n",
       "      <th>id</th>\n",
       "      <th>duration</th>\n",
       "      <th>start_date</th>\n",
       "      <th>start_station_name</th>\n",
       "      <th>start_station_id</th>\n",
       "      <th>end_date</th>\n",
       "      <th>end_station_name</th>\n",
       "      <th>end_station_id</th>\n",
       "      <th>bike_id</th>\n",
       "      <th>subscription_type</th>\n",
       "      <th>zip_code</th>\n",
       "      <th>city</th>\n",
       "    </tr>\n",
       "  </thead>\n",
       "  <tbody>\n",
       "    <tr>\n",
       "      <th>207</th>\n",
       "      <td>4298</td>\n",
       "      <td>460</td>\n",
       "      <td>2013-08-29 12:02:00</td>\n",
       "      <td>Cowper at University</td>\n",
       "      <td>37</td>\n",
       "      <td>2013-08-29 12:10:00</td>\n",
       "      <td>9_0</td>\n",
       "      <td>35</td>\n",
       "      <td>9</td>\n",
       "      <td>Subscriber</td>\n",
       "      <td>94025</td>\n",
       "      <td>Palo Alto</td>\n",
       "    </tr>\n",
       "    <tr>\n",
       "      <th>1354</th>\n",
       "      <td>6340</td>\n",
       "      <td>2746</td>\n",
       "      <td>2013-08-30 18:48:00</td>\n",
       "      <td>University and Emerson</td>\n",
       "      <td>35</td>\n",
       "      <td>2013-08-30 19:34:00</td>\n",
       "      <td>9_0</td>\n",
       "      <td>35</td>\n",
       "      <td>9</td>\n",
       "      <td>Customer</td>\n",
       "      <td>94301</td>\n",
       "      <td>Palo Alto</td>\n",
       "    </tr>\n",
       "    <tr>\n",
       "      <th>1717</th>\n",
       "      <td>7123</td>\n",
       "      <td>996</td>\n",
       "      <td>2013-08-31 15:39:00</td>\n",
       "      <td>University and Emerson</td>\n",
       "      <td>35</td>\n",
       "      <td>2013-08-31 15:56:00</td>\n",
       "      <td>9_0</td>\n",
       "      <td>36</td>\n",
       "      <td>9</td>\n",
       "      <td>Customer</td>\n",
       "      <td>10003</td>\n",
       "      <td>Palo Alto</td>\n",
       "    </tr>\n",
       "    <tr>\n",
       "      <th>1837</th>\n",
       "      <td>7384</td>\n",
       "      <td>1398</td>\n",
       "      <td>2013-08-31 19:02:00</td>\n",
       "      <td>California Ave Caltrain Station</td>\n",
       "      <td>36</td>\n",
       "      <td>2013-08-31 19:26:00</td>\n",
       "      <td>9_0</td>\n",
       "      <td>35</td>\n",
       "      <td>9</td>\n",
       "      <td>Customer</td>\n",
       "      <td>10036</td>\n",
       "      <td>Palo Alto</td>\n",
       "    </tr>\n",
       "    <tr>\n",
       "      <th>1995</th>\n",
       "      <td>6701</td>\n",
       "      <td>9826</td>\n",
       "      <td>2013-08-31 11:45:00</td>\n",
       "      <td>University and Emerson</td>\n",
       "      <td>35</td>\n",
       "      <td>2013-08-31 14:29:00</td>\n",
       "      <td>9_0</td>\n",
       "      <td>35</td>\n",
       "      <td>9</td>\n",
       "      <td>Customer</td>\n",
       "      <td>NaN</td>\n",
       "      <td>Palo Alto</td>\n",
       "    </tr>\n",
       "  </tbody>\n",
       "</table>\n",
       "</div>"
      ],
      "text/plain": [
       "        id  duration          start_date               start_station_name  \\\n",
       "207   4298       460 2013-08-29 12:02:00             Cowper at University   \n",
       "1354  6340      2746 2013-08-30 18:48:00           University and Emerson   \n",
       "1717  7123       996 2013-08-31 15:39:00           University and Emerson   \n",
       "1837  7384      1398 2013-08-31 19:02:00  California Ave Caltrain Station   \n",
       "1995  6701      9826 2013-08-31 11:45:00           University and Emerson   \n",
       "\n",
       "      start_station_id            end_date end_station_name  end_station_id  \\\n",
       "207                 37 2013-08-29 12:10:00              9_0              35   \n",
       "1354                35 2013-08-30 19:34:00              9_0              35   \n",
       "1717                35 2013-08-31 15:56:00              9_0              36   \n",
       "1837                36 2013-08-31 19:26:00              9_0              35   \n",
       "1995                35 2013-08-31 14:29:00              9_0              35   \n",
       "\n",
       "      bike_id subscription_type zip_code       city  \n",
       "207         9        Subscriber    94025  Palo Alto  \n",
       "1354        9          Customer    94301  Palo Alto  \n",
       "1717        9          Customer    10003  Palo Alto  \n",
       "1837        9          Customer    10036  Palo Alto  \n",
       "1995        9          Customer      NaN  Palo Alto  "
      ]
     },
     "execution_count": 26,
     "metadata": {},
     "output_type": "execute_result"
    }
   ],
   "source": [
    "coverted_pd.head()"
   ]
  },
  {
   "cell_type": "code",
   "execution_count": 23,
   "metadata": {
    "collapsed": false
   },
   "outputs": [
    {
     "data": {
      "text/plain": [
       "(661556, 14)"
      ]
     },
     "execution_count": 23,
     "metadata": {},
     "output_type": "execute_result"
    }
   ],
   "source": [
    "trimmed_dataset.shape"
   ]
  },
  {
   "cell_type": "code",
   "execution_count": 25,
   "metadata": {
    "collapsed": true
   },
   "outputs": [],
   "source": [
    "coverted_pd = coverted_pd.drop('Unnamed: 0.1', 1)"
   ]
  },
  {
   "cell_type": "code",
   "execution_count": 49,
   "metadata": {
    "collapsed": true
   },
   "outputs": [],
   "source": [
    "coverted_pd.to_csv('life_cycle_trimmed.csv')"
   ]
  },
  {
   "cell_type": "code",
   "execution_count": 28,
   "metadata": {
    "collapsed": true
   },
   "outputs": [],
   "source": [
    "with open('final_id_trimmed.list', 'wb') as fout:\n",
    "    pickle.dump(finalid_list, fout)"
   ]
  },
  {
   "cell_type": "code",
   "execution_count": 29,
   "metadata": {
    "collapsed": false
   },
   "outputs": [
    {
     "data": {
      "text/plain": [
       "(661556, 12)"
      ]
     },
     "execution_count": 29,
     "metadata": {},
     "output_type": "execute_result"
    }
   ],
   "source": [
    "coverted_pd.shape"
   ]
  },
  {
   "cell_type": "code",
   "execution_count": null,
   "metadata": {
    "collapsed": true
   },
   "outputs": [],
   "source": []
  },
  {
   "cell_type": "code",
   "execution_count": 47,
   "metadata": {
    "collapsed": false
   },
   "outputs": [
    {
     "data": {
      "text/html": [
       "<div>\n",
       "<style>\n",
       "    .dataframe thead tr:only-child th {\n",
       "        text-align: right;\n",
       "    }\n",
       "\n",
       "    .dataframe thead th {\n",
       "        text-align: left;\n",
       "    }\n",
       "\n",
       "    .dataframe tbody tr th {\n",
       "        vertical-align: top;\n",
       "    }\n",
       "</style>\n",
       "<table border=\"1\" class=\"dataframe\">\n",
       "  <thead>\n",
       "    <tr style=\"text-align: right;\">\n",
       "      <th></th>\n",
       "      <th>id</th>\n",
       "      <th>duration</th>\n",
       "      <th>start_date</th>\n",
       "      <th>start_station_name</th>\n",
       "      <th>start_station_id</th>\n",
       "      <th>end_date</th>\n",
       "      <th>end_station_name</th>\n",
       "      <th>end_station_id</th>\n",
       "      <th>bike_id</th>\n",
       "      <th>subscription_type</th>\n",
       "      <th>zip_code</th>\n",
       "      <th>city</th>\n",
       "    </tr>\n",
       "  </thead>\n",
       "  <tbody>\n",
       "    <tr>\n",
       "      <th>207</th>\n",
       "      <td>4298</td>\n",
       "      <td>460</td>\n",
       "      <td>2013-08-29 12:02:00</td>\n",
       "      <td>Cowper at University</td>\n",
       "      <td>37</td>\n",
       "      <td>2013-08-29 12:10:00</td>\n",
       "      <td>9_0</td>\n",
       "      <td>35</td>\n",
       "      <td>9</td>\n",
       "      <td>Subscriber</td>\n",
       "      <td>94025</td>\n",
       "      <td>Palo Alto</td>\n",
       "    </tr>\n",
       "    <tr>\n",
       "      <th>1354</th>\n",
       "      <td>6340</td>\n",
       "      <td>2746</td>\n",
       "      <td>2013-08-30 18:48:00</td>\n",
       "      <td>University and Emerson</td>\n",
       "      <td>35</td>\n",
       "      <td>2013-08-30 19:34:00</td>\n",
       "      <td>9_0</td>\n",
       "      <td>35</td>\n",
       "      <td>9</td>\n",
       "      <td>Customer</td>\n",
       "      <td>94301</td>\n",
       "      <td>Palo Alto</td>\n",
       "    </tr>\n",
       "    <tr>\n",
       "      <th>1717</th>\n",
       "      <td>7123</td>\n",
       "      <td>996</td>\n",
       "      <td>2013-08-31 15:39:00</td>\n",
       "      <td>University and Emerson</td>\n",
       "      <td>35</td>\n",
       "      <td>2013-08-31 15:56:00</td>\n",
       "      <td>9_0</td>\n",
       "      <td>36</td>\n",
       "      <td>9</td>\n",
       "      <td>Customer</td>\n",
       "      <td>10003</td>\n",
       "      <td>Palo Alto</td>\n",
       "    </tr>\n",
       "    <tr>\n",
       "      <th>1837</th>\n",
       "      <td>7384</td>\n",
       "      <td>1398</td>\n",
       "      <td>2013-08-31 19:02:00</td>\n",
       "      <td>California Ave Caltrain Station</td>\n",
       "      <td>36</td>\n",
       "      <td>2013-08-31 19:26:00</td>\n",
       "      <td>9_0</td>\n",
       "      <td>35</td>\n",
       "      <td>9</td>\n",
       "      <td>Customer</td>\n",
       "      <td>10036</td>\n",
       "      <td>Palo Alto</td>\n",
       "    </tr>\n",
       "    <tr>\n",
       "      <th>1995</th>\n",
       "      <td>6701</td>\n",
       "      <td>9826</td>\n",
       "      <td>2013-08-31 11:45:00</td>\n",
       "      <td>University and Emerson</td>\n",
       "      <td>35</td>\n",
       "      <td>2013-08-31 14:29:00</td>\n",
       "      <td>9_0</td>\n",
       "      <td>35</td>\n",
       "      <td>9</td>\n",
       "      <td>Customer</td>\n",
       "      <td>NaN</td>\n",
       "      <td>Palo Alto</td>\n",
       "    </tr>\n",
       "  </tbody>\n",
       "</table>\n",
       "</div>"
      ],
      "text/plain": [
       "        id  duration          start_date               start_station_name  \\\n",
       "207   4298       460 2013-08-29 12:02:00             Cowper at University   \n",
       "1354  6340      2746 2013-08-30 18:48:00           University and Emerson   \n",
       "1717  7123       996 2013-08-31 15:39:00           University and Emerson   \n",
       "1837  7384      1398 2013-08-31 19:02:00  California Ave Caltrain Station   \n",
       "1995  6701      9826 2013-08-31 11:45:00           University and Emerson   \n",
       "\n",
       "      start_station_id            end_date end_station_name  end_station_id  \\\n",
       "207                 37 2013-08-29 12:10:00              9_0              35   \n",
       "1354                35 2013-08-30 19:34:00              9_0              35   \n",
       "1717                35 2013-08-31 15:56:00              9_0              36   \n",
       "1837                36 2013-08-31 19:26:00              9_0              35   \n",
       "1995                35 2013-08-31 14:29:00              9_0              35   \n",
       "\n",
       "      bike_id subscription_type zip_code       city  \n",
       "207         9        Subscriber    94025  Palo Alto  \n",
       "1354        9          Customer    94301  Palo Alto  \n",
       "1717        9          Customer    10003  Palo Alto  \n",
       "1837        9          Customer    10036  Palo Alto  \n",
       "1995        9          Customer      NaN  Palo Alto  "
      ]
     },
     "execution_count": 47,
     "metadata": {},
     "output_type": "execute_result"
    }
   ],
   "source": [
    "coverted_pd.head()"
   ]
  },
  {
   "cell_type": "code",
   "execution_count": 42,
   "metadata": {
    "collapsed": true
   },
   "outputs": [],
   "source": [
    "life_bike = coverted_pd.copy()"
   ]
  },
  {
   "cell_type": "code",
   "execution_count": 43,
   "metadata": {
    "collapsed": true
   },
   "outputs": [],
   "source": [
    "life_bike['bike_id'] = life_bike['end_station_name']"
   ]
  },
  {
   "cell_type": "code",
   "execution_count": 44,
   "metadata": {
    "collapsed": false
   },
   "outputs": [
    {
     "data": {
      "text/html": [
       "<div>\n",
       "<style>\n",
       "    .dataframe thead tr:only-child th {\n",
       "        text-align: right;\n",
       "    }\n",
       "\n",
       "    .dataframe thead th {\n",
       "        text-align: left;\n",
       "    }\n",
       "\n",
       "    .dataframe tbody tr th {\n",
       "        vertical-align: top;\n",
       "    }\n",
       "</style>\n",
       "<table border=\"1\" class=\"dataframe\">\n",
       "  <thead>\n",
       "    <tr style=\"text-align: right;\">\n",
       "      <th></th>\n",
       "      <th>id</th>\n",
       "      <th>duration</th>\n",
       "      <th>start_date</th>\n",
       "      <th>start_station_name</th>\n",
       "      <th>start_station_id</th>\n",
       "      <th>end_date</th>\n",
       "      <th>end_station_name</th>\n",
       "      <th>end_station_id</th>\n",
       "      <th>bike_id</th>\n",
       "      <th>subscription_type</th>\n",
       "      <th>zip_code</th>\n",
       "      <th>city</th>\n",
       "    </tr>\n",
       "  </thead>\n",
       "  <tbody>\n",
       "    <tr>\n",
       "      <th>207</th>\n",
       "      <td>4298</td>\n",
       "      <td>460</td>\n",
       "      <td>2013-08-29 12:02:00</td>\n",
       "      <td>Cowper at University</td>\n",
       "      <td>37</td>\n",
       "      <td>2013-08-29 12:10:00</td>\n",
       "      <td>9_0</td>\n",
       "      <td>35</td>\n",
       "      <td>9_0</td>\n",
       "      <td>Subscriber</td>\n",
       "      <td>94025</td>\n",
       "      <td>Palo Alto</td>\n",
       "    </tr>\n",
       "    <tr>\n",
       "      <th>1354</th>\n",
       "      <td>6340</td>\n",
       "      <td>2746</td>\n",
       "      <td>2013-08-30 18:48:00</td>\n",
       "      <td>University and Emerson</td>\n",
       "      <td>35</td>\n",
       "      <td>2013-08-30 19:34:00</td>\n",
       "      <td>9_0</td>\n",
       "      <td>35</td>\n",
       "      <td>9_0</td>\n",
       "      <td>Customer</td>\n",
       "      <td>94301</td>\n",
       "      <td>Palo Alto</td>\n",
       "    </tr>\n",
       "    <tr>\n",
       "      <th>1717</th>\n",
       "      <td>7123</td>\n",
       "      <td>996</td>\n",
       "      <td>2013-08-31 15:39:00</td>\n",
       "      <td>University and Emerson</td>\n",
       "      <td>35</td>\n",
       "      <td>2013-08-31 15:56:00</td>\n",
       "      <td>9_0</td>\n",
       "      <td>36</td>\n",
       "      <td>9_0</td>\n",
       "      <td>Customer</td>\n",
       "      <td>10003</td>\n",
       "      <td>Palo Alto</td>\n",
       "    </tr>\n",
       "    <tr>\n",
       "      <th>1837</th>\n",
       "      <td>7384</td>\n",
       "      <td>1398</td>\n",
       "      <td>2013-08-31 19:02:00</td>\n",
       "      <td>California Ave Caltrain Station</td>\n",
       "      <td>36</td>\n",
       "      <td>2013-08-31 19:26:00</td>\n",
       "      <td>9_0</td>\n",
       "      <td>35</td>\n",
       "      <td>9_0</td>\n",
       "      <td>Customer</td>\n",
       "      <td>10036</td>\n",
       "      <td>Palo Alto</td>\n",
       "    </tr>\n",
       "    <tr>\n",
       "      <th>1995</th>\n",
       "      <td>6701</td>\n",
       "      <td>9826</td>\n",
       "      <td>2013-08-31 11:45:00</td>\n",
       "      <td>University and Emerson</td>\n",
       "      <td>35</td>\n",
       "      <td>2013-08-31 14:29:00</td>\n",
       "      <td>9_0</td>\n",
       "      <td>35</td>\n",
       "      <td>9_0</td>\n",
       "      <td>Customer</td>\n",
       "      <td>NaN</td>\n",
       "      <td>Palo Alto</td>\n",
       "    </tr>\n",
       "  </tbody>\n",
       "</table>\n",
       "</div>"
      ],
      "text/plain": [
       "        id  duration          start_date               start_station_name  \\\n",
       "207   4298       460 2013-08-29 12:02:00             Cowper at University   \n",
       "1354  6340      2746 2013-08-30 18:48:00           University and Emerson   \n",
       "1717  7123       996 2013-08-31 15:39:00           University and Emerson   \n",
       "1837  7384      1398 2013-08-31 19:02:00  California Ave Caltrain Station   \n",
       "1995  6701      9826 2013-08-31 11:45:00           University and Emerson   \n",
       "\n",
       "      start_station_id            end_date end_station_name  end_station_id  \\\n",
       "207                 37 2013-08-29 12:10:00              9_0              35   \n",
       "1354                35 2013-08-30 19:34:00              9_0              35   \n",
       "1717                35 2013-08-31 15:56:00              9_0              36   \n",
       "1837                36 2013-08-31 19:26:00              9_0              35   \n",
       "1995                35 2013-08-31 14:29:00              9_0              35   \n",
       "\n",
       "     bike_id subscription_type zip_code       city  \n",
       "207      9_0        Subscriber    94025  Palo Alto  \n",
       "1354     9_0          Customer    94301  Palo Alto  \n",
       "1717     9_0          Customer    10003  Palo Alto  \n",
       "1837     9_0          Customer    10036  Palo Alto  \n",
       "1995     9_0          Customer      NaN  Palo Alto  "
      ]
     },
     "execution_count": 44,
     "metadata": {},
     "output_type": "execute_result"
    }
   ],
   "source": [
    "life_bike.head()"
   ]
  },
  {
   "cell_type": "code",
   "execution_count": 45,
   "metadata": {
    "collapsed": true
   },
   "outputs": [],
   "source": [
    "life_bike = life_bike.groupby('bike_id').sum()"
   ]
  },
  {
   "cell_type": "code",
   "execution_count": 53,
   "metadata": {
    "collapsed": true,
    "scrolled": true
   },
   "outputs": [],
   "source": [
    "t = life_bike[['duration']]"
   ]
  },
  {
   "cell_type": "code",
   "execution_count": 58,
   "metadata": {
    "collapsed": false
   },
   "outputs": [
    {
     "name": "stderr",
     "output_type": "stream",
     "text": [
      "C:\\Users\\Xuancheng Fan\\AppData\\Local\\Programs\\Python\\Python35\\lib\\site-packages\\ipykernel_launcher.py:1: SettingWithCopyWarning: \n",
      "A value is trying to be set on a copy of a slice from a DataFrame.\n",
      "Try using .loc[row_indexer,col_indexer] = value instead\n",
      "\n",
      "See the caveats in the documentation: http://pandas.pydata.org/pandas-docs/stable/indexing.html#indexing-view-versus-copy\n",
      "  \"\"\"Entry point for launching an IPython kernel.\n"
     ]
    }
   ],
   "source": [
    "t['bike_id'] = t.index"
   ]
  },
  {
   "cell_type": "code",
   "execution_count": 60,
   "metadata": {
    "collapsed": true
   },
   "outputs": [],
   "source": [
    "t = t.reset_index(drop=True)"
   ]
  },
  {
   "cell_type": "code",
   "execution_count": 62,
   "metadata": {
    "collapsed": true
   },
   "outputs": [],
   "source": [
    "t.to_csv('life_groupby.csv')"
   ]
  },
  {
   "cell_type": "code",
   "execution_count": null,
   "metadata": {
    "collapsed": true
   },
   "outputs": [],
   "source": []
  },
  {
   "cell_type": "code",
   "execution_count": null,
   "metadata": {
    "collapsed": true
   },
   "outputs": [],
   "source": []
  },
  {
   "cell_type": "code",
   "execution_count": 54,
   "metadata": {
    "collapsed": false,
    "scrolled": true
   },
   "outputs": [
    {
     "data": {
      "text/plain": [
       "bike_id\n",
       "100_0     81303\n",
       "100_1     35732\n",
       "100_2    109606\n",
       "100_3       683\n",
       "100_4      2665\n",
       "100_5     12348\n",
       "100_6    330053\n",
       "101_0     14458\n",
       "101_1     30148\n",
       "101_2      5028\n",
       "101_3     65944\n",
       "102_0     20244\n",
       "102_1     25782\n",
       "102_2    111882\n",
       "103_0     73637\n",
       "103_1     29111\n",
       "103_2     32215\n",
       "103_3      2699\n",
       "104_0       462\n",
       "104_1        92\n",
       "104_2     15229\n",
       "104_3       357\n",
       "104_4     66417\n",
       "104_5    144016\n",
       "105_0    289520\n",
       "105_1      6932\n",
       "105_2     18672\n",
       "10_0       6982\n",
       "10_1       5380\n",
       "10_2     110494\n",
       "          ...  \n",
       "94_1      19779\n",
       "94_2        558\n",
       "94_3      99370\n",
       "95_0      20580\n",
       "95_1        656\n",
       "95_2      79571\n",
       "95_3       2360\n",
       "95_4     335306\n",
       "96_0      22166\n",
       "96_1       9635\n",
       "96_2       5993\n",
       "96_3       2100\n",
       "96_4      18362\n",
       "96_5     124040\n",
       "97_0       3293\n",
       "97_1      28935\n",
       "97_2       3459\n",
       "97_3       8121\n",
       "97_4     175050\n",
       "98_0      25821\n",
       "98_1     124265\n",
       "98_2     120844\n",
       "99_0     283664\n",
       "99_1       3808\n",
       "99_2       7286\n",
       "99_3       6868\n",
       "99_4      66075\n",
       "9_0      118941\n",
       "9_1         616\n",
       "9_2      102340\n",
       "Name: sum, Length: 499, dtype: int64"
      ]
     },
     "execution_count": 54,
     "metadata": {},
     "output_type": "execute_result"
    }
   ],
   "source": [
    "t['duration']['sum']"
   ]
  },
  {
   "cell_type": "code",
   "execution_count": 59,
   "metadata": {
    "collapsed": false
   },
   "outputs": [
    {
     "data": {
      "image/png": "[encoded data removed]",
      "text/plain": [
       "<matplotlib.figure.Figure at 0x220086b19e8>"
      ]
     },
     "metadata": {},
     "output_type": "display_data"
    }
   ],
   "source": [
    "# Your code here\n",
    "fig, ax = plt.subplots(figsize = [20,20], facecolor=[0.9,0.9,0.9])\n",
    "\n",
    "ax.spines['right'].set_color('none')\n",
    "ax.spines['top'].set_color('none')\n",
    "\n",
    "ax.xaxis.set_ticks_position('bottom')\n",
    "#ax.spines['bottom'].set_position(('data',0)) # set position of x spine to x=0\n",
    "\n",
    "ax.yaxis.set_ticks_position('left')\n",
    "#ax.spines['left'].set_position(('data',0))   # set position of y spine to y=0\n",
    "\n",
    "x_axis1=t['duration']['mean']\n",
    "y_axis1=t['duration']['sum']\n",
    "\n",
    "ax.scatter(x_axis1, y_axis1, c='b', marker=\"o\")\n",
    "ax.set_xlim([0,20000])\n",
    "#ax.set_xticks(range(len(feature_list)))\n",
    "\n",
    "#ax.set_xticklabels(feature_list,fontsize=12)\n",
    "\n",
    "\n",
    "plt.xlabel('average trip time(sec)')\n",
    "plt.ylabel('life cycle(sec)')\n",
    "plt.title('average trip time vs life cycle')\n",
    "\n",
    "\n",
    "plt.show()"
   ]
  },
  {
   "cell_type": "code",
   "execution_count": 63,
   "metadata": {
    "collapsed": true
   },
   "outputs": [],
   "source": [
    "with open('final_id_trimmed.list', 'rb') as fin:\n",
    "    final_list = pickle.load(fin)"
   ]
  },
  {
   "cell_type": "code",
   "execution_count": 65,
   "metadata": {
    "collapsed": false
   },
   "outputs": [
    {
     "data": {
      "text/plain": [
       "700"
      ]
     },
     "execution_count": 65,
     "metadata": {},
     "output_type": "execute_result"
    }
   ],
   "source": [
    "len(final_list)"
   ]
  },
  {
   "cell_type": "code",
   "execution_count": 66,
   "metadata": {
    "collapsed": true
   },
   "outputs": [],
   "source": [
    "life_cycle_trimmed = pd.read_csv('life_cycle_trimmed.csv')"
   ]
  },
  {
   "cell_type": "code",
   "execution_count": 68,
   "metadata": {
    "collapsed": true
   },
   "outputs": [],
   "source": [
    "life_cycle_trimmed['bike_id'] = life_cycle_trimmed['end_station_name'] "
   ]
  },
  {
   "cell_type": "code",
   "execution_count": 72,
   "metadata": {
    "collapsed": false
   },
   "outputs": [
    {
     "data": {
      "text/plain": [
       "3273"
      ]
     },
     "execution_count": 72,
     "metadata": {},
     "output_type": "execute_result"
    }
   ],
   "source": [
    "len(life_cycle_trimmed.bike_id.unique())"
   ]
  },
  {
   "cell_type": "code",
   "execution_count": 75,
   "metadata": {
    "collapsed": true
   },
   "outputs": [],
   "source": [
    "temp = life_cycle_trimmed[~life_cycle_trimmed['bike_id'].isin(final_list)]"
   ]
  },
  {
   "cell_type": "code",
   "execution_count": 77,
   "metadata": {
    "collapsed": false
   },
   "outputs": [
    {
     "data": {
      "text/plain": [
       "(301980, 13)"
      ]
     },
     "execution_count": 77,
     "metadata": {},
     "output_type": "execute_result"
    }
   ],
   "source": [
    "temp.shape"
   ]
  },
  {
   "cell_type": "code",
   "execution_count": 80,
   "metadata": {
    "collapsed": true
   },
   "outputs": [],
   "source": [
    "temp.to_csv('life_cycle_remove_lastid.csv')"
   ]
  },
  {
   "cell_type": "code",
   "execution_count": null,
   "metadata": {
    "collapsed": true
   },
   "outputs": [],
   "source": []
  }
 ],
 "metadata": {
  "kernelspec": {
   "display_name": "py35",
   "language": "python",
   "name": "py35"
  },
  "language_info": {
   "codemirror_mode": {
    "name": "ipython",
    "version": 3
   },
   "file_extension": ".py",
   "mimetype": "text/x-python",
   "name": "python",
   "nbconvert_exporter": "python",
   "pygments_lexer": "ipython3",
   "version": "3.5.3"
  }
 },
 "nbformat": 4,
 "nbformat_minor": 2
}
